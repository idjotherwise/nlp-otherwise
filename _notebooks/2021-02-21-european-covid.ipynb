{
 "cells": [
  {
   "cell_type": "markdown",
   "id": "26ecbc00",
   "metadata": {
    "ExecuteTime": {
     "end_time": "2021-02-21T18:05:31.321700Z",
     "start_time": "2021-02-21T18:05:31.315068Z"
    },
    "papermill": {
     "duration": 0.010836,
     "end_time": "2022-07-01T14:13:13.192737",
     "exception": false,
     "start_time": "2022-07-01T14:13:13.181901",
     "status": "completed"
    },
    "tags": []
   },
   "source": [
    "# \"European Covid data exploration\"\n",
    "> \"Exploring which countries have had the highest and lowest covid numbers in Europe\"\n",
    "\n",
    "- toc: true\n",
    "- branch: master\n",
    "- badges: true\n",
    "- comments: false\n",
    "- author: Ifan Johnston\n",
    "- categories: [covid]"
   ]
  },
  {
   "cell_type": "markdown",
   "id": "f5567209",
   "metadata": {
    "papermill": {
     "duration": 0.009504,
     "end_time": "2022-07-01T14:13:13.212959",
     "exception": false,
     "start_time": "2022-07-01T14:13:13.203455",
     "status": "completed"
    },
    "tags": []
   },
   "source": [
    "# Importing and preparing the data\n",
    "\n",
    "We will be looking at data from the following countries:\n",
    "\n",
    "- Italy\n",
    "- Austria\n",
    "- Germany\n",
    "- Belgium\n",
    "- France\n",
    "- United Kingdom\n",
    "- Portugal\n",
    "\n",
    "We begin by importing the data, and adding some new features so that we can compare the data from different countries. For example we calculate 'confirmed cases per 100k population', 'deaths per 100k' and 'new cases' since these are not initially in the dataset. This data is collected and preprocessed in [this file](https://github.com/idjotherwise/nlp-otherwise/blob/master/src/update_datasets.py)."
   ]
  },
  {
   "cell_type": "code",
   "execution_count": 1,
   "id": "487a80d9",
   "metadata": {
    "ExecuteTime": {
     "end_time": "2021-11-07T14:31:02.789723Z",
     "start_time": "2021-11-07T14:31:02.786713Z"
    },
    "execution": {
     "iopub.execute_input": "2022-07-01T14:13:13.239166Z",
     "iopub.status.busy": "2022-07-01T14:13:13.238691Z",
     "iopub.status.idle": "2022-07-01T14:13:13.577814Z",
     "shell.execute_reply": "2022-07-01T14:13:13.577298Z"
    },
    "papermill": {
     "duration": 0.355469,
     "end_time": "2022-07-01T14:13:13.577941",
     "exception": false,
     "start_time": "2022-07-01T14:13:13.222472",
     "status": "completed"
    },
    "tags": []
   },
   "outputs": [],
   "source": [
    "#collapse\n",
    "\n",
    "import altair as alt\n",
    "import pandas as pd\n",
    "\n",
    "x_small_url = \"https://raw.githubusercontent.com/idjotherwise/nlp-otherwise/master/data_sets/european_covid.csv\""
   ]
  },
  {
   "cell_type": "markdown",
   "id": "21fbc9b2",
   "metadata": {
    "papermill": {
     "duration": 0.009582,
     "end_time": "2022-07-01T14:13:13.597412",
     "exception": false,
     "start_time": "2022-07-01T14:13:13.587830",
     "status": "completed"
    },
    "tags": []
   },
   "source": [
    "Here is a random sample of 5 rows from the dataset."
   ]
  },
  {
   "cell_type": "code",
   "execution_count": 2,
   "id": "75678edc",
   "metadata": {
    "ExecuteTime": {
     "end_time": "2021-11-07T14:31:21.068843Z",
     "start_time": "2021-11-07T14:31:21.016816Z"
    },
    "execution": {
     "iopub.execute_input": "2022-07-01T14:13:13.621175Z",
     "iopub.status.busy": "2022-07-01T14:13:13.620700Z",
     "iopub.status.idle": "2022-07-01T14:13:14.110736Z",
     "shell.execute_reply": "2022-07-01T14:13:14.111114Z"
    },
    "papermill": {
     "duration": 0.504268,
     "end_time": "2022-07-01T14:13:14.111244",
     "exception": false,
     "start_time": "2022-07-01T14:13:13.606976",
     "status": "completed"
    },
    "tags": []
   },
   "outputs": [
    {
     "data": {
      "text/html": [
       "<div>\n",
       "<style scoped>\n",
       "    .dataframe tbody tr th:only-of-type {\n",
       "        vertical-align: middle;\n",
       "    }\n",
       "\n",
       "    .dataframe tbody tr th {\n",
       "        vertical-align: top;\n",
       "    }\n",
       "\n",
       "    .dataframe thead th {\n",
       "        text-align: right;\n",
       "    }\n",
       "</style>\n",
       "<table border=\"1\" class=\"dataframe\">\n",
       "  <thead>\n",
       "    <tr style=\"text-align: right;\">\n",
       "      <th></th>\n",
       "      <th>id</th>\n",
       "      <th>date</th>\n",
       "      <th>vaccines</th>\n",
       "      <th>confirmed</th>\n",
       "      <th>tests</th>\n",
       "      <th>recovered</th>\n",
       "      <th>deaths</th>\n",
       "      <th>population</th>\n",
       "      <th>confirmed_per</th>\n",
       "      <th>deaths_per</th>\n",
       "      <th>ratio</th>\n",
       "      <th>tests_per</th>\n",
       "      <th>vaccines_per</th>\n",
       "      <th>new_cases</th>\n",
       "      <th>new_cases_per</th>\n",
       "    </tr>\n",
       "  </thead>\n",
       "  <tbody>\n",
       "    <tr>\n",
       "      <th>6536</th>\n",
       "      <td>Switzerland</td>\n",
       "      <td>2021-05-10</td>\n",
       "      <td>3411055.0</td>\n",
       "      <td>673483.0</td>\n",
       "      <td>6771686.0</td>\n",
       "      <td>NaN</td>\n",
       "      <td>10247.0</td>\n",
       "      <td>8513227.0</td>\n",
       "      <td>7911.018936</td>\n",
       "      <td>120.365638</td>\n",
       "      <td>1.521493</td>\n",
       "      <td>79543.115672</td>\n",
       "      <td>0.400677</td>\n",
       "      <td>1719.0</td>\n",
       "      <td>20.192108</td>\n",
       "    </tr>\n",
       "    <tr>\n",
       "      <th>4363</th>\n",
       "      <td>Austria</td>\n",
       "      <td>2020-03-29</td>\n",
       "      <td>NaN</td>\n",
       "      <td>9264.0</td>\n",
       "      <td>NaN</td>\n",
       "      <td>1145.0</td>\n",
       "      <td>134.0</td>\n",
       "      <td>8840521.0</td>\n",
       "      <td>104.790204</td>\n",
       "      <td>1.515748</td>\n",
       "      <td>1.446459</td>\n",
       "      <td>NaN</td>\n",
       "      <td>NaN</td>\n",
       "      <td>547.0</td>\n",
       "      <td>6.187418</td>\n",
       "    </tr>\n",
       "    <tr>\n",
       "      <th>3465</th>\n",
       "      <td>France</td>\n",
       "      <td>2020-02-15</td>\n",
       "      <td>NaN</td>\n",
       "      <td>12.0</td>\n",
       "      <td>NaN</td>\n",
       "      <td>4.0</td>\n",
       "      <td>NaN</td>\n",
       "      <td>66977107.0</td>\n",
       "      <td>0.017917</td>\n",
       "      <td>NaN</td>\n",
       "      <td>NaN</td>\n",
       "      <td>NaN</td>\n",
       "      <td>NaN</td>\n",
       "      <td>1.0</td>\n",
       "      <td>0.001493</td>\n",
       "    </tr>\n",
       "    <tr>\n",
       "      <th>3830</th>\n",
       "      <td>France</td>\n",
       "      <td>2021-02-14</td>\n",
       "      <td>3100637.0</td>\n",
       "      <td>3447518.0</td>\n",
       "      <td>48775814.0</td>\n",
       "      <td>NaN</td>\n",
       "      <td>81788.0</td>\n",
       "      <td>66977107.0</td>\n",
       "      <td>5147.308020</td>\n",
       "      <td>122.113366</td>\n",
       "      <td>2.372373</td>\n",
       "      <td>72824.605578</td>\n",
       "      <td>0.046294</td>\n",
       "      <td>15713.0</td>\n",
       "      <td>23.460255</td>\n",
       "    </tr>\n",
       "    <tr>\n",
       "      <th>5438</th>\n",
       "      <td>United Kingdom</td>\n",
       "      <td>2020-10-08</td>\n",
       "      <td>NaN</td>\n",
       "      <td>613642.0</td>\n",
       "      <td>24646063.0</td>\n",
       "      <td>NaN</td>\n",
       "      <td>43055.0</td>\n",
       "      <td>66460344.0</td>\n",
       "      <td>923.320529</td>\n",
       "      <td>64.782993</td>\n",
       "      <td>7.016306</td>\n",
       "      <td>37083.863123</td>\n",
       "      <td>NaN</td>\n",
       "      <td>18427.0</td>\n",
       "      <td>27.726308</td>\n",
       "    </tr>\n",
       "  </tbody>\n",
       "</table>\n",
       "</div>"
      ],
      "text/plain": [
       "                  id        date   vaccines  confirmed       tests  recovered  \\\n",
       "6536     Switzerland  2021-05-10  3411055.0   673483.0   6771686.0        NaN   \n",
       "4363         Austria  2020-03-29        NaN     9264.0         NaN     1145.0   \n",
       "3465          France  2020-02-15        NaN       12.0         NaN        4.0   \n",
       "3830          France  2021-02-14  3100637.0  3447518.0  48775814.0        NaN   \n",
       "5438  United Kingdom  2020-10-08        NaN   613642.0  24646063.0        NaN   \n",
       "\n",
       "       deaths  population  confirmed_per  deaths_per     ratio     tests_per  \\\n",
       "6536  10247.0   8513227.0    7911.018936  120.365638  1.521493  79543.115672   \n",
       "4363    134.0   8840521.0     104.790204    1.515748  1.446459           NaN   \n",
       "3465      NaN  66977107.0       0.017917         NaN       NaN           NaN   \n",
       "3830  81788.0  66977107.0    5147.308020  122.113366  2.372373  72824.605578   \n",
       "5438  43055.0  66460344.0     923.320529   64.782993  7.016306  37083.863123   \n",
       "\n",
       "      vaccines_per  new_cases  new_cases_per  \n",
       "6536      0.400677     1719.0      20.192108  \n",
       "4363           NaN      547.0       6.187418  \n",
       "3465           NaN        1.0       0.001493  \n",
       "3830      0.046294    15713.0      23.460255  \n",
       "5438           NaN    18427.0      27.726308  "
      ]
     },
     "execution_count": 2,
     "metadata": {},
     "output_type": "execute_result"
    }
   ],
   "source": [
    "x_small = pd.read_csv(x_small_url)\n",
    "x_small.sample(5)"
   ]
  },
  {
   "cell_type": "markdown",
   "id": "91ca47be",
   "metadata": {
    "papermill": {
     "duration": 0.010027,
     "end_time": "2022-07-01T14:13:14.131469",
     "exception": false,
     "start_time": "2022-07-01T14:13:14.121442",
     "status": "completed"
    },
    "tags": []
   },
   "source": [
    "# Plotting the data"
   ]
  },
  {
   "cell_type": "markdown",
   "id": "f17ae2dc",
   "metadata": {
    "papermill": {
     "duration": 0.009788,
     "end_time": "2022-07-01T14:13:14.151208",
     "exception": false,
     "start_time": "2022-07-01T14:13:14.141420",
     "status": "completed"
    },
    "tags": []
   },
   "source": [
    "We will first look at the total numbers of cases and deaths in each country, before moving on to cases and deaths per 100k population.\n",
    "\n",
    "{% include info.html text=\"In each of the charts below, you can click on the legend to filter the lines shown\" %}"
   ]
  },
  {
   "cell_type": "markdown",
   "id": "fbb461ff",
   "metadata": {
    "papermill": {
     "duration": 0.009865,
     "end_time": "2022-07-01T14:13:14.170931",
     "exception": false,
     "start_time": "2022-07-01T14:13:14.161066",
     "status": "completed"
    },
    "tags": []
   },
   "source": [
    "## Total cases per 100,000"
   ]
  },
  {
   "cell_type": "code",
   "execution_count": 3,
   "id": "b78bd9bb",
   "metadata": {
    "ExecuteTime": {
     "end_time": "2021-11-07T14:33:29.184599Z",
     "start_time": "2021-11-07T14:33:29.133602Z"
    },
    "execution": {
     "iopub.execute_input": "2022-07-01T14:13:14.203003Z",
     "iopub.status.busy": "2022-07-01T14:13:14.197935Z",
     "iopub.status.idle": "2022-07-01T14:13:14.230818Z",
     "shell.execute_reply": "2022-07-01T14:13:14.231177Z"
    },
    "papermill": {
     "duration": 0.050478,
     "end_time": "2022-07-01T14:13:14.231307",
     "exception": false,
     "start_time": "2022-07-01T14:13:14.180829",
     "status": "completed"
    },
    "tags": []
   },
   "outputs": [
    {
     "data": {
      "text/html": [
       "\n",
       "<div id=\"altair-viz-fd94a28e4e9648ce92fe116b91a329f8\"></div>\n",
       "<script type=\"text/javascript\">\n",
       "  (function(spec, embedOpt){\n",
       "    let outputDiv = document.currentScript.previousElementSibling;\n",
       "    if (outputDiv.id !== \"altair-viz-fd94a28e4e9648ce92fe116b91a329f8\") {\n",
       "      outputDiv = document.getElementById(\"altair-viz-fd94a28e4e9648ce92fe116b91a329f8\");\n",
       "    }\n",
       "    const paths = {\n",
       "      \"vega\": \"https://cdn.jsdelivr.net/npm//vega@5?noext\",\n",
       "      \"vega-lib\": \"https://cdn.jsdelivr.net/npm//vega-lib?noext\",\n",
       "      \"vega-lite\": \"https://cdn.jsdelivr.net/npm//vega-lite@4.8.1?noext\",\n",
       "      \"vega-embed\": \"https://cdn.jsdelivr.net/npm//vega-embed@6?noext\",\n",
       "    };\n",
       "\n",
       "    function loadScript(lib) {\n",
       "      return new Promise(function(resolve, reject) {\n",
       "        var s = document.createElement('script');\n",
       "        s.src = paths[lib];\n",
       "        s.async = true;\n",
       "        s.onload = () => resolve(paths[lib]);\n",
       "        s.onerror = () => reject(`Error loading script: ${paths[lib]}`);\n",
       "        document.getElementsByTagName(\"head\")[0].appendChild(s);\n",
       "      });\n",
       "    }\n",
       "\n",
       "    function showError(err) {\n",
       "      outputDiv.innerHTML = `<div class=\"error\" style=\"color:red;\">${err}</div>`;\n",
       "      throw err;\n",
       "    }\n",
       "\n",
       "    function displayChart(vegaEmbed) {\n",
       "      vegaEmbed(outputDiv, spec, embedOpt)\n",
       "        .catch(err => showError(`Javascript Error: ${err.message}<br>This usually means there's a typo in your chart specification. See the javascript console for the full traceback.`));\n",
       "    }\n",
       "\n",
       "    if(typeof define === \"function\" && define.amd) {\n",
       "      requirejs.config({paths});\n",
       "      require([\"vega-embed\"], displayChart, err => showError(`Error loading script: ${err.message}`));\n",
       "    } else if (typeof vegaEmbed === \"function\") {\n",
       "      displayChart(vegaEmbed);\n",
       "    } else {\n",
       "      loadScript(\"vega\")\n",
       "        .then(() => loadScript(\"vega-lite\"))\n",
       "        .then(() => loadScript(\"vega-embed\"))\n",
       "        .catch(showError)\n",
       "        .then(() => displayChart(vegaEmbed));\n",
       "    }\n",
       "  })({\"config\": {\"view\": {\"continuousWidth\": 400, \"continuousHeight\": 300}}, \"data\": {\"url\": \"https://raw.githubusercontent.com/idjotherwise/nlp-otherwise/master/data_sets/european_covid.csv\"}, \"mark\": \"line\", \"encoding\": {\"color\": {\"type\": \"nominal\", \"field\": \"id\", \"legend\": {\"title\": \"Countries\"}}, \"opacity\": {\"condition\": {\"value\": 1, \"selection\": \"selector001\"}, \"value\": 0.2}, \"tooltip\": [{\"type\": \"nominal\", \"field\": \"id\"}, {\"type\": \"quantitative\", \"field\": \"confirmed_per\"}], \"x\": {\"type\": \"temporal\", \"axis\": {\"title\": \"Date\"}, \"field\": \"date\", \"timeUnit\": \"yearmonthdate\"}, \"y\": {\"type\": \"quantitative\", \"axis\": {\"title\": \"Confirmed per 100k\"}, \"field\": \"confirmed_per\"}}, \"selection\": {\"selector001\": {\"type\": \"multi\", \"fields\": [\"id\"], \"bind\": \"legend\"}, \"selector002\": {\"type\": \"interval\", \"bind\": \"scales\", \"encodings\": [\"x\", \"y\"]}}, \"title\": \"Total number of cases per 100,000 population for selected European Countries\", \"transform\": [{\"filter\": \"(datum.confirmed_per > 0)\"}], \"width\": 600, \"$schema\": \"https://vega.github.io/schema/vega-lite/v4.8.1.json\"}, {\"mode\": \"vega-lite\"});\n",
       "</script>"
      ],
      "text/plain": [
       "alt.Chart(...)"
      ]
     },
     "execution_count": 3,
     "metadata": {},
     "output_type": "execute_result"
    }
   ],
   "source": [
    "#collapse\n",
    "\n",
    "leg_selection = alt.selection_multi(fields=['id'], bind='legend')\n",
    "\n",
    "alt.Chart(x_small_url).mark_line().encode(\n",
    "    x=alt.X(\"yearmonthdate(date):T\", axis=alt.Axis(title='Date')),\n",
    "    y=alt.Y(\"confirmed_per:Q\", axis=alt.Axis(title='Confirmed per 100k')),\n",
    "    tooltip=['id:N', 'confirmed_per:Q'],\n",
    "    color=alt.Color('id:N', legend=alt.Legend(title=\"Countries\")),\n",
    "    opacity=alt.condition(leg_selection, alt.value(1), alt.value(0.2))\n",
    ").transform_filter(alt.datum.confirmed_per>0).add_selection(leg_selection).properties(title='Total number of cases per 100,000 population for selected European Countries', width=600).interactive()\n"
   ]
  },
  {
   "cell_type": "markdown",
   "id": "c86ee094",
   "metadata": {
    "papermill": {
     "duration": 0.01033,
     "end_time": "2022-07-01T14:13:14.252154",
     "exception": false,
     "start_time": "2022-07-01T14:13:14.241824",
     "status": "completed"
    },
    "tags": []
   },
   "source": [
    "## Total deaths per 100,000"
   ]
  },
  {
   "cell_type": "code",
   "execution_count": 4,
   "id": "2b81238d",
   "metadata": {
    "ExecuteTime": {
     "end_time": "2021-11-07T14:34:56.819563Z",
     "start_time": "2021-11-07T14:34:56.766129Z"
    },
    "execution": {
     "iopub.execute_input": "2022-07-01T14:13:14.307206Z",
     "iopub.status.busy": "2022-07-01T14:13:14.305216Z",
     "iopub.status.idle": "2022-07-01T14:13:14.309716Z",
     "shell.execute_reply": "2022-07-01T14:13:14.310066Z"
    },
    "papermill": {
     "duration": 0.047804,
     "end_time": "2022-07-01T14:13:14.310191",
     "exception": false,
     "start_time": "2022-07-01T14:13:14.262387",
     "status": "completed"
    },
    "tags": []
   },
   "outputs": [
    {
     "data": {
      "text/html": [
       "\n",
       "<div id=\"altair-viz-74ea114c0cbf4d4ba790777b1f28a367\"></div>\n",
       "<script type=\"text/javascript\">\n",
       "  (function(spec, embedOpt){\n",
       "    let outputDiv = document.currentScript.previousElementSibling;\n",
       "    if (outputDiv.id !== \"altair-viz-74ea114c0cbf4d4ba790777b1f28a367\") {\n",
       "      outputDiv = document.getElementById(\"altair-viz-74ea114c0cbf4d4ba790777b1f28a367\");\n",
       "    }\n",
       "    const paths = {\n",
       "      \"vega\": \"https://cdn.jsdelivr.net/npm//vega@5?noext\",\n",
       "      \"vega-lib\": \"https://cdn.jsdelivr.net/npm//vega-lib?noext\",\n",
       "      \"vega-lite\": \"https://cdn.jsdelivr.net/npm//vega-lite@4.8.1?noext\",\n",
       "      \"vega-embed\": \"https://cdn.jsdelivr.net/npm//vega-embed@6?noext\",\n",
       "    };\n",
       "\n",
       "    function loadScript(lib) {\n",
       "      return new Promise(function(resolve, reject) {\n",
       "        var s = document.createElement('script');\n",
       "        s.src = paths[lib];\n",
       "        s.async = true;\n",
       "        s.onload = () => resolve(paths[lib]);\n",
       "        s.onerror = () => reject(`Error loading script: ${paths[lib]}`);\n",
       "        document.getElementsByTagName(\"head\")[0].appendChild(s);\n",
       "      });\n",
       "    }\n",
       "\n",
       "    function showError(err) {\n",
       "      outputDiv.innerHTML = `<div class=\"error\" style=\"color:red;\">${err}</div>`;\n",
       "      throw err;\n",
       "    }\n",
       "\n",
       "    function displayChart(vegaEmbed) {\n",
       "      vegaEmbed(outputDiv, spec, embedOpt)\n",
       "        .catch(err => showError(`Javascript Error: ${err.message}<br>This usually means there's a typo in your chart specification. See the javascript console for the full traceback.`));\n",
       "    }\n",
       "\n",
       "    if(typeof define === \"function\" && define.amd) {\n",
       "      requirejs.config({paths});\n",
       "      require([\"vega-embed\"], displayChart, err => showError(`Error loading script: ${err.message}`));\n",
       "    } else if (typeof vegaEmbed === \"function\") {\n",
       "      displayChart(vegaEmbed);\n",
       "    } else {\n",
       "      loadScript(\"vega\")\n",
       "        .then(() => loadScript(\"vega-lite\"))\n",
       "        .then(() => loadScript(\"vega-embed\"))\n",
       "        .catch(showError)\n",
       "        .then(() => displayChart(vegaEmbed));\n",
       "    }\n",
       "  })({\"config\": {\"view\": {\"continuousWidth\": 400, \"continuousHeight\": 300}}, \"data\": {\"url\": \"https://raw.githubusercontent.com/idjotherwise/nlp-otherwise/master/data_sets/european_covid.csv\"}, \"mark\": \"line\", \"encoding\": {\"color\": {\"type\": \"nominal\", \"field\": \"id\", \"legend\": {\"title\": \"Countries\"}}, \"opacity\": {\"condition\": {\"value\": 1, \"selection\": \"selector001\"}, \"value\": 0.2}, \"tooltip\": [{\"type\": \"nominal\", \"field\": \"id\"}, {\"type\": \"quantitative\", \"field\": \"deaths_per\"}, {\"type\": \"temporal\", \"field\": \"date\", \"timeUnit\": \"yearmonthdate\"}], \"x\": {\"type\": \"temporal\", \"axis\": {\"title\": \"Date\"}, \"field\": \"date\", \"timeUnit\": \"yearmonthdate\"}, \"y\": {\"type\": \"quantitative\", \"axis\": {\"title\": \"Deaths per 100k\"}, \"field\": \"deaths_per\", \"impute\": {\"value\": 50}}}, \"selection\": {\"selector001\": {\"type\": \"multi\", \"fields\": [\"id\"], \"bind\": \"legend\"}, \"selector003\": {\"type\": \"interval\", \"bind\": \"scales\", \"encodings\": [\"x\", \"y\"]}}, \"title\": \"Number of deaths per 100,000 population for selected European Countries\", \"transform\": [{\"filter\": \"(datum.deaths_per > 0)\"}], \"width\": 600, \"$schema\": \"https://vega.github.io/schema/vega-lite/v4.8.1.json\"}, {\"mode\": \"vega-lite\"});\n",
       "</script>"
      ],
      "text/plain": [
       "alt.Chart(...)"
      ]
     },
     "execution_count": 4,
     "metadata": {},
     "output_type": "execute_result"
    }
   ],
   "source": [
    "#collapse\n",
    "alt.Chart(x_small_url).mark_line().encode(\n",
    "    x=alt.X(\"yearmonthdate(date):T\", axis=alt.Axis(title='Date')),\n",
    "    y=alt.Y(\"deaths_per:Q\", axis=alt.Axis(title='Deaths per 100k'), impute=alt.ImputeParams(value=50)),\n",
    "    tooltip=[\"id:N\", \"deaths_per:Q\", \"yearmonthdate(date):T\"],\n",
    "    color=alt.Color('id:N', legend=alt.Legend(title=\"Countries\")),\n",
    "    opacity=alt.condition(leg_selection, alt.value(1), alt.value(0.2))\n",
    ").transform_filter(alt.datum.deaths_per>0).add_selection(leg_selection).properties(title='Number of deaths per 100,000 population for selected European Countries', width=600).interactive()"
   ]
  },
  {
   "cell_type": "markdown",
   "id": "ff216a63",
   "metadata": {
    "papermill": {
     "duration": 0.01079,
     "end_time": "2022-07-01T14:13:14.331755",
     "exception": false,
     "start_time": "2022-07-01T14:13:14.320965",
     "status": "completed"
    },
    "tags": []
   },
   "source": [
    "## Two week incidence rate"
   ]
  },
  {
   "cell_type": "code",
   "execution_count": 5,
   "id": "e352d090",
   "metadata": {
    "ExecuteTime": {
     "end_time": "2021-11-07T14:37:17.617319Z",
     "start_time": "2021-11-07T14:37:17.512572Z"
    },
    "execution": {
     "iopub.execute_input": "2022-07-01T14:13:14.375650Z",
     "iopub.status.busy": "2022-07-01T14:13:14.370539Z",
     "iopub.status.idle": "2022-07-01T14:13:14.398567Z",
     "shell.execute_reply": "2022-07-01T14:13:14.398185Z"
    },
    "papermill": {
     "duration": 0.055977,
     "end_time": "2022-07-01T14:13:14.398670",
     "exception": false,
     "start_time": "2022-07-01T14:13:14.342693",
     "status": "completed"
    },
    "scrolled": false,
    "tags": []
   },
   "outputs": [
    {
     "data": {
      "text/html": [
       "\n",
       "<div id=\"altair-viz-0f5da2281981491185bcd7bd77ce2ab7\"></div>\n",
       "<script type=\"text/javascript\">\n",
       "  (function(spec, embedOpt){\n",
       "    let outputDiv = document.currentScript.previousElementSibling;\n",
       "    if (outputDiv.id !== \"altair-viz-0f5da2281981491185bcd7bd77ce2ab7\") {\n",
       "      outputDiv = document.getElementById(\"altair-viz-0f5da2281981491185bcd7bd77ce2ab7\");\n",
       "    }\n",
       "    const paths = {\n",
       "      \"vega\": \"https://cdn.jsdelivr.net/npm//vega@5?noext\",\n",
       "      \"vega-lib\": \"https://cdn.jsdelivr.net/npm//vega-lib?noext\",\n",
       "      \"vega-lite\": \"https://cdn.jsdelivr.net/npm//vega-lite@4.8.1?noext\",\n",
       "      \"vega-embed\": \"https://cdn.jsdelivr.net/npm//vega-embed@6?noext\",\n",
       "    };\n",
       "\n",
       "    function loadScript(lib) {\n",
       "      return new Promise(function(resolve, reject) {\n",
       "        var s = document.createElement('script');\n",
       "        s.src = paths[lib];\n",
       "        s.async = true;\n",
       "        s.onload = () => resolve(paths[lib]);\n",
       "        s.onerror = () => reject(`Error loading script: ${paths[lib]}`);\n",
       "        document.getElementsByTagName(\"head\")[0].appendChild(s);\n",
       "      });\n",
       "    }\n",
       "\n",
       "    function showError(err) {\n",
       "      outputDiv.innerHTML = `<div class=\"error\" style=\"color:red;\">${err}</div>`;\n",
       "      throw err;\n",
       "    }\n",
       "\n",
       "    function displayChart(vegaEmbed) {\n",
       "      vegaEmbed(outputDiv, spec, embedOpt)\n",
       "        .catch(err => showError(`Javascript Error: ${err.message}<br>This usually means there's a typo in your chart specification. See the javascript console for the full traceback.`));\n",
       "    }\n",
       "\n",
       "    if(typeof define === \"function\" && define.amd) {\n",
       "      requirejs.config({paths});\n",
       "      require([\"vega-embed\"], displayChart, err => showError(`Error loading script: ${err.message}`));\n",
       "    } else if (typeof vegaEmbed === \"function\") {\n",
       "      displayChart(vegaEmbed);\n",
       "    } else {\n",
       "      loadScript(\"vega\")\n",
       "        .then(() => loadScript(\"vega-lite\"))\n",
       "        .then(() => loadScript(\"vega-embed\"))\n",
       "        .catch(showError)\n",
       "        .then(() => displayChart(vegaEmbed));\n",
       "    }\n",
       "  })({\"config\": {\"view\": {\"continuousWidth\": 400, \"continuousHeight\": 300}}, \"vconcat\": [{\"mark\": \"line\", \"encoding\": {\"color\": {\"type\": \"nominal\", \"field\": \"id\", \"legend\": {\"title\": \"Countries\"}}, \"opacity\": {\"condition\": {\"value\": 1, \"selection\": \"selector001\"}, \"value\": 0.2}, \"tooltip\": [{\"type\": \"nominal\", \"field\": \"id\"}, {\"type\": \"quantitative\", \"field\": \"rolling_mean\"}], \"x\": {\"type\": \"temporal\", \"axis\": {\"title\": \"Date\"}, \"field\": \"date\", \"scale\": {\"domain\": {\"selection\": \"selector004\"}}, \"timeUnit\": \"yearmonthdate\"}, \"y\": {\"type\": \"quantitative\", \"axis\": {\"title\": \"Incidence rate\"}, \"field\": \"rolling_mean\"}}, \"height\": 400, \"selection\": {\"selector001\": {\"type\": \"multi\", \"fields\": [\"id\"], \"bind\": \"legend\"}}, \"title\": \"Number of new cases per 100,000 over two weeks for selected countries\", \"transform\": [{\"filter\": \"(datum.new_cases_per > 0)\"}, {\"window\": [{\"op\": \"sum\", \"field\": \"new_cases_per\", \"as\": \"rolling_mean\"}], \"frame\": [-14, 0], \"groupby\": [\"id:N\"]}], \"width\": 600}, {\"mark\": \"line\", \"encoding\": {\"color\": {\"type\": \"nominal\", \"field\": \"id\", \"legend\": {\"title\": \"Countries\"}}, \"opacity\": {\"condition\": {\"value\": 1, \"selection\": \"selector001\"}, \"value\": 0.2}, \"tooltip\": [{\"type\": \"nominal\", \"field\": \"id\"}, {\"type\": \"quantitative\", \"field\": \"rolling_mean\"}], \"x\": {\"type\": \"temporal\", \"axis\": {\"title\": \"Date\"}, \"field\": \"date\", \"timeUnit\": \"yearmonthdate\"}, \"y\": {\"type\": \"quantitative\", \"axis\": {\"title\": \"Incidence rate\"}, \"field\": \"rolling_mean\"}}, \"height\": 60, \"selection\": {\"selector001\": {\"type\": \"multi\", \"fields\": [\"id\"], \"bind\": \"legend\"}, \"selector004\": {\"type\": \"interval\", \"encodings\": [\"x\"]}}, \"title\": \"Number of new cases per 100,000 over two weeks for selected countries\", \"transform\": [{\"filter\": \"(datum.new_cases_per > 0)\"}, {\"window\": [{\"op\": \"sum\", \"field\": \"new_cases_per\", \"as\": \"rolling_mean\"}], \"frame\": [-14, 0], \"groupby\": [\"id:N\"]}], \"width\": 600}], \"data\": {\"url\": \"https://raw.githubusercontent.com/idjotherwise/nlp-otherwise/master/data_sets/european_covid.csv\"}, \"$schema\": \"https://vega.github.io/schema/vega-lite/v4.8.1.json\"}, {\"mode\": \"vega-lite\"});\n",
       "</script>"
      ],
      "text/plain": [
       "alt.VConcatChart(...)"
      ]
     },
     "execution_count": 5,
     "metadata": {},
     "output_type": "execute_result"
    }
   ],
   "source": [
    "#collapse\n",
    "brush = alt.selection(type='interval', encodings=['x'])\n",
    "\n",
    "base = alt.Chart(x_small_url).mark_line().transform_filter(alt.datum.new_cases_per>0).transform_window(\n",
    "    rolling_mean='sum(new_cases_per)',\n",
    "    frame=[-14, 0],\n",
    "    groupby=['id:N']\n",
    ").encode(\n",
    "    x=alt.X(\"yearmonthdate(date):T\",\n",
    "            axis=alt.Axis(title='Date')\n",
    "           ),\n",
    "    y=alt.Y(\"rolling_mean:Q\",\n",
    "            axis=alt.Axis(title='Incidence rate')\n",
    "           ),\n",
    "    tooltip=['id:N', 'rolling_mean:Q'],\n",
    "    color=alt.Color('id:N', legend=alt.Legend(title=\"Countries\")),\n",
    "    opacity=alt.condition(leg_selection, alt.value(1), alt.value(0.2))\n",
    ").add_selection(leg_selection).properties(\n",
    "    width=600,\n",
    "    height=400,\n",
    "    title='Number of new cases per 100,000 over two weeks for selected countries'\n",
    ")\n",
    "\n",
    "upper = base.encode(\n",
    "    alt.X('yearmonthdate(date):T',axis=alt.Axis(title='Date'),\n",
    "          scale=alt.Scale(domain=brush))\n",
    ")\n",
    "\n",
    "lower = base.properties(\n",
    "    height=60\n",
    ").add_selection(brush)\n",
    "\n",
    "upper & lower"
   ]
  },
  {
   "cell_type": "markdown",
   "id": "49bc0f04",
   "metadata": {
    "papermill": {
     "duration": 0.011205,
     "end_time": "2022-07-01T14:13:14.421078",
     "exception": false,
     "start_time": "2022-07-01T14:13:14.409873",
     "status": "completed"
    },
    "tags": []
   },
   "source": [
    "The ratio of confirmed cases and deaths gives an indication of what the case fatality rate is - it seems to be between 2 and 3%, assuming that the countries listed here are catching all positive cases (which they probably aren't, so it's likely lower than this)."
   ]
  },
  {
   "cell_type": "markdown",
   "id": "0d96571c",
   "metadata": {
    "papermill": {
     "duration": 0.011132,
     "end_time": "2022-07-01T14:13:14.443422",
     "exception": false,
     "start_time": "2022-07-01T14:13:14.432290",
     "status": "completed"
    },
    "tags": []
   },
   "source": [
    "## Case fatality rate"
   ]
  },
  {
   "cell_type": "code",
   "execution_count": 6,
   "id": "1381df3d",
   "metadata": {
    "ExecuteTime": {
     "end_time": "2021-11-07T14:40:18.149796Z",
     "start_time": "2021-11-07T14:40:18.098057Z"
    },
    "execution": {
     "iopub.execute_input": "2022-07-01T14:13:14.488364Z",
     "iopub.status.busy": "2022-07-01T14:13:14.478179Z",
     "iopub.status.idle": "2022-07-01T14:13:14.500870Z",
     "shell.execute_reply": "2022-07-01T14:13:14.501212Z"
    },
    "papermill": {
     "duration": 0.046575,
     "end_time": "2022-07-01T14:13:14.501340",
     "exception": false,
     "start_time": "2022-07-01T14:13:14.454765",
     "status": "completed"
    },
    "tags": []
   },
   "outputs": [
    {
     "data": {
      "text/html": [
       "\n",
       "<div id=\"altair-viz-ca4ab57105574864bec6faa99ea973ce\"></div>\n",
       "<script type=\"text/javascript\">\n",
       "  (function(spec, embedOpt){\n",
       "    let outputDiv = document.currentScript.previousElementSibling;\n",
       "    if (outputDiv.id !== \"altair-viz-ca4ab57105574864bec6faa99ea973ce\") {\n",
       "      outputDiv = document.getElementById(\"altair-viz-ca4ab57105574864bec6faa99ea973ce\");\n",
       "    }\n",
       "    const paths = {\n",
       "      \"vega\": \"https://cdn.jsdelivr.net/npm//vega@5?noext\",\n",
       "      \"vega-lib\": \"https://cdn.jsdelivr.net/npm//vega-lib?noext\",\n",
       "      \"vega-lite\": \"https://cdn.jsdelivr.net/npm//vega-lite@4.8.1?noext\",\n",
       "      \"vega-embed\": \"https://cdn.jsdelivr.net/npm//vega-embed@6?noext\",\n",
       "    };\n",
       "\n",
       "    function loadScript(lib) {\n",
       "      return new Promise(function(resolve, reject) {\n",
       "        var s = document.createElement('script');\n",
       "        s.src = paths[lib];\n",
       "        s.async = true;\n",
       "        s.onload = () => resolve(paths[lib]);\n",
       "        s.onerror = () => reject(`Error loading script: ${paths[lib]}`);\n",
       "        document.getElementsByTagName(\"head\")[0].appendChild(s);\n",
       "      });\n",
       "    }\n",
       "\n",
       "    function showError(err) {\n",
       "      outputDiv.innerHTML = `<div class=\"error\" style=\"color:red;\">${err}</div>`;\n",
       "      throw err;\n",
       "    }\n",
       "\n",
       "    function displayChart(vegaEmbed) {\n",
       "      vegaEmbed(outputDiv, spec, embedOpt)\n",
       "        .catch(err => showError(`Javascript Error: ${err.message}<br>This usually means there's a typo in your chart specification. See the javascript console for the full traceback.`));\n",
       "    }\n",
       "\n",
       "    if(typeof define === \"function\" && define.amd) {\n",
       "      requirejs.config({paths});\n",
       "      require([\"vega-embed\"], displayChart, err => showError(`Error loading script: ${err.message}`));\n",
       "    } else if (typeof vegaEmbed === \"function\") {\n",
       "      displayChart(vegaEmbed);\n",
       "    } else {\n",
       "      loadScript(\"vega\")\n",
       "        .then(() => loadScript(\"vega-lite\"))\n",
       "        .then(() => loadScript(\"vega-embed\"))\n",
       "        .catch(showError)\n",
       "        .then(() => displayChart(vegaEmbed));\n",
       "    }\n",
       "  })({\"config\": {\"view\": {\"continuousWidth\": 400, \"continuousHeight\": 300}}, \"vconcat\": [{\"mark\": \"line\", \"encoding\": {\"color\": {\"type\": \"nominal\", \"field\": \"id\", \"legend\": {\"title\": \"Countries\"}}, \"opacity\": {\"condition\": {\"value\": 1, \"selection\": \"selector001\"}, \"value\": 0.2}, \"tooltip\": {\"type\": \"nominal\", \"field\": \"id\"}, \"x\": {\"type\": \"temporal\", \"axis\": {\"title\": \"Date\"}, \"field\": \"date\", \"scale\": {\"domain\": {\"selection\": \"selector004\"}}, \"timeUnit\": \"yearmonthdate\"}, \"y\": {\"type\": \"quantitative\", \"axis\": {\"title\": \"Ratio of deaths per case\"}, \"field\": \"ratio\"}}, \"selection\": {\"selector001\": {\"type\": \"multi\", \"fields\": [\"id\"], \"bind\": \"legend\"}}, \"title\": \"The ratio of deaths to confirmed cases (case fatality rate)\", \"transform\": [{\"filter\": \"(datum.ratio > 0)\"}], \"width\": 600}, {\"mark\": \"line\", \"encoding\": {\"color\": {\"type\": \"nominal\", \"field\": \"id\", \"legend\": {\"title\": \"Countries\"}}, \"opacity\": {\"condition\": {\"value\": 1, \"selection\": \"selector001\"}, \"value\": 0.2}, \"tooltip\": {\"type\": \"nominal\", \"field\": \"id\"}, \"x\": {\"type\": \"temporal\", \"axis\": {\"title\": \"Date\"}, \"field\": \"date\", \"timeUnit\": \"yearmonthdate\"}, \"y\": {\"type\": \"quantitative\", \"axis\": {\"title\": \"Ratio of deaths per case\"}, \"field\": \"ratio\"}}, \"height\": 60, \"selection\": {\"selector001\": {\"type\": \"multi\", \"fields\": [\"id\"], \"bind\": \"legend\"}, \"selector004\": {\"type\": \"interval\", \"encodings\": [\"x\"]}}, \"title\": \"The ratio of deaths to confirmed cases (case fatality rate)\", \"transform\": [{\"filter\": \"(datum.ratio > 0)\"}], \"width\": 600}], \"data\": {\"url\": \"https://raw.githubusercontent.com/idjotherwise/nlp-otherwise/master/data_sets/european_covid.csv\"}, \"$schema\": \"https://vega.github.io/schema/vega-lite/v4.8.1.json\"}, {\"mode\": \"vega-lite\"});\n",
       "</script>"
      ],
      "text/plain": [
       "alt.VConcatChart(...)"
      ]
     },
     "execution_count": 6,
     "metadata": {},
     "output_type": "execute_result"
    }
   ],
   "source": [
    "#collapse\n",
    "base = alt.Chart(x_small_url).mark_line().transform_filter(alt.datum.ratio>0).encode(\n",
    "    x=alt.X(\"yearmonthdate(date):T\", axis=alt.Axis(title='Date')),\n",
    "    y=alt.Y(\"ratio:Q\", axis=alt.Axis(title='Ratio of deaths per case')),\n",
    "    tooltip='id:N',\n",
    "    color=alt.Color('id:N', legend=alt.Legend(title=\"Countries\")),\n",
    "opacity=alt.condition(leg_selection, alt.value(1), alt.value(0.2))\n",
    ").add_selection(leg_selection).properties(title='The ratio of deaths to confirmed cases (case fatality rate)', width=600)\n",
    "\n",
    "upper = base.encode(\n",
    "    alt.X('yearmonthdate(date):T',axis=alt.Axis(title='Date'),\n",
    "          scale=alt.Scale(domain=brush))\n",
    ")\n",
    "\n",
    "lower = base.properties(\n",
    "    height=60\n",
    ").add_selection(brush)\n",
    "\n",
    "upper & lower"
   ]
  },
  {
   "cell_type": "markdown",
   "id": "817864b6",
   "metadata": {
    "papermill": {
     "duration": 0.011561,
     "end_time": "2022-07-01T14:13:14.524480",
     "exception": false,
     "start_time": "2022-07-01T14:13:14.512919",
     "status": "completed"
    },
    "tags": []
   },
   "source": [
    "# Vaccines"
   ]
  },
  {
   "cell_type": "markdown",
   "id": "db42f003",
   "metadata": {
    "papermill": {
     "duration": 0.011528,
     "end_time": "2022-07-01T14:13:14.547569",
     "exception": false,
     "start_time": "2022-07-01T14:13:14.536041",
     "status": "completed"
    },
    "tags": []
   },
   "source": [
    "In the chart below we plot the number vaccines given per population - this means that if the number is 1, then the country has given the equivalent of 1 shot for each person in the country. Since not everyone in the countries are eligible to get the vaccine, a ratio of 1 means that many people have recieved two jabs. Note also that some kinds of vaccines (the J&J's [Janssen vaccine](https://www.cdc.gov/coronavirus/2019-ncov/vaccines/different-vaccines/janssen.html), for example) only require 1 shot so the goal is not neccesarily to reach exactly 2 shots per person in the whole country."
   ]
  },
  {
   "cell_type": "code",
   "execution_count": 7,
   "id": "70a61e21",
   "metadata": {
    "ExecuteTime": {
     "end_time": "2021-11-07T14:41:13.331122Z",
     "start_time": "2021-11-07T14:41:13.283828Z"
    },
    "execution": {
     "iopub.execute_input": "2022-07-01T14:13:14.588296Z",
     "iopub.status.busy": "2022-07-01T14:13:14.578104Z",
     "iopub.status.idle": "2022-07-01T14:13:14.604651Z",
     "shell.execute_reply": "2022-07-01T14:13:14.605002Z"
    },
    "papermill": {
     "duration": 0.04583,
     "end_time": "2022-07-01T14:13:14.605130",
     "exception": false,
     "start_time": "2022-07-01T14:13:14.559300",
     "status": "completed"
    },
    "tags": []
   },
   "outputs": [
    {
     "data": {
      "text/html": [
       "\n",
       "<div id=\"altair-viz-f9eb821312974e53af4e088016733409\"></div>\n",
       "<script type=\"text/javascript\">\n",
       "  (function(spec, embedOpt){\n",
       "    let outputDiv = document.currentScript.previousElementSibling;\n",
       "    if (outputDiv.id !== \"altair-viz-f9eb821312974e53af4e088016733409\") {\n",
       "      outputDiv = document.getElementById(\"altair-viz-f9eb821312974e53af4e088016733409\");\n",
       "    }\n",
       "    const paths = {\n",
       "      \"vega\": \"https://cdn.jsdelivr.net/npm//vega@5?noext\",\n",
       "      \"vega-lib\": \"https://cdn.jsdelivr.net/npm//vega-lib?noext\",\n",
       "      \"vega-lite\": \"https://cdn.jsdelivr.net/npm//vega-lite@4.8.1?noext\",\n",
       "      \"vega-embed\": \"https://cdn.jsdelivr.net/npm//vega-embed@6?noext\",\n",
       "    };\n",
       "\n",
       "    function loadScript(lib) {\n",
       "      return new Promise(function(resolve, reject) {\n",
       "        var s = document.createElement('script');\n",
       "        s.src = paths[lib];\n",
       "        s.async = true;\n",
       "        s.onload = () => resolve(paths[lib]);\n",
       "        s.onerror = () => reject(`Error loading script: ${paths[lib]}`);\n",
       "        document.getElementsByTagName(\"head\")[0].appendChild(s);\n",
       "      });\n",
       "    }\n",
       "\n",
       "    function showError(err) {\n",
       "      outputDiv.innerHTML = `<div class=\"error\" style=\"color:red;\">${err}</div>`;\n",
       "      throw err;\n",
       "    }\n",
       "\n",
       "    function displayChart(vegaEmbed) {\n",
       "      vegaEmbed(outputDiv, spec, embedOpt)\n",
       "        .catch(err => showError(`Javascript Error: ${err.message}<br>This usually means there's a typo in your chart specification. See the javascript console for the full traceback.`));\n",
       "    }\n",
       "\n",
       "    if(typeof define === \"function\" && define.amd) {\n",
       "      requirejs.config({paths});\n",
       "      require([\"vega-embed\"], displayChart, err => showError(`Error loading script: ${err.message}`));\n",
       "    } else if (typeof vegaEmbed === \"function\") {\n",
       "      displayChart(vegaEmbed);\n",
       "    } else {\n",
       "      loadScript(\"vega\")\n",
       "        .then(() => loadScript(\"vega-lite\"))\n",
       "        .then(() => loadScript(\"vega-embed\"))\n",
       "        .catch(showError)\n",
       "        .then(() => displayChart(vegaEmbed));\n",
       "    }\n",
       "  })({\"config\": {\"view\": {\"continuousWidth\": 400, \"continuousHeight\": 300}}, \"data\": {\"url\": \"https://raw.githubusercontent.com/idjotherwise/nlp-otherwise/master/data_sets/european_covid.csv\"}, \"mark\": \"line\", \"encoding\": {\"color\": {\"type\": \"nominal\", \"field\": \"id\", \"legend\": {\"title\": \"Countries\"}}, \"opacity\": {\"condition\": {\"value\": 1, \"selection\": \"selector001\"}, \"value\": 0.2}, \"tooltip\": [{\"type\": \"nominal\", \"field\": \"id\"}, {\"type\": \"quantitative\", \"field\": \"vaccines_per\"}], \"x\": {\"type\": \"temporal\", \"axis\": {\"title\": \"Date\"}, \"field\": \"date\", \"timeUnit\": \"yearmonthdate\"}, \"y\": {\"type\": \"quantitative\", \"axis\": {\"title\": \"Number of vaccines given\"}, \"field\": \"vaccines_per\"}}, \"selection\": {\"selector001\": {\"type\": \"multi\", \"fields\": [\"id\"], \"bind\": \"legend\"}, \"selector005\": {\"type\": \"interval\", \"bind\": \"scales\", \"encodings\": [\"x\", \"y\"]}}, \"title\": \"Number of vaccines given\", \"transform\": [{\"filter\": \"(datum.vaccines_per > 0)\"}], \"width\": 600, \"$schema\": \"https://vega.github.io/schema/vega-lite/v4.8.1.json\"}, {\"mode\": \"vega-lite\"});\n",
       "</script>"
      ],
      "text/plain": [
       "alt.Chart(...)"
      ]
     },
     "execution_count": 7,
     "metadata": {},
     "output_type": "execute_result"
    }
   ],
   "source": [
    "#collapse\n",
    "alt.Chart(x_small_url).mark_line().transform_filter(alt.datum.vaccines_per>0).encode(\n",
    "    x=alt.X(\"yearmonthdate(date):T\", axis=alt.Axis(title='Date')),\n",
    "    y=alt.Y(\"vaccines_per:Q\", axis=alt.Axis(title='Number of vaccines given')),\n",
    "    tooltip=['id:N', 'vaccines_per:Q'],\n",
    "    color=alt.Color('id:N', legend=alt.Legend(title=\"Countries\")),\n",
    "    opacity=alt.condition(leg_selection, alt.value(1), alt.value(0.2))\n",
    ").add_selection(leg_selection).properties(title='Number of vaccines given', width=600).interactive()"
   ]
  }
 ],
 "metadata": {
  "kernelspec": {
   "display_name": "Python 3",
   "language": "python",
   "name": "python3"
  },
  "language_info": {
   "codemirror_mode": {
    "name": "ipython",
    "version": 3
   },
   "file_extension": ".py",
   "mimetype": "text/x-python",
   "name": "python",
   "nbconvert_exporter": "python",
   "pygments_lexer": "ipython3",
   "version": "3.7.13"
  },
  "papermill": {
   "default_parameters": {},
   "duration": 2.751025,
   "end_time": "2022-07-01T14:13:14.923051",
   "environment_variables": {},
   "exception": null,
   "input_path": "2021-02-21-european-covid.ipynb",
   "output_path": "2021-02-21-european-covid.ipynb",
   "parameters": {},
   "start_time": "2022-07-01T14:13:12.172026",
   "version": "2.2.2"
  },
  "varInspector": {
   "cols": {
    "lenName": 16,
    "lenType": 16,
    "lenVar": 40
   },
   "kernels_config": {
    "python": {
     "delete_cmd_postfix": "",
     "delete_cmd_prefix": "del ",
     "library": "var_list.py",
     "varRefreshCmd": "print(var_dic_list())"
    },
    "r": {
     "delete_cmd_postfix": ") ",
     "delete_cmd_prefix": "rm(",
     "library": "var_list.r",
     "varRefreshCmd": "cat(var_dic_list()) "
    }
   },
   "types_to_exclude": [
    "module",
    "function",
    "builtin_function_or_method",
    "instance",
    "_Feature"
   ],
   "window_display": false
  }
 },
 "nbformat": 4,
 "nbformat_minor": 5
}