{
 "cells": [
  {
   "cell_type": "markdown",
   "id": "26ecbc00",
   "metadata": {
    "ExecuteTime": {
     "end_time": "2021-02-21T18:05:31.321700Z",
     "start_time": "2021-02-21T18:05:31.315068Z"
    },
    "papermill": {
     "duration": 0.016275,
     "end_time": "2022-03-23T14:14:10.515749",
     "exception": false,
     "start_time": "2022-03-23T14:14:10.499474",
     "status": "completed"
    },
    "tags": []
   },
   "source": [
    "# \"European Covid data exploration\"\n",
    "> \"Exploring which countries have had the highest and lowest covid numbers in Europe\"\n",
    "\n",
    "- toc: true\n",
    "- branch: master\n",
    "- badges: true\n",
    "- comments: false\n",
    "- author: Ifan Johnston\n",
    "- categories: [covid]"
   ]
  },
  {
   "cell_type": "markdown",
   "id": "f5567209",
   "metadata": {
    "papermill": {
     "duration": 0.012203,
     "end_time": "2022-03-23T14:14:10.539306",
     "exception": false,
     "start_time": "2022-03-23T14:14:10.527103",
     "status": "completed"
    },
    "tags": []
   },
   "source": [
    "# Importing and preparing the data\n",
    "\n",
    "We will be looking at data from the following countries:\n",
    "\n",
    "- Italy\n",
    "- Austria\n",
    "- Germany\n",
    "- Belgium\n",
    "- France\n",
    "- United Kingdom\n",
    "- Portugal\n",
    "\n",
    "We begin by importing the data, and adding some new features so that we can compare the data from different countries. For example we calculate 'confirmed cases per 100k population', 'deaths per 100k' and 'new cases' since these are not initially in the dataset. This data is collected and preprocessed in [this file](https://github.com/idjotherwise/nlp-otherwise/blob/master/src/update_datasets.py)."
   ]
  },
  {
   "cell_type": "code",
   "execution_count": 1,
   "id": "487a80d9",
   "metadata": {
    "ExecuteTime": {
     "end_time": "2021-11-07T14:31:02.789723Z",
     "start_time": "2021-11-07T14:31:02.786713Z"
    },
    "execution": {
     "iopub.execute_input": "2022-03-23T14:14:10.572910Z",
     "iopub.status.busy": "2022-03-23T14:14:10.572255Z",
     "iopub.status.idle": "2022-03-23T14:14:11.006215Z",
     "shell.execute_reply": "2022-03-23T14:14:11.005546Z"
    },
    "papermill": {
     "duration": 0.456282,
     "end_time": "2022-03-23T14:14:11.006384",
     "exception": false,
     "start_time": "2022-03-23T14:14:10.550102",
     "status": "completed"
    },
    "tags": []
   },
   "outputs": [],
   "source": [
    "#collapse\n",
    "\n",
    "import altair as alt\n",
    "import pandas as pd\n",
    "\n",
    "x_small_url = \"https://raw.githubusercontent.com/idjotherwise/nlp-otherwise/master/data_sets/european_covid.csv\""
   ]
  },
  {
   "cell_type": "markdown",
   "id": "21fbc9b2",
   "metadata": {
    "papermill": {
     "duration": 0.01246,
     "end_time": "2022-03-23T14:14:11.030511",
     "exception": false,
     "start_time": "2022-03-23T14:14:11.018051",
     "status": "completed"
    },
    "tags": []
   },
   "source": [
    "Here is a random sample of 5 rows from the dataset."
   ]
  },
  {
   "cell_type": "code",
   "execution_count": 2,
   "id": "75678edc",
   "metadata": {
    "ExecuteTime": {
     "end_time": "2021-11-07T14:31:21.068843Z",
     "start_time": "2021-11-07T14:31:21.016816Z"
    },
    "execution": {
     "iopub.execute_input": "2022-03-23T14:14:11.059032Z",
     "iopub.status.busy": "2022-03-23T14:14:11.058415Z",
     "iopub.status.idle": "2022-03-23T14:14:11.298361Z",
     "shell.execute_reply": "2022-03-23T14:14:11.297829Z"
    },
    "papermill": {
     "duration": 0.256818,
     "end_time": "2022-03-23T14:14:11.298510",
     "exception": false,
     "start_time": "2022-03-23T14:14:11.041692",
     "status": "completed"
    },
    "tags": []
   },
   "outputs": [
    {
     "data": {
      "text/html": [
       "<div>\n",
       "<style scoped>\n",
       "    .dataframe tbody tr th:only-of-type {\n",
       "        vertical-align: middle;\n",
       "    }\n",
       "\n",
       "    .dataframe tbody tr th {\n",
       "        vertical-align: top;\n",
       "    }\n",
       "\n",
       "    .dataframe thead th {\n",
       "        text-align: right;\n",
       "    }\n",
       "</style>\n",
       "<table border=\"1\" class=\"dataframe\">\n",
       "  <thead>\n",
       "    <tr style=\"text-align: right;\">\n",
       "      <th></th>\n",
       "      <th>id</th>\n",
       "      <th>date</th>\n",
       "      <th>vaccines</th>\n",
       "      <th>confirmed</th>\n",
       "      <th>tests</th>\n",
       "      <th>recovered</th>\n",
       "      <th>deaths</th>\n",
       "      <th>population</th>\n",
       "      <th>confirmed_per</th>\n",
       "      <th>deaths_per</th>\n",
       "      <th>ratio</th>\n",
       "      <th>tests_per</th>\n",
       "      <th>vaccines_per</th>\n",
       "      <th>new_cases</th>\n",
       "      <th>new_cases_per</th>\n",
       "    </tr>\n",
       "  </thead>\n",
       "  <tbody>\n",
       "    <tr>\n",
       "      <th>3138</th>\n",
       "      <td>France</td>\n",
       "      <td>2020-03-10</td>\n",
       "      <td>NaN</td>\n",
       "      <td>1773.0</td>\n",
       "      <td>NaN</td>\n",
       "      <td>NaN</td>\n",
       "      <td>NaN</td>\n",
       "      <td>66977107.0</td>\n",
       "      <td>2.647173</td>\n",
       "      <td>NaN</td>\n",
       "      <td>NaN</td>\n",
       "      <td>NaN</td>\n",
       "      <td>NaN</td>\n",
       "      <td>372.0</td>\n",
       "      <td>0.555414</td>\n",
       "    </tr>\n",
       "    <tr>\n",
       "      <th>4616</th>\n",
       "      <td>Austria</td>\n",
       "      <td>2022-03-03</td>\n",
       "      <td>18058562.0</td>\n",
       "      <td>2828998.0</td>\n",
       "      <td>161305125.0</td>\n",
       "      <td>2524249.0</td>\n",
       "      <td>14415.0</td>\n",
       "      <td>8840521.0</td>\n",
       "      <td>32000.353825</td>\n",
       "      <td>163.056001</td>\n",
       "      <td>0.509544</td>\n",
       "      <td>1.824611e+06</td>\n",
       "      <td>2.042703</td>\n",
       "      <td>32246.0</td>\n",
       "      <td>364.752258</td>\n",
       "    </tr>\n",
       "    <tr>\n",
       "      <th>5942</th>\n",
       "      <td>Switzerland</td>\n",
       "      <td>2021-07-01</td>\n",
       "      <td>7630538.0</td>\n",
       "      <td>700464.0</td>\n",
       "      <td>7942339.0</td>\n",
       "      <td>NaN</td>\n",
       "      <td>10369.0</td>\n",
       "      <td>8513227.0</td>\n",
       "      <td>8227.949284</td>\n",
       "      <td>121.798702</td>\n",
       "      <td>1.480304</td>\n",
       "      <td>9.329411e+04</td>\n",
       "      <td>0.896316</td>\n",
       "      <td>169.0</td>\n",
       "      <td>1.985146</td>\n",
       "    </tr>\n",
       "    <tr>\n",
       "      <th>5156</th>\n",
       "      <td>United Kingdom</td>\n",
       "      <td>2021-07-04</td>\n",
       "      <td>79078081.0</td>\n",
       "      <td>5054937.0</td>\n",
       "      <td>213558757.0</td>\n",
       "      <td>NaN</td>\n",
       "      <td>128855.0</td>\n",
       "      <td>66460344.0</td>\n",
       "      <td>7605.944682</td>\n",
       "      <td>193.882535</td>\n",
       "      <td>2.549092</td>\n",
       "      <td>3.213326e+05</td>\n",
       "      <td>1.189854</td>\n",
       "      <td>25154.0</td>\n",
       "      <td>37.848134</td>\n",
       "    </tr>\n",
       "    <tr>\n",
       "      <th>5888</th>\n",
       "      <td>Switzerland</td>\n",
       "      <td>2021-05-08</td>\n",
       "      <td>3316875.0</td>\n",
       "      <td>670990.0</td>\n",
       "      <td>6731370.0</td>\n",
       "      <td>NaN</td>\n",
       "      <td>10221.0</td>\n",
       "      <td>8513227.0</td>\n",
       "      <td>7881.735093</td>\n",
       "      <td>120.060231</td>\n",
       "      <td>1.523272</td>\n",
       "      <td>7.906955e+04</td>\n",
       "      <td>0.389614</td>\n",
       "      <td>1062.0</td>\n",
       "      <td>12.474706</td>\n",
       "    </tr>\n",
       "  </tbody>\n",
       "</table>\n",
       "</div>"
      ],
      "text/plain": [
       "                  id        date    vaccines  confirmed        tests  \\\n",
       "3138          France  2020-03-10         NaN     1773.0          NaN   \n",
       "4616         Austria  2022-03-03  18058562.0  2828998.0  161305125.0   \n",
       "5942     Switzerland  2021-07-01   7630538.0   700464.0    7942339.0   \n",
       "5156  United Kingdom  2021-07-04  79078081.0  5054937.0  213558757.0   \n",
       "5888     Switzerland  2021-05-08   3316875.0   670990.0    6731370.0   \n",
       "\n",
       "      recovered    deaths  population  confirmed_per  deaths_per     ratio  \\\n",
       "3138        NaN       NaN  66977107.0       2.647173         NaN       NaN   \n",
       "4616  2524249.0   14415.0   8840521.0   32000.353825  163.056001  0.509544   \n",
       "5942        NaN   10369.0   8513227.0    8227.949284  121.798702  1.480304   \n",
       "5156        NaN  128855.0  66460344.0    7605.944682  193.882535  2.549092   \n",
       "5888        NaN   10221.0   8513227.0    7881.735093  120.060231  1.523272   \n",
       "\n",
       "         tests_per  vaccines_per  new_cases  new_cases_per  \n",
       "3138           NaN           NaN      372.0       0.555414  \n",
       "4616  1.824611e+06      2.042703    32246.0     364.752258  \n",
       "5942  9.329411e+04      0.896316      169.0       1.985146  \n",
       "5156  3.213326e+05      1.189854    25154.0      37.848134  \n",
       "5888  7.906955e+04      0.389614     1062.0      12.474706  "
      ]
     },
     "execution_count": 2,
     "metadata": {},
     "output_type": "execute_result"
    }
   ],
   "source": [
    "x_small = pd.read_csv(x_small_url)\n",
    "x_small.sample(5)"
   ]
  },
  {
   "cell_type": "markdown",
   "id": "91ca47be",
   "metadata": {
    "papermill": {
     "duration": 0.011914,
     "end_time": "2022-03-23T14:14:11.323198",
     "exception": false,
     "start_time": "2022-03-23T14:14:11.311284",
     "status": "completed"
    },
    "tags": []
   },
   "source": [
    "# Plotting the data"
   ]
  },
  {
   "cell_type": "markdown",
   "id": "f17ae2dc",
   "metadata": {
    "papermill": {
     "duration": 0.011766,
     "end_time": "2022-03-23T14:14:11.347010",
     "exception": false,
     "start_time": "2022-03-23T14:14:11.335244",
     "status": "completed"
    },
    "tags": []
   },
   "source": [
    "We will first look at the total numbers of cases and deaths in each country, before moving on to cases and deaths per 100k population.\n",
    "\n",
    "{% include info.html text=\"In each of the charts below, you can click on the legend to filter the lines shown\" %}"
   ]
  },
  {
   "cell_type": "markdown",
   "id": "fbb461ff",
   "metadata": {
    "papermill": {
     "duration": 0.011717,
     "end_time": "2022-03-23T14:14:11.370952",
     "exception": false,
     "start_time": "2022-03-23T14:14:11.359235",
     "status": "completed"
    },
    "tags": []
   },
   "source": [
    "## Total cases per 100,000"
   ]
  },
  {
   "cell_type": "code",
   "execution_count": 3,
   "id": "b78bd9bb",
   "metadata": {
    "ExecuteTime": {
     "end_time": "2021-11-07T14:33:29.184599Z",
     "start_time": "2021-11-07T14:33:29.133602Z"
    },
    "execution": {
     "iopub.execute_input": "2022-03-23T14:14:11.442198Z",
     "iopub.status.busy": "2022-03-23T14:14:11.433900Z",
     "iopub.status.idle": "2022-03-23T14:14:11.449281Z",
     "shell.execute_reply": "2022-03-23T14:14:11.449736Z"
    },
    "papermill": {
     "duration": 0.067239,
     "end_time": "2022-03-23T14:14:11.449920",
     "exception": false,
     "start_time": "2022-03-23T14:14:11.382681",
     "status": "completed"
    },
    "tags": []
   },
   "outputs": [
    {
     "data": {
      "text/html": [
       "\n",
       "<div id=\"altair-viz-a7d47b4fc4694dbe912c7adb4be27b5b\"></div>\n",
       "<script type=\"text/javascript\">\n",
       "  (function(spec, embedOpt){\n",
       "    let outputDiv = document.currentScript.previousElementSibling;\n",
       "    if (outputDiv.id !== \"altair-viz-a7d47b4fc4694dbe912c7adb4be27b5b\") {\n",
       "      outputDiv = document.getElementById(\"altair-viz-a7d47b4fc4694dbe912c7adb4be27b5b\");\n",
       "    }\n",
       "    const paths = {\n",
       "      \"vega\": \"https://cdn.jsdelivr.net/npm//vega@5?noext\",\n",
       "      \"vega-lib\": \"https://cdn.jsdelivr.net/npm//vega-lib?noext\",\n",
       "      \"vega-lite\": \"https://cdn.jsdelivr.net/npm//vega-lite@4.8.1?noext\",\n",
       "      \"vega-embed\": \"https://cdn.jsdelivr.net/npm//vega-embed@6?noext\",\n",
       "    };\n",
       "\n",
       "    function loadScript(lib) {\n",
       "      return new Promise(function(resolve, reject) {\n",
       "        var s = document.createElement('script');\n",
       "        s.src = paths[lib];\n",
       "        s.async = true;\n",
       "        s.onload = () => resolve(paths[lib]);\n",
       "        s.onerror = () => reject(`Error loading script: ${paths[lib]}`);\n",
       "        document.getElementsByTagName(\"head\")[0].appendChild(s);\n",
       "      });\n",
       "    }\n",
       "\n",
       "    function showError(err) {\n",
       "      outputDiv.innerHTML = `<div class=\"error\" style=\"color:red;\">${err}</div>`;\n",
       "      throw err;\n",
       "    }\n",
       "\n",
       "    function displayChart(vegaEmbed) {\n",
       "      vegaEmbed(outputDiv, spec, embedOpt)\n",
       "        .catch(err => showError(`Javascript Error: ${err.message}<br>This usually means there's a typo in your chart specification. See the javascript console for the full traceback.`));\n",
       "    }\n",
       "\n",
       "    if(typeof define === \"function\" && define.amd) {\n",
       "      requirejs.config({paths});\n",
       "      require([\"vega-embed\"], displayChart, err => showError(`Error loading script: ${err.message}`));\n",
       "    } else if (typeof vegaEmbed === \"function\") {\n",
       "      displayChart(vegaEmbed);\n",
       "    } else {\n",
       "      loadScript(\"vega\")\n",
       "        .then(() => loadScript(\"vega-lite\"))\n",
       "        .then(() => loadScript(\"vega-embed\"))\n",
       "        .catch(showError)\n",
       "        .then(() => displayChart(vegaEmbed));\n",
       "    }\n",
       "  })({\"config\": {\"view\": {\"continuousWidth\": 400, \"continuousHeight\": 300}}, \"data\": {\"url\": \"https://raw.githubusercontent.com/idjotherwise/nlp-otherwise/master/data_sets/european_covid.csv\"}, \"mark\": \"line\", \"encoding\": {\"color\": {\"type\": \"nominal\", \"field\": \"id\", \"legend\": {\"title\": \"Countries\"}}, \"opacity\": {\"condition\": {\"value\": 1, \"selection\": \"selector001\"}, \"value\": 0.2}, \"tooltip\": [{\"type\": \"nominal\", \"field\": \"id\"}, {\"type\": \"quantitative\", \"field\": \"confirmed_per\"}], \"x\": {\"type\": \"temporal\", \"axis\": {\"title\": \"Date\"}, \"field\": \"date\", \"timeUnit\": \"yearmonthdate\"}, \"y\": {\"type\": \"quantitative\", \"axis\": {\"title\": \"Confirmed per 100k\"}, \"field\": \"confirmed_per\"}}, \"selection\": {\"selector001\": {\"type\": \"multi\", \"fields\": [\"id\"], \"bind\": \"legend\"}, \"selector002\": {\"type\": \"interval\", \"bind\": \"scales\", \"encodings\": [\"x\", \"y\"]}}, \"title\": \"Total number of cases per 100,000 population for selected European Countries\", \"transform\": [{\"filter\": \"(datum.confirmed_per > 0)\"}], \"width\": 600, \"$schema\": \"https://vega.github.io/schema/vega-lite/v4.8.1.json\"}, {\"mode\": \"vega-lite\"});\n",
       "</script>"
      ],
      "text/plain": [
       "alt.Chart(...)"
      ]
     },
     "execution_count": 3,
     "metadata": {},
     "output_type": "execute_result"
    }
   ],
   "source": [
    "#collapse\n",
    "\n",
    "leg_selection = alt.selection_multi(fields=['id'], bind='legend')\n",
    "\n",
    "alt.Chart(x_small_url).mark_line().encode(\n",
    "    x=alt.X(\"yearmonthdate(date):T\", axis=alt.Axis(title='Date')),\n",
    "    y=alt.Y(\"confirmed_per:Q\", axis=alt.Axis(title='Confirmed per 100k')),\n",
    "    tooltip=['id:N', 'confirmed_per:Q'],\n",
    "    color=alt.Color('id:N', legend=alt.Legend(title=\"Countries\")),\n",
    "    opacity=alt.condition(leg_selection, alt.value(1), alt.value(0.2))\n",
    ").transform_filter(alt.datum.confirmed_per>0).add_selection(leg_selection).properties(title='Total number of cases per 100,000 population for selected European Countries', width=600).interactive()\n"
   ]
  },
  {
   "cell_type": "markdown",
   "id": "c86ee094",
   "metadata": {
    "papermill": {
     "duration": 0.01221,
     "end_time": "2022-03-23T14:14:11.475227",
     "exception": false,
     "start_time": "2022-03-23T14:14:11.463017",
     "status": "completed"
    },
    "tags": []
   },
   "source": [
    "## Total deaths per 100,000"
   ]
  },
  {
   "cell_type": "code",
   "execution_count": 4,
   "id": "2b81238d",
   "metadata": {
    "ExecuteTime": {
     "end_time": "2021-11-07T14:34:56.819563Z",
     "start_time": "2021-11-07T14:34:56.766129Z"
    },
    "execution": {
     "iopub.execute_input": "2022-03-23T14:14:11.543064Z",
     "iopub.status.busy": "2022-03-23T14:14:11.530031Z",
     "iopub.status.idle": "2022-03-23T14:14:11.545493Z",
     "shell.execute_reply": "2022-03-23T14:14:11.545951Z"
    },
    "papermill": {
     "duration": 0.057626,
     "end_time": "2022-03-23T14:14:11.546119",
     "exception": false,
     "start_time": "2022-03-23T14:14:11.488493",
     "status": "completed"
    },
    "tags": []
   },
   "outputs": [
    {
     "data": {
      "text/html": [
       "\n",
       "<div id=\"altair-viz-6dae3a457e5743cc81faab4b1bf85ccb\"></div>\n",
       "<script type=\"text/javascript\">\n",
       "  (function(spec, embedOpt){\n",
       "    let outputDiv = document.currentScript.previousElementSibling;\n",
       "    if (outputDiv.id !== \"altair-viz-6dae3a457e5743cc81faab4b1bf85ccb\") {\n",
       "      outputDiv = document.getElementById(\"altair-viz-6dae3a457e5743cc81faab4b1bf85ccb\");\n",
       "    }\n",
       "    const paths = {\n",
       "      \"vega\": \"https://cdn.jsdelivr.net/npm//vega@5?noext\",\n",
       "      \"vega-lib\": \"https://cdn.jsdelivr.net/npm//vega-lib?noext\",\n",
       "      \"vega-lite\": \"https://cdn.jsdelivr.net/npm//vega-lite@4.8.1?noext\",\n",
       "      \"vega-embed\": \"https://cdn.jsdelivr.net/npm//vega-embed@6?noext\",\n",
       "    };\n",
       "\n",
       "    function loadScript(lib) {\n",
       "      return new Promise(function(resolve, reject) {\n",
       "        var s = document.createElement('script');\n",
       "        s.src = paths[lib];\n",
       "        s.async = true;\n",
       "        s.onload = () => resolve(paths[lib]);\n",
       "        s.onerror = () => reject(`Error loading script: ${paths[lib]}`);\n",
       "        document.getElementsByTagName(\"head\")[0].appendChild(s);\n",
       "      });\n",
       "    }\n",
       "\n",
       "    function showError(err) {\n",
       "      outputDiv.innerHTML = `<div class=\"error\" style=\"color:red;\">${err}</div>`;\n",
       "      throw err;\n",
       "    }\n",
       "\n",
       "    function displayChart(vegaEmbed) {\n",
       "      vegaEmbed(outputDiv, spec, embedOpt)\n",
       "        .catch(err => showError(`Javascript Error: ${err.message}<br>This usually means there's a typo in your chart specification. See the javascript console for the full traceback.`));\n",
       "    }\n",
       "\n",
       "    if(typeof define === \"function\" && define.amd) {\n",
       "      requirejs.config({paths});\n",
       "      require([\"vega-embed\"], displayChart, err => showError(`Error loading script: ${err.message}`));\n",
       "    } else if (typeof vegaEmbed === \"function\") {\n",
       "      displayChart(vegaEmbed);\n",
       "    } else {\n",
       "      loadScript(\"vega\")\n",
       "        .then(() => loadScript(\"vega-lite\"))\n",
       "        .then(() => loadScript(\"vega-embed\"))\n",
       "        .catch(showError)\n",
       "        .then(() => displayChart(vegaEmbed));\n",
       "    }\n",
       "  })({\"config\": {\"view\": {\"continuousWidth\": 400, \"continuousHeight\": 300}}, \"data\": {\"url\": \"https://raw.githubusercontent.com/idjotherwise/nlp-otherwise/master/data_sets/european_covid.csv\"}, \"mark\": \"line\", \"encoding\": {\"color\": {\"type\": \"nominal\", \"field\": \"id\", \"legend\": {\"title\": \"Countries\"}}, \"opacity\": {\"condition\": {\"value\": 1, \"selection\": \"selector001\"}, \"value\": 0.2}, \"tooltip\": [{\"type\": \"nominal\", \"field\": \"id\"}, {\"type\": \"quantitative\", \"field\": \"deaths_per\"}, {\"type\": \"temporal\", \"field\": \"date\", \"timeUnit\": \"yearmonthdate\"}], \"x\": {\"type\": \"temporal\", \"axis\": {\"title\": \"Date\"}, \"field\": \"date\", \"timeUnit\": \"yearmonthdate\"}, \"y\": {\"type\": \"quantitative\", \"axis\": {\"title\": \"Deaths per 100k\"}, \"field\": \"deaths_per\", \"impute\": {\"value\": 50}}}, \"selection\": {\"selector001\": {\"type\": \"multi\", \"fields\": [\"id\"], \"bind\": \"legend\"}, \"selector003\": {\"type\": \"interval\", \"bind\": \"scales\", \"encodings\": [\"x\", \"y\"]}}, \"title\": \"Number of deaths per 100,000 population for selected European Countries\", \"transform\": [{\"filter\": \"(datum.deaths_per > 0)\"}], \"width\": 600, \"$schema\": \"https://vega.github.io/schema/vega-lite/v4.8.1.json\"}, {\"mode\": \"vega-lite\"});\n",
       "</script>"
      ],
      "text/plain": [
       "alt.Chart(...)"
      ]
     },
     "execution_count": 4,
     "metadata": {},
     "output_type": "execute_result"
    }
   ],
   "source": [
    "#collapse\n",
    "alt.Chart(x_small_url).mark_line().encode(\n",
    "    x=alt.X(\"yearmonthdate(date):T\", axis=alt.Axis(title='Date')),\n",
    "    y=alt.Y(\"deaths_per:Q\", axis=alt.Axis(title='Deaths per 100k'), impute=alt.ImputeParams(value=50)),\n",
    "    tooltip=[\"id:N\", \"deaths_per:Q\", \"yearmonthdate(date):T\"],\n",
    "    color=alt.Color('id:N', legend=alt.Legend(title=\"Countries\")),\n",
    "    opacity=alt.condition(leg_selection, alt.value(1), alt.value(0.2))\n",
    ").transform_filter(alt.datum.deaths_per>0).add_selection(leg_selection).properties(title='Number of deaths per 100,000 population for selected European Countries', width=600).interactive()"
   ]
  },
  {
   "cell_type": "markdown",
   "id": "ff216a63",
   "metadata": {
    "papermill": {
     "duration": 0.012519,
     "end_time": "2022-03-23T14:14:11.570787",
     "exception": false,
     "start_time": "2022-03-23T14:14:11.558268",
     "status": "completed"
    },
    "tags": []
   },
   "source": [
    "## Two week incidence rate"
   ]
  },
  {
   "cell_type": "code",
   "execution_count": 5,
   "id": "e352d090",
   "metadata": {
    "ExecuteTime": {
     "end_time": "2021-11-07T14:37:17.617319Z",
     "start_time": "2021-11-07T14:37:17.512572Z"
    },
    "execution": {
     "iopub.execute_input": "2022-03-23T14:14:11.635699Z",
     "iopub.status.busy": "2022-03-23T14:14:11.614116Z",
     "iopub.status.idle": "2022-03-23T14:14:11.650595Z",
     "shell.execute_reply": "2022-03-23T14:14:11.651069Z"
    },
    "papermill": {
     "duration": 0.067822,
     "end_time": "2022-03-23T14:14:11.651238",
     "exception": false,
     "start_time": "2022-03-23T14:14:11.583416",
     "status": "completed"
    },
    "scrolled": false,
    "tags": []
   },
   "outputs": [
    {
     "data": {
      "text/html": [
       "\n",
       "<div id=\"altair-viz-3ce113b6eaab4b66b3b926fc809e8066\"></div>\n",
       "<script type=\"text/javascript\">\n",
       "  (function(spec, embedOpt){\n",
       "    let outputDiv = document.currentScript.previousElementSibling;\n",
       "    if (outputDiv.id !== \"altair-viz-3ce113b6eaab4b66b3b926fc809e8066\") {\n",
       "      outputDiv = document.getElementById(\"altair-viz-3ce113b6eaab4b66b3b926fc809e8066\");\n",
       "    }\n",
       "    const paths = {\n",
       "      \"vega\": \"https://cdn.jsdelivr.net/npm//vega@5?noext\",\n",
       "      \"vega-lib\": \"https://cdn.jsdelivr.net/npm//vega-lib?noext\",\n",
       "      \"vega-lite\": \"https://cdn.jsdelivr.net/npm//vega-lite@4.8.1?noext\",\n",
       "      \"vega-embed\": \"https://cdn.jsdelivr.net/npm//vega-embed@6?noext\",\n",
       "    };\n",
       "\n",
       "    function loadScript(lib) {\n",
       "      return new Promise(function(resolve, reject) {\n",
       "        var s = document.createElement('script');\n",
       "        s.src = paths[lib];\n",
       "        s.async = true;\n",
       "        s.onload = () => resolve(paths[lib]);\n",
       "        s.onerror = () => reject(`Error loading script: ${paths[lib]}`);\n",
       "        document.getElementsByTagName(\"head\")[0].appendChild(s);\n",
       "      });\n",
       "    }\n",
       "\n",
       "    function showError(err) {\n",
       "      outputDiv.innerHTML = `<div class=\"error\" style=\"color:red;\">${err}</div>`;\n",
       "      throw err;\n",
       "    }\n",
       "\n",
       "    function displayChart(vegaEmbed) {\n",
       "      vegaEmbed(outputDiv, spec, embedOpt)\n",
       "        .catch(err => showError(`Javascript Error: ${err.message}<br>This usually means there's a typo in your chart specification. See the javascript console for the full traceback.`));\n",
       "    }\n",
       "\n",
       "    if(typeof define === \"function\" && define.amd) {\n",
       "      requirejs.config({paths});\n",
       "      require([\"vega-embed\"], displayChart, err => showError(`Error loading script: ${err.message}`));\n",
       "    } else if (typeof vegaEmbed === \"function\") {\n",
       "      displayChart(vegaEmbed);\n",
       "    } else {\n",
       "      loadScript(\"vega\")\n",
       "        .then(() => loadScript(\"vega-lite\"))\n",
       "        .then(() => loadScript(\"vega-embed\"))\n",
       "        .catch(showError)\n",
       "        .then(() => displayChart(vegaEmbed));\n",
       "    }\n",
       "  })({\"config\": {\"view\": {\"continuousWidth\": 400, \"continuousHeight\": 300}}, \"vconcat\": [{\"mark\": \"line\", \"encoding\": {\"color\": {\"type\": \"nominal\", \"field\": \"id\", \"legend\": {\"title\": \"Countries\"}}, \"opacity\": {\"condition\": {\"value\": 1, \"selection\": \"selector001\"}, \"value\": 0.2}, \"tooltip\": [{\"type\": \"nominal\", \"field\": \"id\"}, {\"type\": \"quantitative\", \"field\": \"rolling_mean\"}], \"x\": {\"type\": \"temporal\", \"axis\": {\"title\": \"Date\"}, \"field\": \"date\", \"scale\": {\"domain\": {\"selection\": \"selector004\"}}, \"timeUnit\": \"yearmonthdate\"}, \"y\": {\"type\": \"quantitative\", \"axis\": {\"title\": \"Incidence rate\"}, \"field\": \"rolling_mean\"}}, \"height\": 400, \"selection\": {\"selector001\": {\"type\": \"multi\", \"fields\": [\"id\"], \"bind\": \"legend\"}}, \"title\": \"Number of new cases per 100,000 over two weeks for selected countries\", \"transform\": [{\"filter\": \"(datum.new_cases_per > 0)\"}, {\"window\": [{\"op\": \"sum\", \"field\": \"new_cases_per\", \"as\": \"rolling_mean\"}], \"frame\": [-7, 0], \"groupby\": [\"id:N\"]}], \"width\": 600}, {\"mark\": \"line\", \"encoding\": {\"color\": {\"type\": \"nominal\", \"field\": \"id\", \"legend\": {\"title\": \"Countries\"}}, \"opacity\": {\"condition\": {\"value\": 1, \"selection\": \"selector001\"}, \"value\": 0.2}, \"tooltip\": [{\"type\": \"nominal\", \"field\": \"id\"}, {\"type\": \"quantitative\", \"field\": \"rolling_mean\"}], \"x\": {\"type\": \"temporal\", \"axis\": {\"title\": \"Date\"}, \"field\": \"date\", \"timeUnit\": \"yearmonthdate\"}, \"y\": {\"type\": \"quantitative\", \"axis\": {\"title\": \"Incidence rate\"}, \"field\": \"rolling_mean\"}}, \"height\": 60, \"selection\": {\"selector001\": {\"type\": \"multi\", \"fields\": [\"id\"], \"bind\": \"legend\"}, \"selector004\": {\"type\": \"interval\", \"encodings\": [\"x\"]}}, \"title\": \"Number of new cases per 100,000 over two weeks for selected countries\", \"transform\": [{\"filter\": \"(datum.new_cases_per > 0)\"}, {\"window\": [{\"op\": \"sum\", \"field\": \"new_cases_per\", \"as\": \"rolling_mean\"}], \"frame\": [-7, 0], \"groupby\": [\"id:N\"]}], \"width\": 600}], \"data\": {\"url\": \"https://raw.githubusercontent.com/idjotherwise/nlp-otherwise/master/data_sets/european_covid.csv\"}, \"$schema\": \"https://vega.github.io/schema/vega-lite/v4.8.1.json\"}, {\"mode\": \"vega-lite\"});\n",
       "</script>"
      ],
      "text/plain": [
       "alt.VConcatChart(...)"
      ]
     },
     "execution_count": 5,
     "metadata": {},
     "output_type": "execute_result"
    }
   ],
   "source": [
    "#collapse\n",
    "brush = alt.selection(type='interval', encodings=['x'])\n",
    "\n",
    "base = alt.Chart(x_small_url).mark_line().transform_filter(alt.datum.new_cases_per>0).transform_window(\n",
    "    rolling_mean='sum(new_cases_per)',\n",
    "    frame=[-7, 0],\n",
    "    groupby=['id:N']\n",
    ").encode(\n",
    "    x=alt.X(\"yearmonthdate(date):T\",\n",
    "            axis=alt.Axis(title='Date')\n",
    "           ),\n",
    "    y=alt.Y(\"rolling_mean:Q\",\n",
    "            axis=alt.Axis(title='Incidence rate')\n",
    "           ),\n",
    "    tooltip=['id:N', 'rolling_mean:Q'],\n",
    "    color=alt.Color('id:N', legend=alt.Legend(title=\"Countries\")),\n",
    "    opacity=alt.condition(leg_selection, alt.value(1), alt.value(0.2))\n",
    ").add_selection(leg_selection).properties(\n",
    "    width=600,\n",
    "    height=400,\n",
    "    title='Number of new cases per 100,000 over two weeks for selected countries'\n",
    ")\n",
    "\n",
    "upper = base.encode(\n",
    "    alt.X('yearmonthdate(date):T',axis=alt.Axis(title='Date'),\n",
    "          scale=alt.Scale(domain=brush))\n",
    ")\n",
    "\n",
    "lower = base.properties(\n",
    "    height=60\n",
    ").add_selection(brush)\n",
    "\n",
    "upper & lower"
   ]
  },
  {
   "cell_type": "markdown",
   "id": "49bc0f04",
   "metadata": {
    "papermill": {
     "duration": 0.012913,
     "end_time": "2022-03-23T14:14:11.677071",
     "exception": false,
     "start_time": "2022-03-23T14:14:11.664158",
     "status": "completed"
    },
    "tags": []
   },
   "source": [
    "The ratio of confirmed cases and deaths gives an indication of what the case fatality rate is - it seems to be between 2 and 3%, assuming that the countries listed here are catching all positive cases (which they probably aren't, so it's likely lower than this)."
   ]
  },
  {
   "cell_type": "markdown",
   "id": "0d96571c",
   "metadata": {
    "papermill": {
     "duration": 0.012922,
     "end_time": "2022-03-23T14:14:11.703180",
     "exception": false,
     "start_time": "2022-03-23T14:14:11.690258",
     "status": "completed"
    },
    "tags": []
   },
   "source": [
    "## Case fatality rate"
   ]
  },
  {
   "cell_type": "code",
   "execution_count": 6,
   "id": "1381df3d",
   "metadata": {
    "ExecuteTime": {
     "end_time": "2021-11-07T14:40:18.149796Z",
     "start_time": "2021-11-07T14:40:18.098057Z"
    },
    "execution": {
     "iopub.execute_input": "2022-03-23T14:14:11.762754Z",
     "iopub.status.busy": "2022-03-23T14:14:11.747363Z",
     "iopub.status.idle": "2022-03-23T14:14:11.772005Z",
     "shell.execute_reply": "2022-03-23T14:14:11.772503Z"
    },
    "papermill": {
     "duration": 0.056606,
     "end_time": "2022-03-23T14:14:11.772683",
     "exception": false,
     "start_time": "2022-03-23T14:14:11.716077",
     "status": "completed"
    },
    "tags": []
   },
   "outputs": [
    {
     "data": {
      "text/html": [
       "\n",
       "<div id=\"altair-viz-451b02a87b3e4766a7616ca4eaff22ed\"></div>\n",
       "<script type=\"text/javascript\">\n",
       "  (function(spec, embedOpt){\n",
       "    let outputDiv = document.currentScript.previousElementSibling;\n",
       "    if (outputDiv.id !== \"altair-viz-451b02a87b3e4766a7616ca4eaff22ed\") {\n",
       "      outputDiv = document.getElementById(\"altair-viz-451b02a87b3e4766a7616ca4eaff22ed\");\n",
       "    }\n",
       "    const paths = {\n",
       "      \"vega\": \"https://cdn.jsdelivr.net/npm//vega@5?noext\",\n",
       "      \"vega-lib\": \"https://cdn.jsdelivr.net/npm//vega-lib?noext\",\n",
       "      \"vega-lite\": \"https://cdn.jsdelivr.net/npm//vega-lite@4.8.1?noext\",\n",
       "      \"vega-embed\": \"https://cdn.jsdelivr.net/npm//vega-embed@6?noext\",\n",
       "    };\n",
       "\n",
       "    function loadScript(lib) {\n",
       "      return new Promise(function(resolve, reject) {\n",
       "        var s = document.createElement('script');\n",
       "        s.src = paths[lib];\n",
       "        s.async = true;\n",
       "        s.onload = () => resolve(paths[lib]);\n",
       "        s.onerror = () => reject(`Error loading script: ${paths[lib]}`);\n",
       "        document.getElementsByTagName(\"head\")[0].appendChild(s);\n",
       "      });\n",
       "    }\n",
       "\n",
       "    function showError(err) {\n",
       "      outputDiv.innerHTML = `<div class=\"error\" style=\"color:red;\">${err}</div>`;\n",
       "      throw err;\n",
       "    }\n",
       "\n",
       "    function displayChart(vegaEmbed) {\n",
       "      vegaEmbed(outputDiv, spec, embedOpt)\n",
       "        .catch(err => showError(`Javascript Error: ${err.message}<br>This usually means there's a typo in your chart specification. See the javascript console for the full traceback.`));\n",
       "    }\n",
       "\n",
       "    if(typeof define === \"function\" && define.amd) {\n",
       "      requirejs.config({paths});\n",
       "      require([\"vega-embed\"], displayChart, err => showError(`Error loading script: ${err.message}`));\n",
       "    } else if (typeof vegaEmbed === \"function\") {\n",
       "      displayChart(vegaEmbed);\n",
       "    } else {\n",
       "      loadScript(\"vega\")\n",
       "        .then(() => loadScript(\"vega-lite\"))\n",
       "        .then(() => loadScript(\"vega-embed\"))\n",
       "        .catch(showError)\n",
       "        .then(() => displayChart(vegaEmbed));\n",
       "    }\n",
       "  })({\"config\": {\"view\": {\"continuousWidth\": 400, \"continuousHeight\": 300}}, \"vconcat\": [{\"mark\": \"line\", \"encoding\": {\"color\": {\"type\": \"nominal\", \"field\": \"id\", \"legend\": {\"title\": \"Countries\"}}, \"opacity\": {\"condition\": {\"value\": 1, \"selection\": \"selector001\"}, \"value\": 0.2}, \"tooltip\": {\"type\": \"nominal\", \"field\": \"id\"}, \"x\": {\"type\": \"temporal\", \"axis\": {\"title\": \"Date\"}, \"field\": \"date\", \"scale\": {\"domain\": {\"selection\": \"selector004\"}}, \"timeUnit\": \"yearmonthdate\"}, \"y\": {\"type\": \"quantitative\", \"axis\": {\"title\": \"Ratio of deaths per case\"}, \"field\": \"ratio\"}}, \"selection\": {\"selector001\": {\"type\": \"multi\", \"fields\": [\"id\"], \"bind\": \"legend\"}}, \"title\": \"The ratio of deaths to confirmed cases (case fatality rate)\", \"transform\": [{\"filter\": \"(datum.ratio > 0)\"}], \"width\": 600}, {\"mark\": \"line\", \"encoding\": {\"color\": {\"type\": \"nominal\", \"field\": \"id\", \"legend\": {\"title\": \"Countries\"}}, \"opacity\": {\"condition\": {\"value\": 1, \"selection\": \"selector001\"}, \"value\": 0.2}, \"tooltip\": {\"type\": \"nominal\", \"field\": \"id\"}, \"x\": {\"type\": \"temporal\", \"axis\": {\"title\": \"Date\"}, \"field\": \"date\", \"timeUnit\": \"yearmonthdate\"}, \"y\": {\"type\": \"quantitative\", \"axis\": {\"title\": \"Ratio of deaths per case\"}, \"field\": \"ratio\"}}, \"height\": 60, \"selection\": {\"selector001\": {\"type\": \"multi\", \"fields\": [\"id\"], \"bind\": \"legend\"}, \"selector004\": {\"type\": \"interval\", \"encodings\": [\"x\"]}}, \"title\": \"The ratio of deaths to confirmed cases (case fatality rate)\", \"transform\": [{\"filter\": \"(datum.ratio > 0)\"}], \"width\": 600}], \"data\": {\"url\": \"https://raw.githubusercontent.com/idjotherwise/nlp-otherwise/master/data_sets/european_covid.csv\"}, \"$schema\": \"https://vega.github.io/schema/vega-lite/v4.8.1.json\"}, {\"mode\": \"vega-lite\"});\n",
       "</script>"
      ],
      "text/plain": [
       "alt.VConcatChart(...)"
      ]
     },
     "execution_count": 6,
     "metadata": {},
     "output_type": "execute_result"
    }
   ],
   "source": [
    "#collapse\n",
    "base = alt.Chart(x_small_url).mark_line().transform_filter(alt.datum.ratio>0).encode(\n",
    "    x=alt.X(\"yearmonthdate(date):T\", axis=alt.Axis(title='Date')),\n",
    "    y=alt.Y(\"ratio:Q\", axis=alt.Axis(title='Ratio of deaths per case')),\n",
    "    tooltip='id:N',\n",
    "    color=alt.Color('id:N', legend=alt.Legend(title=\"Countries\")),\n",
    "opacity=alt.condition(leg_selection, alt.value(1), alt.value(0.2))\n",
    ").add_selection(leg_selection).properties(title='The ratio of deaths to confirmed cases (case fatality rate)', width=600)\n",
    "\n",
    "upper = base.encode(\n",
    "    alt.X('yearmonthdate(date):T',axis=alt.Axis(title='Date'),\n",
    "          scale=alt.Scale(domain=brush))\n",
    ")\n",
    "\n",
    "lower = base.properties(\n",
    "    height=60\n",
    ").add_selection(brush)\n",
    "\n",
    "upper & lower"
   ]
  },
  {
   "cell_type": "markdown",
   "id": "817864b6",
   "metadata": {
    "papermill": {
     "duration": 0.0134,
     "end_time": "2022-03-23T14:14:11.799649",
     "exception": false,
     "start_time": "2022-03-23T14:14:11.786249",
     "status": "completed"
    },
    "tags": []
   },
   "source": [
    "# Vaccines"
   ]
  },
  {
   "cell_type": "markdown",
   "id": "db42f003",
   "metadata": {
    "papermill": {
     "duration": 0.0133,
     "end_time": "2022-03-23T14:14:11.826663",
     "exception": false,
     "start_time": "2022-03-23T14:14:11.813363",
     "status": "completed"
    },
    "tags": []
   },
   "source": [
    "In the chart below we plot the number vaccines given per population - this means that if the number is 1, then the country has given the equivalent of 1 shot for each person in the country. Since not everyone in the countries are eligible to get the vaccine, a ratio of 1 means that many people have recieved two jabs. Note also that some kinds of vaccines (the J&J's [Janssen vaccine](https://www.cdc.gov/coronavirus/2019-ncov/vaccines/different-vaccines/janssen.html), for example) only require 1 shot so the goal is not neccesarily to reach exactly 2 shots per person in the whole country."
   ]
  },
  {
   "cell_type": "code",
   "execution_count": 7,
   "id": "70a61e21",
   "metadata": {
    "ExecuteTime": {
     "end_time": "2021-11-07T14:41:13.331122Z",
     "start_time": "2021-11-07T14:41:13.283828Z"
    },
    "execution": {
     "iopub.execute_input": "2022-03-23T14:14:11.881982Z",
     "iopub.status.busy": "2022-03-23T14:14:11.876825Z",
     "iopub.status.idle": "2022-03-23T14:14:11.894421Z",
     "shell.execute_reply": "2022-03-23T14:14:11.894889Z"
    },
    "papermill": {
     "duration": 0.055042,
     "end_time": "2022-03-23T14:14:11.895068",
     "exception": false,
     "start_time": "2022-03-23T14:14:11.840026",
     "status": "completed"
    },
    "tags": []
   },
   "outputs": [
    {
     "data": {
      "text/html": [
       "\n",
       "<div id=\"altair-viz-df36ab97e5a74cbeb9242a65e9ff9619\"></div>\n",
       "<script type=\"text/javascript\">\n",
       "  (function(spec, embedOpt){\n",
       "    let outputDiv = document.currentScript.previousElementSibling;\n",
       "    if (outputDiv.id !== \"altair-viz-df36ab97e5a74cbeb9242a65e9ff9619\") {\n",
       "      outputDiv = document.getElementById(\"altair-viz-df36ab97e5a74cbeb9242a65e9ff9619\");\n",
       "    }\n",
       "    const paths = {\n",
       "      \"vega\": \"https://cdn.jsdelivr.net/npm//vega@5?noext\",\n",
       "      \"vega-lib\": \"https://cdn.jsdelivr.net/npm//vega-lib?noext\",\n",
       "      \"vega-lite\": \"https://cdn.jsdelivr.net/npm//vega-lite@4.8.1?noext\",\n",
       "      \"vega-embed\": \"https://cdn.jsdelivr.net/npm//vega-embed@6?noext\",\n",
       "    };\n",
       "\n",
       "    function loadScript(lib) {\n",
       "      return new Promise(function(resolve, reject) {\n",
       "        var s = document.createElement('script');\n",
       "        s.src = paths[lib];\n",
       "        s.async = true;\n",
       "        s.onload = () => resolve(paths[lib]);\n",
       "        s.onerror = () => reject(`Error loading script: ${paths[lib]}`);\n",
       "        document.getElementsByTagName(\"head\")[0].appendChild(s);\n",
       "      });\n",
       "    }\n",
       "\n",
       "    function showError(err) {\n",
       "      outputDiv.innerHTML = `<div class=\"error\" style=\"color:red;\">${err}</div>`;\n",
       "      throw err;\n",
       "    }\n",
       "\n",
       "    function displayChart(vegaEmbed) {\n",
       "      vegaEmbed(outputDiv, spec, embedOpt)\n",
       "        .catch(err => showError(`Javascript Error: ${err.message}<br>This usually means there's a typo in your chart specification. See the javascript console for the full traceback.`));\n",
       "    }\n",
       "\n",
       "    if(typeof define === \"function\" && define.amd) {\n",
       "      requirejs.config({paths});\n",
       "      require([\"vega-embed\"], displayChart, err => showError(`Error loading script: ${err.message}`));\n",
       "    } else if (typeof vegaEmbed === \"function\") {\n",
       "      displayChart(vegaEmbed);\n",
       "    } else {\n",
       "      loadScript(\"vega\")\n",
       "        .then(() => loadScript(\"vega-lite\"))\n",
       "        .then(() => loadScript(\"vega-embed\"))\n",
       "        .catch(showError)\n",
       "        .then(() => displayChart(vegaEmbed));\n",
       "    }\n",
       "  })({\"config\": {\"view\": {\"continuousWidth\": 400, \"continuousHeight\": 300}}, \"data\": {\"url\": \"https://raw.githubusercontent.com/idjotherwise/nlp-otherwise/master/data_sets/european_covid.csv\"}, \"mark\": \"line\", \"encoding\": {\"color\": {\"type\": \"nominal\", \"field\": \"id\", \"legend\": {\"title\": \"Countries\"}}, \"opacity\": {\"condition\": {\"value\": 1, \"selection\": \"selector001\"}, \"value\": 0.2}, \"tooltip\": [{\"type\": \"nominal\", \"field\": \"id\"}, {\"type\": \"quantitative\", \"field\": \"vaccines_per\"}], \"x\": {\"type\": \"temporal\", \"axis\": {\"title\": \"Date\"}, \"field\": \"date\", \"timeUnit\": \"yearmonthdate\"}, \"y\": {\"type\": \"quantitative\", \"axis\": {\"title\": \"Number of vaccines given\"}, \"field\": \"vaccines_per\"}}, \"selection\": {\"selector001\": {\"type\": \"multi\", \"fields\": [\"id\"], \"bind\": \"legend\"}, \"selector005\": {\"type\": \"interval\", \"bind\": \"scales\", \"encodings\": [\"x\", \"y\"]}}, \"title\": \"Number of vaccines given\", \"transform\": [{\"filter\": \"(datum.vaccines_per > 0)\"}], \"width\": 600, \"$schema\": \"https://vega.github.io/schema/vega-lite/v4.8.1.json\"}, {\"mode\": \"vega-lite\"});\n",
       "</script>"
      ],
      "text/plain": [
       "alt.Chart(...)"
      ]
     },
     "execution_count": 7,
     "metadata": {},
     "output_type": "execute_result"
    }
   ],
   "source": [
    "#collapse\n",
    "alt.Chart(x_small_url).mark_line().transform_filter(alt.datum.vaccines_per>0).encode(\n",
    "    x=alt.X(\"yearmonthdate(date):T\", axis=alt.Axis(title='Date')),\n",
    "    y=alt.Y(\"vaccines_per:Q\", axis=alt.Axis(title='Number of vaccines given')),\n",
    "    tooltip=['id:N', 'vaccines_per:Q'],\n",
    "    color=alt.Color('id:N', legend=alt.Legend(title=\"Countries\")),\n",
    "    opacity=alt.condition(leg_selection, alt.value(1), alt.value(0.2))\n",
    ").add_selection(leg_selection).properties(title='Number of vaccines given', width=600).interactive()"
   ]
  }
 ],
 "metadata": {
  "kernelspec": {
   "display_name": "Python 3",
   "language": "python",
   "name": "python3"
  },
  "language_info": {
   "codemirror_mode": {
    "name": "ipython",
    "version": 3
   },
   "file_extension": ".py",
   "mimetype": "text/x-python",
   "name": "python",
   "nbconvert_exporter": "python",
   "pygments_lexer": "ipython3",
   "version": "3.7.12"
  },
  "papermill": {
   "default_parameters": {},
   "duration": 2.757446,
   "end_time": "2022-03-23T14:14:12.216735",
   "environment_variables": {},
   "exception": null,
   "input_path": "2021-02-21-european-covid.ipynb",
   "output_path": "2021-02-21-european-covid.ipynb",
   "parameters": {},
   "start_time": "2022-03-23T14:14:09.459289",
   "version": "2.2.2"
  },
  "varInspector": {
   "cols": {
    "lenName": 16,
    "lenType": 16,
    "lenVar": 40
   },
   "kernels_config": {
    "python": {
     "delete_cmd_postfix": "",
     "delete_cmd_prefix": "del ",
     "library": "var_list.py",
     "varRefreshCmd": "print(var_dic_list())"
    },
    "r": {
     "delete_cmd_postfix": ") ",
     "delete_cmd_prefix": "rm(",
     "library": "var_list.r",
     "varRefreshCmd": "cat(var_dic_list()) "
    }
   },
   "types_to_exclude": [
    "module",
    "function",
    "builtin_function_or_method",
    "instance",
    "_Feature"
   ],
   "window_display": false
  }
 },
 "nbformat": 4,
 "nbformat_minor": 5
}