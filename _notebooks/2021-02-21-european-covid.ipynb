{
 "cells": [
  {
   "cell_type": "markdown",
   "id": "26ecbc00",
   "metadata": {
    "ExecuteTime": {
     "end_time": "2021-02-21T18:05:31.321700Z",
     "start_time": "2021-02-21T18:05:31.315068Z"
    },
    "papermill": {
     "duration": 0.01198,
     "end_time": "2022-01-14T14:13:29.130437",
     "exception": false,
     "start_time": "2022-01-14T14:13:29.118457",
     "status": "completed"
    },
    "tags": []
   },
   "source": [
    "# \"European Covid data exploration\"\n",
    "> \"Exploring which countries have had the highest and lowest covid numbers in Europe\"\n",
    "\n",
    "- toc: true\n",
    "- branch: master\n",
    "- badges: true\n",
    "- comments: false\n",
    "- author: Ifan Johnston\n",
    "- categories: [covid]"
   ]
  },
  {
   "cell_type": "markdown",
   "id": "f5567209",
   "metadata": {
    "papermill": {
     "duration": 0.009623,
     "end_time": "2022-01-14T14:13:29.150100",
     "exception": false,
     "start_time": "2022-01-14T14:13:29.140477",
     "status": "completed"
    },
    "tags": []
   },
   "source": [
    "# Importing and preparing the data\n",
    "\n",
    "We will be looking at data from the following countries:\n",
    "\n",
    "- Italy\n",
    "- Austria\n",
    "- Germany\n",
    "- Belgium\n",
    "- France\n",
    "- United Kingdom\n",
    "- Portugal\n",
    "\n",
    "We begin by importing the data, and adding some new features so that we can compare the data from different countries. For example we calculate 'confirmed cases per 100k population', 'deaths per 100k' and 'new cases' since these are not initially in the dataset. This data is collected and preprocessed in [this file](https://github.com/idjotherwise/nlp-otherwise/blob/master/src/update_datasets.py)."
   ]
  },
  {
   "cell_type": "code",
   "execution_count": 1,
   "id": "487a80d9",
   "metadata": {
    "ExecuteTime": {
     "end_time": "2021-11-07T14:31:02.789723Z",
     "start_time": "2021-11-07T14:31:02.786713Z"
    },
    "execution": {
     "iopub.execute_input": "2022-01-14T14:13:29.177840Z",
     "iopub.status.busy": "2022-01-14T14:13:29.177331Z",
     "iopub.status.idle": "2022-01-14T14:13:29.544381Z",
     "shell.execute_reply": "2022-01-14T14:13:29.543723Z"
    },
    "papermill": {
     "duration": 0.384838,
     "end_time": "2022-01-14T14:13:29.544557",
     "exception": false,
     "start_time": "2022-01-14T14:13:29.159719",
     "status": "completed"
    },
    "tags": []
   },
   "outputs": [],
   "source": [
    "#collapse\n",
    "\n",
    "import altair as alt\n",
    "import pandas as pd\n",
    "\n",
    "x_small_url = \"https://raw.githubusercontent.com/idjotherwise/nlp-otherwise/master/data_sets/european_covid.csv\""
   ]
  },
  {
   "cell_type": "markdown",
   "id": "21fbc9b2",
   "metadata": {
    "papermill": {
     "duration": 0.010183,
     "end_time": "2022-01-14T14:13:29.564776",
     "exception": false,
     "start_time": "2022-01-14T14:13:29.554593",
     "status": "completed"
    },
    "tags": []
   },
   "source": [
    "Here is a random sample of 5 rows from the dataset."
   ]
  },
  {
   "cell_type": "code",
   "execution_count": 2,
   "id": "75678edc",
   "metadata": {
    "ExecuteTime": {
     "end_time": "2021-11-07T14:31:21.068843Z",
     "start_time": "2021-11-07T14:31:21.016816Z"
    },
    "execution": {
     "iopub.execute_input": "2022-01-14T14:13:29.593853Z",
     "iopub.status.busy": "2022-01-14T14:13:29.593326Z",
     "iopub.status.idle": "2022-01-14T14:13:29.825449Z",
     "shell.execute_reply": "2022-01-14T14:13:29.824693Z"
    },
    "papermill": {
     "duration": 0.251099,
     "end_time": "2022-01-14T14:13:29.825587",
     "exception": false,
     "start_time": "2022-01-14T14:13:29.574488",
     "status": "completed"
    },
    "tags": []
   },
   "outputs": [
    {
     "data": {
      "text/html": [
       "<div>\n",
       "<style scoped>\n",
       "    .dataframe tbody tr th:only-of-type {\n",
       "        vertical-align: middle;\n",
       "    }\n",
       "\n",
       "    .dataframe tbody tr th {\n",
       "        vertical-align: top;\n",
       "    }\n",
       "\n",
       "    .dataframe thead th {\n",
       "        text-align: right;\n",
       "    }\n",
       "</style>\n",
       "<table border=\"1\" class=\"dataframe\">\n",
       "  <thead>\n",
       "    <tr style=\"text-align: right;\">\n",
       "      <th></th>\n",
       "      <th>id</th>\n",
       "      <th>date</th>\n",
       "      <th>vaccines</th>\n",
       "      <th>confirmed</th>\n",
       "      <th>tests</th>\n",
       "      <th>recovered</th>\n",
       "      <th>deaths</th>\n",
       "      <th>population</th>\n",
       "      <th>confirmed_per</th>\n",
       "      <th>deaths_per</th>\n",
       "      <th>ratio</th>\n",
       "      <th>tests_per</th>\n",
       "      <th>vaccines_per</th>\n",
       "      <th>new_cases</th>\n",
       "      <th>new_cases_per</th>\n",
       "    </tr>\n",
       "  </thead>\n",
       "  <tbody>\n",
       "    <tr>\n",
       "      <th>1735</th>\n",
       "      <td>Portugal</td>\n",
       "      <td>2021-01-15</td>\n",
       "      <td>128527.0</td>\n",
       "      <td>528469.0</td>\n",
       "      <td>6373175.0</td>\n",
       "      <td>394065.0</td>\n",
       "      <td>8543.0</td>\n",
       "      <td>10283822.0</td>\n",
       "      <td>5138.838459</td>\n",
       "      <td>83.072227</td>\n",
       "      <td>1.616557</td>\n",
       "      <td>61972.824889</td>\n",
       "      <td>0.012498</td>\n",
       "      <td>10663.0</td>\n",
       "      <td>103.687131</td>\n",
       "    </tr>\n",
       "    <tr>\n",
       "      <th>136</th>\n",
       "      <td>Italy</td>\n",
       "      <td>2020-07-09</td>\n",
       "      <td>NaN</td>\n",
       "      <td>242363.0</td>\n",
       "      <td>5806668.0</td>\n",
       "      <td>193978.0</td>\n",
       "      <td>34926.0</td>\n",
       "      <td>60421760.0</td>\n",
       "      <td>401.118736</td>\n",
       "      <td>57.803679</td>\n",
       "      <td>14.410615</td>\n",
       "      <td>9610.226514</td>\n",
       "      <td>NaN</td>\n",
       "      <td>214.0</td>\n",
       "      <td>0.354177</td>\n",
       "    </tr>\n",
       "    <tr>\n",
       "      <th>1110</th>\n",
       "      <td>Belgium</td>\n",
       "      <td>2021-03-18</td>\n",
       "      <td>1447685.0</td>\n",
       "      <td>826932.0</td>\n",
       "      <td>10408005.0</td>\n",
       "      <td>NaN</td>\n",
       "      <td>22803.0</td>\n",
       "      <td>11433256.0</td>\n",
       "      <td>7232.690320</td>\n",
       "      <td>199.444498</td>\n",
       "      <td>2.757542</td>\n",
       "      <td>91032.729434</td>\n",
       "      <td>0.126621</td>\n",
       "      <td>5036.0</td>\n",
       "      <td>44.046945</td>\n",
       "    </tr>\n",
       "    <tr>\n",
       "      <th>1048</th>\n",
       "      <td>Belgium</td>\n",
       "      <td>2021-01-15</td>\n",
       "      <td>119515.0</td>\n",
       "      <td>677240.0</td>\n",
       "      <td>7581004.0</td>\n",
       "      <td>NaN</td>\n",
       "      <td>20619.0</td>\n",
       "      <td>11433256.0</td>\n",
       "      <td>5923.421989</td>\n",
       "      <td>180.342328</td>\n",
       "      <td>3.044563</td>\n",
       "      <td>66306.605922</td>\n",
       "      <td>0.010453</td>\n",
       "      <td>2070.0</td>\n",
       "      <td>18.105079</td>\n",
       "    </tr>\n",
       "    <tr>\n",
       "      <th>4776</th>\n",
       "      <td>United Kingdom</td>\n",
       "      <td>2021-07-31</td>\n",
       "      <td>85138553.0</td>\n",
       "      <td>5896038.0</td>\n",
       "      <td>241235058.0</td>\n",
       "      <td>NaN</td>\n",
       "      <td>130012.0</td>\n",
       "      <td>66460344.0</td>\n",
       "      <td>8871.512913</td>\n",
       "      <td>195.623423</td>\n",
       "      <td>2.205074</td>\n",
       "      <td>362975.939456</td>\n",
       "      <td>1.281043</td>\n",
       "      <td>20126.0</td>\n",
       "      <td>30.282720</td>\n",
       "    </tr>\n",
       "  </tbody>\n",
       "</table>\n",
       "</div>"
      ],
      "text/plain": [
       "                  id        date    vaccines  confirmed        tests  \\\n",
       "1735        Portugal  2021-01-15    128527.0   528469.0    6373175.0   \n",
       "136            Italy  2020-07-09         NaN   242363.0    5806668.0   \n",
       "1110         Belgium  2021-03-18   1447685.0   826932.0   10408005.0   \n",
       "1048         Belgium  2021-01-15    119515.0   677240.0    7581004.0   \n",
       "4776  United Kingdom  2021-07-31  85138553.0  5896038.0  241235058.0   \n",
       "\n",
       "      recovered    deaths  population  confirmed_per  deaths_per      ratio  \\\n",
       "1735   394065.0    8543.0  10283822.0    5138.838459   83.072227   1.616557   \n",
       "136    193978.0   34926.0  60421760.0     401.118736   57.803679  14.410615   \n",
       "1110        NaN   22803.0  11433256.0    7232.690320  199.444498   2.757542   \n",
       "1048        NaN   20619.0  11433256.0    5923.421989  180.342328   3.044563   \n",
       "4776        NaN  130012.0  66460344.0    8871.512913  195.623423   2.205074   \n",
       "\n",
       "          tests_per  vaccines_per  new_cases  new_cases_per  \n",
       "1735   61972.824889      0.012498    10663.0     103.687131  \n",
       "136     9610.226514           NaN      214.0       0.354177  \n",
       "1110   91032.729434      0.126621     5036.0      44.046945  \n",
       "1048   66306.605922      0.010453     2070.0      18.105079  \n",
       "4776  362975.939456      1.281043    20126.0      30.282720  "
      ]
     },
     "execution_count": 2,
     "metadata": {},
     "output_type": "execute_result"
    }
   ],
   "source": [
    "x_small = pd.read_csv(x_small_url)\n",
    "x_small.sample(5)"
   ]
  },
  {
   "cell_type": "markdown",
   "id": "91ca47be",
   "metadata": {
    "papermill": {
     "duration": 0.010136,
     "end_time": "2022-01-14T14:13:29.846238",
     "exception": false,
     "start_time": "2022-01-14T14:13:29.836102",
     "status": "completed"
    },
    "tags": []
   },
   "source": [
    "# Plotting the data"
   ]
  },
  {
   "cell_type": "markdown",
   "id": "f17ae2dc",
   "metadata": {
    "papermill": {
     "duration": 0.00998,
     "end_time": "2022-01-14T14:13:29.866306",
     "exception": false,
     "start_time": "2022-01-14T14:13:29.856326",
     "status": "completed"
    },
    "tags": []
   },
   "source": [
    "We will first look at the total numbers of cases and deaths in each country, before moving on to cases and deaths per 100k population.\n",
    "\n",
    "{% include info.html text=\"In each of the charts below, you can click on the legend to filter the lines shown\" %}"
   ]
  },
  {
   "cell_type": "markdown",
   "id": "fbb461ff",
   "metadata": {
    "papermill": {
     "duration": 0.009966,
     "end_time": "2022-01-14T14:13:29.886315",
     "exception": false,
     "start_time": "2022-01-14T14:13:29.876349",
     "status": "completed"
    },
    "tags": []
   },
   "source": [
    "## Total cases per 100,000"
   ]
  },
  {
   "cell_type": "code",
   "execution_count": 3,
   "id": "b78bd9bb",
   "metadata": {
    "ExecuteTime": {
     "end_time": "2021-11-07T14:33:29.184599Z",
     "start_time": "2021-11-07T14:33:29.133602Z"
    },
    "execution": {
     "iopub.execute_input": "2022-01-14T14:13:29.942141Z",
     "iopub.status.busy": "2022-01-14T14:13:29.937160Z",
     "iopub.status.idle": "2022-01-14T14:13:29.954777Z",
     "shell.execute_reply": "2022-01-14T14:13:29.955179Z"
    },
    "papermill": {
     "duration": 0.059032,
     "end_time": "2022-01-14T14:13:29.955344",
     "exception": false,
     "start_time": "2022-01-14T14:13:29.896312",
     "status": "completed"
    },
    "tags": []
   },
   "outputs": [
    {
     "data": {
      "text/html": [
       "\n",
       "<div id=\"altair-viz-15c37a3f6dac4e2489ab86ea7f080c92\"></div>\n",
       "<script type=\"text/javascript\">\n",
       "  (function(spec, embedOpt){\n",
       "    let outputDiv = document.currentScript.previousElementSibling;\n",
       "    if (outputDiv.id !== \"altair-viz-15c37a3f6dac4e2489ab86ea7f080c92\") {\n",
       "      outputDiv = document.getElementById(\"altair-viz-15c37a3f6dac4e2489ab86ea7f080c92\");\n",
       "    }\n",
       "    const paths = {\n",
       "      \"vega\": \"https://cdn.jsdelivr.net/npm//vega@5?noext\",\n",
       "      \"vega-lib\": \"https://cdn.jsdelivr.net/npm//vega-lib?noext\",\n",
       "      \"vega-lite\": \"https://cdn.jsdelivr.net/npm//vega-lite@4.8.1?noext\",\n",
       "      \"vega-embed\": \"https://cdn.jsdelivr.net/npm//vega-embed@6?noext\",\n",
       "    };\n",
       "\n",
       "    function loadScript(lib) {\n",
       "      return new Promise(function(resolve, reject) {\n",
       "        var s = document.createElement('script');\n",
       "        s.src = paths[lib];\n",
       "        s.async = true;\n",
       "        s.onload = () => resolve(paths[lib]);\n",
       "        s.onerror = () => reject(`Error loading script: ${paths[lib]}`);\n",
       "        document.getElementsByTagName(\"head\")[0].appendChild(s);\n",
       "      });\n",
       "    }\n",
       "\n",
       "    function showError(err) {\n",
       "      outputDiv.innerHTML = `<div class=\"error\" style=\"color:red;\">${err}</div>`;\n",
       "      throw err;\n",
       "    }\n",
       "\n",
       "    function displayChart(vegaEmbed) {\n",
       "      vegaEmbed(outputDiv, spec, embedOpt)\n",
       "        .catch(err => showError(`Javascript Error: ${err.message}<br>This usually means there's a typo in your chart specification. See the javascript console for the full traceback.`));\n",
       "    }\n",
       "\n",
       "    if(typeof define === \"function\" && define.amd) {\n",
       "      requirejs.config({paths});\n",
       "      require([\"vega-embed\"], displayChart, err => showError(`Error loading script: ${err.message}`));\n",
       "    } else if (typeof vegaEmbed === \"function\") {\n",
       "      displayChart(vegaEmbed);\n",
       "    } else {\n",
       "      loadScript(\"vega\")\n",
       "        .then(() => loadScript(\"vega-lite\"))\n",
       "        .then(() => loadScript(\"vega-embed\"))\n",
       "        .catch(showError)\n",
       "        .then(() => displayChart(vegaEmbed));\n",
       "    }\n",
       "  })({\"config\": {\"view\": {\"continuousWidth\": 400, \"continuousHeight\": 300}}, \"data\": {\"url\": \"https://raw.githubusercontent.com/idjotherwise/nlp-otherwise/master/data_sets/european_covid.csv\"}, \"mark\": \"line\", \"encoding\": {\"color\": {\"type\": \"nominal\", \"field\": \"id\", \"legend\": {\"title\": \"Countries\"}}, \"opacity\": {\"condition\": {\"value\": 1, \"selection\": \"selector001\"}, \"value\": 0.2}, \"tooltip\": [{\"type\": \"nominal\", \"field\": \"id\"}, {\"type\": \"quantitative\", \"field\": \"confirmed_per\"}], \"x\": {\"type\": \"temporal\", \"axis\": {\"title\": \"Date\"}, \"field\": \"date\", \"timeUnit\": \"yearmonthdate\"}, \"y\": {\"type\": \"quantitative\", \"axis\": {\"title\": \"Confirmed per 100k\"}, \"field\": \"confirmed_per\"}}, \"selection\": {\"selector001\": {\"type\": \"multi\", \"fields\": [\"id\"], \"bind\": \"legend\"}, \"selector002\": {\"type\": \"interval\", \"bind\": \"scales\", \"encodings\": [\"x\", \"y\"]}}, \"title\": \"Total number of cases per 100,000 population for selected European Countries\", \"transform\": [{\"filter\": \"(datum.confirmed_per > 0)\"}], \"width\": 600, \"$schema\": \"https://vega.github.io/schema/vega-lite/v4.8.1.json\"}, {\"mode\": \"vega-lite\"});\n",
       "</script>"
      ],
      "text/plain": [
       "alt.Chart(...)"
      ]
     },
     "execution_count": 3,
     "metadata": {},
     "output_type": "execute_result"
    }
   ],
   "source": [
    "#collapse\n",
    "\n",
    "leg_selection = alt.selection_multi(fields=['id'], bind='legend')\n",
    "\n",
    "alt.Chart(x_small_url).mark_line().encode(\n",
    "    x=alt.X(\"yearmonthdate(date):T\", axis=alt.Axis(title='Date')),\n",
    "    y=alt.Y(\"confirmed_per:Q\", axis=alt.Axis(title='Confirmed per 100k')),\n",
    "    tooltip=['id:N', 'confirmed_per:Q'],\n",
    "    color=alt.Color('id:N', legend=alt.Legend(title=\"Countries\")),\n",
    "    opacity=alt.condition(leg_selection, alt.value(1), alt.value(0.2))\n",
    ").transform_filter(alt.datum.confirmed_per>0).add_selection(leg_selection).properties(title='Total number of cases per 100,000 population for selected European Countries', width=600).interactive()\n"
   ]
  },
  {
   "cell_type": "markdown",
   "id": "c86ee094",
   "metadata": {
    "papermill": {
     "duration": 0.010611,
     "end_time": "2022-01-14T14:13:29.977084",
     "exception": false,
     "start_time": "2022-01-14T14:13:29.966473",
     "status": "completed"
    },
    "tags": []
   },
   "source": [
    "## Total deaths per 100,000"
   ]
  },
  {
   "cell_type": "code",
   "execution_count": 4,
   "id": "2b81238d",
   "metadata": {
    "ExecuteTime": {
     "end_time": "2021-11-07T14:34:56.819563Z",
     "start_time": "2021-11-07T14:34:56.766129Z"
    },
    "execution": {
     "iopub.execute_input": "2022-01-14T14:13:30.035575Z",
     "iopub.status.busy": "2022-01-14T14:13:30.026745Z",
     "iopub.status.idle": "2022-01-14T14:13:30.037718Z",
     "shell.execute_reply": "2022-01-14T14:13:30.038110Z"
    },
    "papermill": {
     "duration": 0.050713,
     "end_time": "2022-01-14T14:13:30.038257",
     "exception": false,
     "start_time": "2022-01-14T14:13:29.987544",
     "status": "completed"
    },
    "tags": []
   },
   "outputs": [
    {
     "data": {
      "text/html": [
       "\n",
       "<div id=\"altair-viz-b9eae5e4d5e74aa4ac09cc296762b41b\"></div>\n",
       "<script type=\"text/javascript\">\n",
       "  (function(spec, embedOpt){\n",
       "    let outputDiv = document.currentScript.previousElementSibling;\n",
       "    if (outputDiv.id !== \"altair-viz-b9eae5e4d5e74aa4ac09cc296762b41b\") {\n",
       "      outputDiv = document.getElementById(\"altair-viz-b9eae5e4d5e74aa4ac09cc296762b41b\");\n",
       "    }\n",
       "    const paths = {\n",
       "      \"vega\": \"https://cdn.jsdelivr.net/npm//vega@5?noext\",\n",
       "      \"vega-lib\": \"https://cdn.jsdelivr.net/npm//vega-lib?noext\",\n",
       "      \"vega-lite\": \"https://cdn.jsdelivr.net/npm//vega-lite@4.8.1?noext\",\n",
       "      \"vega-embed\": \"https://cdn.jsdelivr.net/npm//vega-embed@6?noext\",\n",
       "    };\n",
       "\n",
       "    function loadScript(lib) {\n",
       "      return new Promise(function(resolve, reject) {\n",
       "        var s = document.createElement('script');\n",
       "        s.src = paths[lib];\n",
       "        s.async = true;\n",
       "        s.onload = () => resolve(paths[lib]);\n",
       "        s.onerror = () => reject(`Error loading script: ${paths[lib]}`);\n",
       "        document.getElementsByTagName(\"head\")[0].appendChild(s);\n",
       "      });\n",
       "    }\n",
       "\n",
       "    function showError(err) {\n",
       "      outputDiv.innerHTML = `<div class=\"error\" style=\"color:red;\">${err}</div>`;\n",
       "      throw err;\n",
       "    }\n",
       "\n",
       "    function displayChart(vegaEmbed) {\n",
       "      vegaEmbed(outputDiv, spec, embedOpt)\n",
       "        .catch(err => showError(`Javascript Error: ${err.message}<br>This usually means there's a typo in your chart specification. See the javascript console for the full traceback.`));\n",
       "    }\n",
       "\n",
       "    if(typeof define === \"function\" && define.amd) {\n",
       "      requirejs.config({paths});\n",
       "      require([\"vega-embed\"], displayChart, err => showError(`Error loading script: ${err.message}`));\n",
       "    } else if (typeof vegaEmbed === \"function\") {\n",
       "      displayChart(vegaEmbed);\n",
       "    } else {\n",
       "      loadScript(\"vega\")\n",
       "        .then(() => loadScript(\"vega-lite\"))\n",
       "        .then(() => loadScript(\"vega-embed\"))\n",
       "        .catch(showError)\n",
       "        .then(() => displayChart(vegaEmbed));\n",
       "    }\n",
       "  })({\"config\": {\"view\": {\"continuousWidth\": 400, \"continuousHeight\": 300}}, \"data\": {\"url\": \"https://raw.githubusercontent.com/idjotherwise/nlp-otherwise/master/data_sets/european_covid.csv\"}, \"mark\": \"line\", \"encoding\": {\"color\": {\"type\": \"nominal\", \"field\": \"id\", \"legend\": {\"title\": \"Countries\"}}, \"opacity\": {\"condition\": {\"value\": 1, \"selection\": \"selector001\"}, \"value\": 0.2}, \"tooltip\": [{\"type\": \"nominal\", \"field\": \"id\"}, {\"type\": \"quantitative\", \"field\": \"deaths_per\"}, {\"type\": \"temporal\", \"field\": \"date\", \"timeUnit\": \"yearmonthdate\"}], \"x\": {\"type\": \"temporal\", \"axis\": {\"title\": \"Date\"}, \"field\": \"date\", \"timeUnit\": \"yearmonthdate\"}, \"y\": {\"type\": \"quantitative\", \"axis\": {\"title\": \"Deaths per 100k\"}, \"field\": \"deaths_per\", \"impute\": {\"value\": 50}}}, \"selection\": {\"selector001\": {\"type\": \"multi\", \"fields\": [\"id\"], \"bind\": \"legend\"}, \"selector003\": {\"type\": \"interval\", \"bind\": \"scales\", \"encodings\": [\"x\", \"y\"]}}, \"title\": \"Number of deaths per 100,000 population for selected European Countries\", \"transform\": [{\"filter\": \"(datum.deaths_per > 0)\"}], \"width\": 600, \"$schema\": \"https://vega.github.io/schema/vega-lite/v4.8.1.json\"}, {\"mode\": \"vega-lite\"});\n",
       "</script>"
      ],
      "text/plain": [
       "alt.Chart(...)"
      ]
     },
     "execution_count": 4,
     "metadata": {},
     "output_type": "execute_result"
    }
   ],
   "source": [
    "#collapse\n",
    "alt.Chart(x_small_url).mark_line().encode(\n",
    "    x=alt.X(\"yearmonthdate(date):T\", axis=alt.Axis(title='Date')),\n",
    "    y=alt.Y(\"deaths_per:Q\", axis=alt.Axis(title='Deaths per 100k'), impute=alt.ImputeParams(value=50)),\n",
    "    tooltip=[\"id:N\", \"deaths_per:Q\", \"yearmonthdate(date):T\"],\n",
    "    color=alt.Color('id:N', legend=alt.Legend(title=\"Countries\")),\n",
    "    opacity=alt.condition(leg_selection, alt.value(1), alt.value(0.2))\n",
    ").transform_filter(alt.datum.deaths_per>0).add_selection(leg_selection).properties(title='Number of deaths per 100,000 population for selected European Countries', width=600).interactive()"
   ]
  },
  {
   "cell_type": "markdown",
   "id": "ff216a63",
   "metadata": {
    "papermill": {
     "duration": 0.010874,
     "end_time": "2022-01-14T14:13:30.060055",
     "exception": false,
     "start_time": "2022-01-14T14:13:30.049181",
     "status": "completed"
    },
    "tags": []
   },
   "source": [
    "## Two week incidence rate"
   ]
  },
  {
   "cell_type": "code",
   "execution_count": 5,
   "id": "e352d090",
   "metadata": {
    "ExecuteTime": {
     "end_time": "2021-11-07T14:37:17.617319Z",
     "start_time": "2021-11-07T14:37:17.512572Z"
    },
    "execution": {
     "iopub.execute_input": "2022-01-14T14:13:30.105330Z",
     "iopub.status.busy": "2022-01-14T14:13:30.095140Z",
     "iopub.status.idle": "2022-01-14T14:13:30.131752Z",
     "shell.execute_reply": "2022-01-14T14:13:30.132204Z"
    },
    "papermill": {
     "duration": 0.061248,
     "end_time": "2022-01-14T14:13:30.132366",
     "exception": false,
     "start_time": "2022-01-14T14:13:30.071118",
     "status": "completed"
    },
    "scrolled": false,
    "tags": []
   },
   "outputs": [
    {
     "data": {
      "text/html": [
       "\n",
       "<div id=\"altair-viz-53963a6d6dbc4b4ea4d40755847d48ae\"></div>\n",
       "<script type=\"text/javascript\">\n",
       "  (function(spec, embedOpt){\n",
       "    let outputDiv = document.currentScript.previousElementSibling;\n",
       "    if (outputDiv.id !== \"altair-viz-53963a6d6dbc4b4ea4d40755847d48ae\") {\n",
       "      outputDiv = document.getElementById(\"altair-viz-53963a6d6dbc4b4ea4d40755847d48ae\");\n",
       "    }\n",
       "    const paths = {\n",
       "      \"vega\": \"https://cdn.jsdelivr.net/npm//vega@5?noext\",\n",
       "      \"vega-lib\": \"https://cdn.jsdelivr.net/npm//vega-lib?noext\",\n",
       "      \"vega-lite\": \"https://cdn.jsdelivr.net/npm//vega-lite@4.8.1?noext\",\n",
       "      \"vega-embed\": \"https://cdn.jsdelivr.net/npm//vega-embed@6?noext\",\n",
       "    };\n",
       "\n",
       "    function loadScript(lib) {\n",
       "      return new Promise(function(resolve, reject) {\n",
       "        var s = document.createElement('script');\n",
       "        s.src = paths[lib];\n",
       "        s.async = true;\n",
       "        s.onload = () => resolve(paths[lib]);\n",
       "        s.onerror = () => reject(`Error loading script: ${paths[lib]}`);\n",
       "        document.getElementsByTagName(\"head\")[0].appendChild(s);\n",
       "      });\n",
       "    }\n",
       "\n",
       "    function showError(err) {\n",
       "      outputDiv.innerHTML = `<div class=\"error\" style=\"color:red;\">${err}</div>`;\n",
       "      throw err;\n",
       "    }\n",
       "\n",
       "    function displayChart(vegaEmbed) {\n",
       "      vegaEmbed(outputDiv, spec, embedOpt)\n",
       "        .catch(err => showError(`Javascript Error: ${err.message}<br>This usually means there's a typo in your chart specification. See the javascript console for the full traceback.`));\n",
       "    }\n",
       "\n",
       "    if(typeof define === \"function\" && define.amd) {\n",
       "      requirejs.config({paths});\n",
       "      require([\"vega-embed\"], displayChart, err => showError(`Error loading script: ${err.message}`));\n",
       "    } else if (typeof vegaEmbed === \"function\") {\n",
       "      displayChart(vegaEmbed);\n",
       "    } else {\n",
       "      loadScript(\"vega\")\n",
       "        .then(() => loadScript(\"vega-lite\"))\n",
       "        .then(() => loadScript(\"vega-embed\"))\n",
       "        .catch(showError)\n",
       "        .then(() => displayChart(vegaEmbed));\n",
       "    }\n",
       "  })({\"config\": {\"view\": {\"continuousWidth\": 400, \"continuousHeight\": 300}}, \"vconcat\": [{\"mark\": \"line\", \"encoding\": {\"color\": {\"type\": \"nominal\", \"field\": \"id\", \"legend\": {\"title\": \"Countries\"}}, \"opacity\": {\"condition\": {\"value\": 1, \"selection\": \"selector001\"}, \"value\": 0.2}, \"tooltip\": [{\"type\": \"nominal\", \"field\": \"id\"}, {\"type\": \"quantitative\", \"field\": \"rolling_mean\"}], \"x\": {\"type\": \"temporal\", \"axis\": {\"title\": \"Date\"}, \"field\": \"date\", \"scale\": {\"domain\": {\"selection\": \"selector004\"}}, \"timeUnit\": \"yearmonthdate\"}, \"y\": {\"type\": \"quantitative\", \"axis\": {\"title\": \"Incidence rate\"}, \"field\": \"rolling_mean\"}}, \"height\": 400, \"selection\": {\"selector001\": {\"type\": \"multi\", \"fields\": [\"id\"], \"bind\": \"legend\"}}, \"title\": \"Number of new cases per 100,000 over two weeks for selected countries\", \"transform\": [{\"filter\": \"(datum.new_cases_per > 0)\"}, {\"window\": [{\"op\": \"sum\", \"field\": \"new_cases_per\", \"as\": \"rolling_mean\"}], \"frame\": [-7, 0], \"groupby\": [\"id:N\"]}], \"width\": 600}, {\"mark\": \"line\", \"encoding\": {\"color\": {\"type\": \"nominal\", \"field\": \"id\", \"legend\": {\"title\": \"Countries\"}}, \"opacity\": {\"condition\": {\"value\": 1, \"selection\": \"selector001\"}, \"value\": 0.2}, \"tooltip\": [{\"type\": \"nominal\", \"field\": \"id\"}, {\"type\": \"quantitative\", \"field\": \"rolling_mean\"}], \"x\": {\"type\": \"temporal\", \"axis\": {\"title\": \"Date\"}, \"field\": \"date\", \"timeUnit\": \"yearmonthdate\"}, \"y\": {\"type\": \"quantitative\", \"axis\": {\"title\": \"Incidence rate\"}, \"field\": \"rolling_mean\"}}, \"height\": 60, \"selection\": {\"selector001\": {\"type\": \"multi\", \"fields\": [\"id\"], \"bind\": \"legend\"}, \"selector004\": {\"type\": \"interval\", \"encodings\": [\"x\"]}}, \"title\": \"Number of new cases per 100,000 over two weeks for selected countries\", \"transform\": [{\"filter\": \"(datum.new_cases_per > 0)\"}, {\"window\": [{\"op\": \"sum\", \"field\": \"new_cases_per\", \"as\": \"rolling_mean\"}], \"frame\": [-7, 0], \"groupby\": [\"id:N\"]}], \"width\": 600}], \"data\": {\"url\": \"https://raw.githubusercontent.com/idjotherwise/nlp-otherwise/master/data_sets/european_covid.csv\"}, \"$schema\": \"https://vega.github.io/schema/vega-lite/v4.8.1.json\"}, {\"mode\": \"vega-lite\"});\n",
       "</script>"
      ],
      "text/plain": [
       "alt.VConcatChart(...)"
      ]
     },
     "execution_count": 5,
     "metadata": {},
     "output_type": "execute_result"
    }
   ],
   "source": [
    "#collapse\n",
    "brush = alt.selection(type='interval', encodings=['x'])\n",
    "\n",
    "base = alt.Chart(x_small_url).mark_line().transform_filter(alt.datum.new_cases_per>0).transform_window(\n",
    "    rolling_mean='sum(new_cases_per)',\n",
    "    frame=[-7, 0],\n",
    "    groupby=['id:N']\n",
    ").encode(\n",
    "    x=alt.X(\"yearmonthdate(date):T\",\n",
    "            axis=alt.Axis(title='Date')\n",
    "           ),\n",
    "    y=alt.Y(\"rolling_mean:Q\",\n",
    "            axis=alt.Axis(title='Incidence rate')\n",
    "           ),\n",
    "    tooltip=['id:N', 'rolling_mean:Q'],\n",
    "    color=alt.Color('id:N', legend=alt.Legend(title=\"Countries\")),\n",
    "    opacity=alt.condition(leg_selection, alt.value(1), alt.value(0.2))\n",
    ").add_selection(leg_selection).properties(\n",
    "    width=600,\n",
    "    height=400,\n",
    "    title='Number of new cases per 100,000 over two weeks for selected countries'\n",
    ")\n",
    "\n",
    "upper = base.encode(\n",
    "    alt.X('yearmonthdate(date):T',axis=alt.Axis(title='Date'),\n",
    "          scale=alt.Scale(domain=brush))\n",
    ")\n",
    "\n",
    "lower = base.properties(\n",
    "    height=60\n",
    ").add_selection(brush)\n",
    "\n",
    "upper & lower"
   ]
  },
  {
   "cell_type": "markdown",
   "id": "49bc0f04",
   "metadata": {
    "papermill": {
     "duration": 0.011495,
     "end_time": "2022-01-14T14:13:30.155550",
     "exception": false,
     "start_time": "2022-01-14T14:13:30.144055",
     "status": "completed"
    },
    "tags": []
   },
   "source": [
    "The ratio of confirmed cases and deaths gives an indication of what the case fatality rate is - it seems to be between 2 and 3%, assuming that the countries listed here are catching all positive cases (which they probably aren't, so it's likely lower than this)."
   ]
  },
  {
   "cell_type": "markdown",
   "id": "0d96571c",
   "metadata": {
    "papermill": {
     "duration": 0.011275,
     "end_time": "2022-01-14T14:13:30.178099",
     "exception": false,
     "start_time": "2022-01-14T14:13:30.166824",
     "status": "completed"
    },
    "tags": []
   },
   "source": [
    "## Case fatality rate"
   ]
  },
  {
   "cell_type": "code",
   "execution_count": 6,
   "id": "1381df3d",
   "metadata": {
    "ExecuteTime": {
     "end_time": "2021-11-07T14:40:18.149796Z",
     "start_time": "2021-11-07T14:40:18.098057Z"
    },
    "execution": {
     "iopub.execute_input": "2022-01-14T14:13:30.223926Z",
     "iopub.status.busy": "2022-01-14T14:13:30.218811Z",
     "iopub.status.idle": "2022-01-14T14:13:30.238619Z",
     "shell.execute_reply": "2022-01-14T14:13:30.239015Z"
    },
    "papermill": {
     "duration": 0.049641,
     "end_time": "2022-01-14T14:13:30.239164",
     "exception": false,
     "start_time": "2022-01-14T14:13:30.189523",
     "status": "completed"
    },
    "tags": []
   },
   "outputs": [
    {
     "data": {
      "text/html": [
       "\n",
       "<div id=\"altair-viz-d87ea9a30b154749aa9b2e13f508709d\"></div>\n",
       "<script type=\"text/javascript\">\n",
       "  (function(spec, embedOpt){\n",
       "    let outputDiv = document.currentScript.previousElementSibling;\n",
       "    if (outputDiv.id !== \"altair-viz-d87ea9a30b154749aa9b2e13f508709d\") {\n",
       "      outputDiv = document.getElementById(\"altair-viz-d87ea9a30b154749aa9b2e13f508709d\");\n",
       "    }\n",
       "    const paths = {\n",
       "      \"vega\": \"https://cdn.jsdelivr.net/npm//vega@5?noext\",\n",
       "      \"vega-lib\": \"https://cdn.jsdelivr.net/npm//vega-lib?noext\",\n",
       "      \"vega-lite\": \"https://cdn.jsdelivr.net/npm//vega-lite@4.8.1?noext\",\n",
       "      \"vega-embed\": \"https://cdn.jsdelivr.net/npm//vega-embed@6?noext\",\n",
       "    };\n",
       "\n",
       "    function loadScript(lib) {\n",
       "      return new Promise(function(resolve, reject) {\n",
       "        var s = document.createElement('script');\n",
       "        s.src = paths[lib];\n",
       "        s.async = true;\n",
       "        s.onload = () => resolve(paths[lib]);\n",
       "        s.onerror = () => reject(`Error loading script: ${paths[lib]}`);\n",
       "        document.getElementsByTagName(\"head\")[0].appendChild(s);\n",
       "      });\n",
       "    }\n",
       "\n",
       "    function showError(err) {\n",
       "      outputDiv.innerHTML = `<div class=\"error\" style=\"color:red;\">${err}</div>`;\n",
       "      throw err;\n",
       "    }\n",
       "\n",
       "    function displayChart(vegaEmbed) {\n",
       "      vegaEmbed(outputDiv, spec, embedOpt)\n",
       "        .catch(err => showError(`Javascript Error: ${err.message}<br>This usually means there's a typo in your chart specification. See the javascript console for the full traceback.`));\n",
       "    }\n",
       "\n",
       "    if(typeof define === \"function\" && define.amd) {\n",
       "      requirejs.config({paths});\n",
       "      require([\"vega-embed\"], displayChart, err => showError(`Error loading script: ${err.message}`));\n",
       "    } else if (typeof vegaEmbed === \"function\") {\n",
       "      displayChart(vegaEmbed);\n",
       "    } else {\n",
       "      loadScript(\"vega\")\n",
       "        .then(() => loadScript(\"vega-lite\"))\n",
       "        .then(() => loadScript(\"vega-embed\"))\n",
       "        .catch(showError)\n",
       "        .then(() => displayChart(vegaEmbed));\n",
       "    }\n",
       "  })({\"config\": {\"view\": {\"continuousWidth\": 400, \"continuousHeight\": 300}}, \"vconcat\": [{\"mark\": \"line\", \"encoding\": {\"color\": {\"type\": \"nominal\", \"field\": \"id\", \"legend\": {\"title\": \"Countries\"}}, \"opacity\": {\"condition\": {\"value\": 1, \"selection\": \"selector001\"}, \"value\": 0.2}, \"tooltip\": {\"type\": \"nominal\", \"field\": \"id\"}, \"x\": {\"type\": \"temporal\", \"axis\": {\"title\": \"Date\"}, \"field\": \"date\", \"scale\": {\"domain\": {\"selection\": \"selector004\"}}, \"timeUnit\": \"yearmonthdate\"}, \"y\": {\"type\": \"quantitative\", \"axis\": {\"title\": \"Ratio of deaths per case\"}, \"field\": \"ratio\"}}, \"selection\": {\"selector001\": {\"type\": \"multi\", \"fields\": [\"id\"], \"bind\": \"legend\"}}, \"title\": \"The ratio of deaths to confirmed cases (case fatality rate)\", \"transform\": [{\"filter\": \"(datum.ratio > 0)\"}], \"width\": 600}, {\"mark\": \"line\", \"encoding\": {\"color\": {\"type\": \"nominal\", \"field\": \"id\", \"legend\": {\"title\": \"Countries\"}}, \"opacity\": {\"condition\": {\"value\": 1, \"selection\": \"selector001\"}, \"value\": 0.2}, \"tooltip\": {\"type\": \"nominal\", \"field\": \"id\"}, \"x\": {\"type\": \"temporal\", \"axis\": {\"title\": \"Date\"}, \"field\": \"date\", \"timeUnit\": \"yearmonthdate\"}, \"y\": {\"type\": \"quantitative\", \"axis\": {\"title\": \"Ratio of deaths per case\"}, \"field\": \"ratio\"}}, \"height\": 60, \"selection\": {\"selector001\": {\"type\": \"multi\", \"fields\": [\"id\"], \"bind\": \"legend\"}, \"selector004\": {\"type\": \"interval\", \"encodings\": [\"x\"]}}, \"title\": \"The ratio of deaths to confirmed cases (case fatality rate)\", \"transform\": [{\"filter\": \"(datum.ratio > 0)\"}], \"width\": 600}], \"data\": {\"url\": \"https://raw.githubusercontent.com/idjotherwise/nlp-otherwise/master/data_sets/european_covid.csv\"}, \"$schema\": \"https://vega.github.io/schema/vega-lite/v4.8.1.json\"}, {\"mode\": \"vega-lite\"});\n",
       "</script>"
      ],
      "text/plain": [
       "alt.VConcatChart(...)"
      ]
     },
     "execution_count": 6,
     "metadata": {},
     "output_type": "execute_result"
    }
   ],
   "source": [
    "#collapse\n",
    "base = alt.Chart(x_small_url).mark_line().transform_filter(alt.datum.ratio>0).encode(\n",
    "    x=alt.X(\"yearmonthdate(date):T\", axis=alt.Axis(title='Date')),\n",
    "    y=alt.Y(\"ratio:Q\", axis=alt.Axis(title='Ratio of deaths per case')),\n",
    "    tooltip='id:N',\n",
    "    color=alt.Color('id:N', legend=alt.Legend(title=\"Countries\")),\n",
    "opacity=alt.condition(leg_selection, alt.value(1), alt.value(0.2))\n",
    ").add_selection(leg_selection).properties(title='The ratio of deaths to confirmed cases (case fatality rate)', width=600)\n",
    "\n",
    "upper = base.encode(\n",
    "    alt.X('yearmonthdate(date):T',axis=alt.Axis(title='Date'),\n",
    "          scale=alt.Scale(domain=brush))\n",
    ")\n",
    "\n",
    "lower = base.properties(\n",
    "    height=60\n",
    ").add_selection(brush)\n",
    "\n",
    "upper & lower"
   ]
  },
  {
   "cell_type": "markdown",
   "id": "817864b6",
   "metadata": {
    "papermill": {
     "duration": 0.011738,
     "end_time": "2022-01-14T14:13:30.262820",
     "exception": false,
     "start_time": "2022-01-14T14:13:30.251082",
     "status": "completed"
    },
    "tags": []
   },
   "source": [
    "# Vaccines"
   ]
  },
  {
   "cell_type": "markdown",
   "id": "db42f003",
   "metadata": {
    "papermill": {
     "duration": 0.011724,
     "end_time": "2022-01-14T14:13:30.286196",
     "exception": false,
     "start_time": "2022-01-14T14:13:30.274472",
     "status": "completed"
    },
    "tags": []
   },
   "source": [
    "In the chart below we plot the number vaccines given per population - this means that if the number is 1, then the country has given the equivalent of 1 shot for each person in the country. Since not everyone in the countries are eligible to get the vaccine, a ratio of 1 means that many people have recieved two jabs. Note also that some kinds of vaccines (the J&J's [Janssen vaccine](https://www.cdc.gov/coronavirus/2019-ncov/vaccines/different-vaccines/janssen.html), for example) only require 1 shot so the goal is not neccesarily to reach exactly 2 shots per person in the whole country."
   ]
  },
  {
   "cell_type": "code",
   "execution_count": 7,
   "id": "70a61e21",
   "metadata": {
    "ExecuteTime": {
     "end_time": "2021-11-07T14:41:13.331122Z",
     "start_time": "2021-11-07T14:41:13.283828Z"
    },
    "execution": {
     "iopub.execute_input": "2022-01-14T14:13:30.332915Z",
     "iopub.status.busy": "2022-01-14T14:13:30.322774Z",
     "iopub.status.idle": "2022-01-14T14:13:30.346460Z",
     "shell.execute_reply": "2022-01-14T14:13:30.346829Z"
    },
    "papermill": {
     "duration": 0.048918,
     "end_time": "2022-01-14T14:13:30.346980",
     "exception": false,
     "start_time": "2022-01-14T14:13:30.298062",
     "status": "completed"
    },
    "tags": []
   },
   "outputs": [
    {
     "data": {
      "text/html": [
       "\n",
       "<div id=\"altair-viz-d2e5bda0fe274f149269b17211f51d06\"></div>\n",
       "<script type=\"text/javascript\">\n",
       "  (function(spec, embedOpt){\n",
       "    let outputDiv = document.currentScript.previousElementSibling;\n",
       "    if (outputDiv.id !== \"altair-viz-d2e5bda0fe274f149269b17211f51d06\") {\n",
       "      outputDiv = document.getElementById(\"altair-viz-d2e5bda0fe274f149269b17211f51d06\");\n",
       "    }\n",
       "    const paths = {\n",
       "      \"vega\": \"https://cdn.jsdelivr.net/npm//vega@5?noext\",\n",
       "      \"vega-lib\": \"https://cdn.jsdelivr.net/npm//vega-lib?noext\",\n",
       "      \"vega-lite\": \"https://cdn.jsdelivr.net/npm//vega-lite@4.8.1?noext\",\n",
       "      \"vega-embed\": \"https://cdn.jsdelivr.net/npm//vega-embed@6?noext\",\n",
       "    };\n",
       "\n",
       "    function loadScript(lib) {\n",
       "      return new Promise(function(resolve, reject) {\n",
       "        var s = document.createElement('script');\n",
       "        s.src = paths[lib];\n",
       "        s.async = true;\n",
       "        s.onload = () => resolve(paths[lib]);\n",
       "        s.onerror = () => reject(`Error loading script: ${paths[lib]}`);\n",
       "        document.getElementsByTagName(\"head\")[0].appendChild(s);\n",
       "      });\n",
       "    }\n",
       "\n",
       "    function showError(err) {\n",
       "      outputDiv.innerHTML = `<div class=\"error\" style=\"color:red;\">${err}</div>`;\n",
       "      throw err;\n",
       "    }\n",
       "\n",
       "    function displayChart(vegaEmbed) {\n",
       "      vegaEmbed(outputDiv, spec, embedOpt)\n",
       "        .catch(err => showError(`Javascript Error: ${err.message}<br>This usually means there's a typo in your chart specification. See the javascript console for the full traceback.`));\n",
       "    }\n",
       "\n",
       "    if(typeof define === \"function\" && define.amd) {\n",
       "      requirejs.config({paths});\n",
       "      require([\"vega-embed\"], displayChart, err => showError(`Error loading script: ${err.message}`));\n",
       "    } else if (typeof vegaEmbed === \"function\") {\n",
       "      displayChart(vegaEmbed);\n",
       "    } else {\n",
       "      loadScript(\"vega\")\n",
       "        .then(() => loadScript(\"vega-lite\"))\n",
       "        .then(() => loadScript(\"vega-embed\"))\n",
       "        .catch(showError)\n",
       "        .then(() => displayChart(vegaEmbed));\n",
       "    }\n",
       "  })({\"config\": {\"view\": {\"continuousWidth\": 400, \"continuousHeight\": 300}}, \"data\": {\"url\": \"https://raw.githubusercontent.com/idjotherwise/nlp-otherwise/master/data_sets/european_covid.csv\"}, \"mark\": \"line\", \"encoding\": {\"color\": {\"type\": \"nominal\", \"field\": \"id\", \"legend\": {\"title\": \"Countries\"}}, \"opacity\": {\"condition\": {\"value\": 1, \"selection\": \"selector001\"}, \"value\": 0.2}, \"tooltip\": [{\"type\": \"nominal\", \"field\": \"id\"}, {\"type\": \"quantitative\", \"field\": \"vaccines_per\"}], \"x\": {\"type\": \"temporal\", \"axis\": {\"title\": \"Date\"}, \"field\": \"date\", \"timeUnit\": \"yearmonthdate\"}, \"y\": {\"type\": \"quantitative\", \"axis\": {\"title\": \"Number of vaccines given\"}, \"field\": \"vaccines_per\"}}, \"selection\": {\"selector001\": {\"type\": \"multi\", \"fields\": [\"id\"], \"bind\": \"legend\"}, \"selector005\": {\"type\": \"interval\", \"bind\": \"scales\", \"encodings\": [\"x\", \"y\"]}}, \"title\": \"Number of vaccines given\", \"transform\": [{\"filter\": \"(datum.vaccines_per > 0)\"}], \"width\": 600, \"$schema\": \"https://vega.github.io/schema/vega-lite/v4.8.1.json\"}, {\"mode\": \"vega-lite\"});\n",
       "</script>"
      ],
      "text/plain": [
       "alt.Chart(...)"
      ]
     },
     "execution_count": 7,
     "metadata": {},
     "output_type": "execute_result"
    }
   ],
   "source": [
    "#collapse\n",
    "alt.Chart(x_small_url).mark_line().transform_filter(alt.datum.vaccines_per>0).encode(\n",
    "    x=alt.X(\"yearmonthdate(date):T\", axis=alt.Axis(title='Date')),\n",
    "    y=alt.Y(\"vaccines_per:Q\", axis=alt.Axis(title='Number of vaccines given')),\n",
    "    tooltip=['id:N', 'vaccines_per:Q'],\n",
    "    color=alt.Color('id:N', legend=alt.Legend(title=\"Countries\")),\n",
    "    opacity=alt.condition(leg_selection, alt.value(1), alt.value(0.2))\n",
    ").add_selection(leg_selection).properties(title='Number of vaccines given', width=600).interactive()"
   ]
  }
 ],
 "metadata": {
  "kernelspec": {
   "display_name": "Python 3",
   "language": "python",
   "name": "python3"
  },
  "language_info": {
   "codemirror_mode": {
    "name": "ipython",
    "version": 3
   },
   "file_extension": ".py",
   "mimetype": "text/x-python",
   "name": "python",
   "nbconvert_exporter": "python",
   "pygments_lexer": "ipython3",
   "version": "3.7.12"
  },
  "papermill": {
   "default_parameters": {},
   "duration": 2.579854,
   "end_time": "2022-01-14T14:13:30.666683",
   "environment_variables": {},
   "exception": null,
   "input_path": "2021-02-21-european-covid.ipynb",
   "output_path": "2021-02-21-european-covid.ipynb",
   "parameters": {},
   "start_time": "2022-01-14T14:13:28.086829",
   "version": "2.2.2"
  },
  "varInspector": {
   "cols": {
    "lenName": 16,
    "lenType": 16,
    "lenVar": 40
   },
   "kernels_config": {
    "python": {
     "delete_cmd_postfix": "",
     "delete_cmd_prefix": "del ",
     "library": "var_list.py",
     "varRefreshCmd": "print(var_dic_list())"
    },
    "r": {
     "delete_cmd_postfix": ") ",
     "delete_cmd_prefix": "rm(",
     "library": "var_list.r",
     "varRefreshCmd": "cat(var_dic_list()) "
    }
   },
   "types_to_exclude": [
    "module",
    "function",
    "builtin_function_or_method",
    "instance",
    "_Feature"
   ],
   "window_display": false
  }
 },
 "nbformat": 4,
 "nbformat_minor": 5
}