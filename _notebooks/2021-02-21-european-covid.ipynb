{
 "cells": [
  {
   "cell_type": "markdown",
   "id": "26ecbc00",
   "metadata": {
    "ExecuteTime": {
     "end_time": "2021-02-21T18:05:31.321700Z",
     "start_time": "2021-02-21T18:05:31.315068Z"
    },
    "papermill": {
     "duration": 0.012315,
     "end_time": "2022-09-01T14:14:51.279426",
     "exception": false,
     "start_time": "2022-09-01T14:14:51.267111",
     "status": "completed"
    },
    "tags": []
   },
   "source": [
    "# \"European Covid data exploration\"\n",
    "> \"Exploring which countries have had the highest and lowest covid numbers in Europe\"\n",
    "\n",
    "- toc: true\n",
    "- branch: master\n",
    "- badges: true\n",
    "- comments: false\n",
    "- author: Ifan Johnston\n",
    "- categories: [covid]"
   ]
  },
  {
   "cell_type": "markdown",
   "id": "f5567209",
   "metadata": {
    "papermill": {
     "duration": 0.009621,
     "end_time": "2022-09-01T14:14:51.299063",
     "exception": false,
     "start_time": "2022-09-01T14:14:51.289442",
     "status": "completed"
    },
    "tags": []
   },
   "source": [
    "# Importing and preparing the data\n",
    "\n",
    "We will be looking at data from the following countries:\n",
    "\n",
    "- Italy\n",
    "- Austria\n",
    "- Germany\n",
    "- Belgium\n",
    "- France\n",
    "- United Kingdom\n",
    "- Portugal\n",
    "\n",
    "We begin by importing the data, and adding some new features so that we can compare the data from different countries. For example we calculate 'confirmed cases per 100k population', 'deaths per 100k' and 'new cases' since these are not initially in the dataset. This data is collected and preprocessed in [this file](https://github.com/idjotherwise/nlp-otherwise/blob/master/src/update_datasets.py)."
   ]
  },
  {
   "cell_type": "code",
   "execution_count": 1,
   "id": "487a80d9",
   "metadata": {
    "ExecuteTime": {
     "end_time": "2021-11-07T14:31:02.789723Z",
     "start_time": "2021-11-07T14:31:02.786713Z"
    },
    "execution": {
     "iopub.execute_input": "2022-09-01T14:14:51.326422Z",
     "iopub.status.busy": "2022-09-01T14:14:51.325917Z",
     "iopub.status.idle": "2022-09-01T14:14:51.696773Z",
     "shell.execute_reply": "2022-09-01T14:14:51.696246Z"
    },
    "papermill": {
     "duration": 0.388337,
     "end_time": "2022-09-01T14:14:51.696913",
     "exception": false,
     "start_time": "2022-09-01T14:14:51.308576",
     "status": "completed"
    },
    "tags": []
   },
   "outputs": [],
   "source": [
    "#collapse\n",
    "\n",
    "import altair as alt\n",
    "import pandas as pd\n",
    "\n",
    "x_small_url = \"https://raw.githubusercontent.com/idjotherwise/nlp-otherwise/master/data_sets/european_covid.csv\""
   ]
  },
  {
   "cell_type": "markdown",
   "id": "21fbc9b2",
   "metadata": {
    "papermill": {
     "duration": 0.047043,
     "end_time": "2022-09-01T14:14:51.789085",
     "exception": false,
     "start_time": "2022-09-01T14:14:51.742042",
     "status": "completed"
    },
    "tags": []
   },
   "source": [
    "Here is a random sample of 5 rows from the dataset."
   ]
  },
  {
   "cell_type": "code",
   "execution_count": 2,
   "id": "75678edc",
   "metadata": {
    "ExecuteTime": {
     "end_time": "2021-11-07T14:31:21.068843Z",
     "start_time": "2021-11-07T14:31:21.016816Z"
    },
    "execution": {
     "iopub.execute_input": "2022-09-01T14:14:51.892891Z",
     "iopub.status.busy": "2022-09-01T14:14:51.892379Z",
     "iopub.status.idle": "2022-09-01T14:14:52.151015Z",
     "shell.execute_reply": "2022-09-01T14:14:52.151408Z"
    },
    "papermill": {
     "duration": 0.315605,
     "end_time": "2022-09-01T14:14:52.151556",
     "exception": false,
     "start_time": "2022-09-01T14:14:51.835951",
     "status": "completed"
    },
    "tags": []
   },
   "outputs": [
    {
     "data": {
      "text/html": [
       "<div>\n",
       "<style scoped>\n",
       "    .dataframe tbody tr th:only-of-type {\n",
       "        vertical-align: middle;\n",
       "    }\n",
       "\n",
       "    .dataframe tbody tr th {\n",
       "        vertical-align: top;\n",
       "    }\n",
       "\n",
       "    .dataframe thead th {\n",
       "        text-align: right;\n",
       "    }\n",
       "</style>\n",
       "<table border=\"1\" class=\"dataframe\">\n",
       "  <thead>\n",
       "    <tr style=\"text-align: right;\">\n",
       "      <th></th>\n",
       "      <th>id</th>\n",
       "      <th>date</th>\n",
       "      <th>vaccines</th>\n",
       "      <th>confirmed</th>\n",
       "      <th>tests</th>\n",
       "      <th>recovered</th>\n",
       "      <th>deaths</th>\n",
       "      <th>population</th>\n",
       "      <th>confirmed_per</th>\n",
       "      <th>deaths_per</th>\n",
       "      <th>ratio</th>\n",
       "      <th>tests_per</th>\n",
       "      <th>vaccines_per</th>\n",
       "      <th>new_cases</th>\n",
       "      <th>new_cases_per</th>\n",
       "    </tr>\n",
       "  </thead>\n",
       "  <tbody>\n",
       "    <tr>\n",
       "      <th>159</th>\n",
       "      <td>Italy</td>\n",
       "      <td>2020-08-01</td>\n",
       "      <td>NaN</td>\n",
       "      <td>247832.0</td>\n",
       "      <td>6873496.0</td>\n",
       "      <td>200229.0</td>\n",
       "      <td>35146.0</td>\n",
       "      <td>60421760.0</td>\n",
       "      <td>410.170111</td>\n",
       "      <td>58.167786</td>\n",
       "      <td>14.181381</td>\n",
       "      <td>11375.861941</td>\n",
       "      <td>NaN</td>\n",
       "      <td>295.0</td>\n",
       "      <td>0.488235</td>\n",
       "    </tr>\n",
       "    <tr>\n",
       "      <th>4878</th>\n",
       "      <td>Austria</td>\n",
       "      <td>2020-12-20</td>\n",
       "      <td>NaN</td>\n",
       "      <td>337498.0</td>\n",
       "      <td>NaN</td>\n",
       "      <td>298337.0</td>\n",
       "      <td>6693.0</td>\n",
       "      <td>8840521.0</td>\n",
       "      <td>3817.625681</td>\n",
       "      <td>75.708208</td>\n",
       "      <td>1.983123</td>\n",
       "      <td>NaN</td>\n",
       "      <td>NaN</td>\n",
       "      <td>1353.0</td>\n",
       "      <td>15.304528</td>\n",
       "    </tr>\n",
       "    <tr>\n",
       "      <th>610</th>\n",
       "      <td>Italy</td>\n",
       "      <td>2021-10-26</td>\n",
       "      <td>89275283.0</td>\n",
       "      <td>4747773.0</td>\n",
       "      <td>101911219.0</td>\n",
       "      <td>4540823.0</td>\n",
       "      <td>131904.0</td>\n",
       "      <td>60421760.0</td>\n",
       "      <td>7857.720464</td>\n",
       "      <td>218.305458</td>\n",
       "      <td>2.778229</td>\n",
       "      <td>168666.419184</td>\n",
       "      <td>1.477535</td>\n",
       "      <td>4053.0</td>\n",
       "      <td>6.707848</td>\n",
       "    </tr>\n",
       "    <tr>\n",
       "      <th>217</th>\n",
       "      <td>Italy</td>\n",
       "      <td>2020-09-28</td>\n",
       "      <td>NaN</td>\n",
       "      <td>311364.0</td>\n",
       "      <td>11138173.0</td>\n",
       "      <td>225190.0</td>\n",
       "      <td>35851.0</td>\n",
       "      <td>60421760.0</td>\n",
       "      <td>515.317660</td>\n",
       "      <td>59.334584</td>\n",
       "      <td>11.514176</td>\n",
       "      <td>18434.042636</td>\n",
       "      <td>NaN</td>\n",
       "      <td>1494.0</td>\n",
       "      <td>2.472619</td>\n",
       "    </tr>\n",
       "    <tr>\n",
       "      <th>102</th>\n",
       "      <td>Italy</td>\n",
       "      <td>2020-06-05</td>\n",
       "      <td>NaN</td>\n",
       "      <td>234531.0</td>\n",
       "      <td>4114572.0</td>\n",
       "      <td>163781.0</td>\n",
       "      <td>33774.0</td>\n",
       "      <td>60421760.0</td>\n",
       "      <td>388.156518</td>\n",
       "      <td>55.897081</td>\n",
       "      <td>14.400655</td>\n",
       "      <td>6809.751983</td>\n",
       "      <td>NaN</td>\n",
       "      <td>518.0</td>\n",
       "      <td>0.857307</td>\n",
       "    </tr>\n",
       "  </tbody>\n",
       "</table>\n",
       "</div>"
      ],
      "text/plain": [
       "           id        date    vaccines  confirmed        tests  recovered  \\\n",
       "159     Italy  2020-08-01         NaN   247832.0    6873496.0   200229.0   \n",
       "4878  Austria  2020-12-20         NaN   337498.0          NaN   298337.0   \n",
       "610     Italy  2021-10-26  89275283.0  4747773.0  101911219.0  4540823.0   \n",
       "217     Italy  2020-09-28         NaN   311364.0   11138173.0   225190.0   \n",
       "102     Italy  2020-06-05         NaN   234531.0    4114572.0   163781.0   \n",
       "\n",
       "        deaths  population  confirmed_per  deaths_per      ratio  \\\n",
       "159    35146.0  60421760.0     410.170111   58.167786  14.181381   \n",
       "4878    6693.0   8840521.0    3817.625681   75.708208   1.983123   \n",
       "610   131904.0  60421760.0    7857.720464  218.305458   2.778229   \n",
       "217    35851.0  60421760.0     515.317660   59.334584  11.514176   \n",
       "102    33774.0  60421760.0     388.156518   55.897081  14.400655   \n",
       "\n",
       "          tests_per  vaccines_per  new_cases  new_cases_per  \n",
       "159    11375.861941           NaN      295.0       0.488235  \n",
       "4878            NaN           NaN     1353.0      15.304528  \n",
       "610   168666.419184      1.477535     4053.0       6.707848  \n",
       "217    18434.042636           NaN     1494.0       2.472619  \n",
       "102     6809.751983           NaN      518.0       0.857307  "
      ]
     },
     "execution_count": 2,
     "metadata": {},
     "output_type": "execute_result"
    }
   ],
   "source": [
    "x_small = pd.read_csv(x_small_url)\n",
    "x_small.sample(5)"
   ]
  },
  {
   "cell_type": "markdown",
   "id": "91ca47be",
   "metadata": {
    "papermill": {
     "duration": 0.010527,
     "end_time": "2022-09-01T14:14:52.193546",
     "exception": false,
     "start_time": "2022-09-01T14:14:52.183019",
     "status": "completed"
    },
    "tags": []
   },
   "source": [
    "# Plotting the data"
   ]
  },
  {
   "cell_type": "markdown",
   "id": "f17ae2dc",
   "metadata": {
    "papermill": {
     "duration": 0.009956,
     "end_time": "2022-09-01T14:14:52.213521",
     "exception": false,
     "start_time": "2022-09-01T14:14:52.203565",
     "status": "completed"
    },
    "tags": []
   },
   "source": [
    "We will first look at the total numbers of cases and deaths in each country, before moving on to cases and deaths per 100k population.\n",
    "\n",
    "{% include info.html text=\"In each of the charts below, you can click on the legend to filter the lines shown\" %}"
   ]
  },
  {
   "cell_type": "markdown",
   "id": "fbb461ff",
   "metadata": {
    "papermill": {
     "duration": 0.009907,
     "end_time": "2022-09-01T14:14:52.233444",
     "exception": false,
     "start_time": "2022-09-01T14:14:52.223537",
     "status": "completed"
    },
    "tags": []
   },
   "source": [
    "## Total cases per 100,000"
   ]
  },
  {
   "cell_type": "code",
   "execution_count": 3,
   "id": "b78bd9bb",
   "metadata": {
    "ExecuteTime": {
     "end_time": "2021-11-07T14:33:29.184599Z",
     "start_time": "2021-11-07T14:33:29.133602Z"
    },
    "execution": {
     "iopub.execute_input": "2022-09-01T14:14:52.291719Z",
     "iopub.status.busy": "2022-09-01T14:14:52.281384Z",
     "iopub.status.idle": "2022-09-01T14:14:52.293820Z",
     "shell.execute_reply": "2022-09-01T14:14:52.294209Z"
    },
    "papermill": {
     "duration": 0.050893,
     "end_time": "2022-09-01T14:14:52.294348",
     "exception": false,
     "start_time": "2022-09-01T14:14:52.243455",
     "status": "completed"
    },
    "tags": []
   },
   "outputs": [
    {
     "data": {
      "text/html": [
       "\n",
       "<div id=\"altair-viz-cbafa7c588e343639f1075d939f98ec7\"></div>\n",
       "<script type=\"text/javascript\">\n",
       "  (function(spec, embedOpt){\n",
       "    let outputDiv = document.currentScript.previousElementSibling;\n",
       "    if (outputDiv.id !== \"altair-viz-cbafa7c588e343639f1075d939f98ec7\") {\n",
       "      outputDiv = document.getElementById(\"altair-viz-cbafa7c588e343639f1075d939f98ec7\");\n",
       "    }\n",
       "    const paths = {\n",
       "      \"vega\": \"https://cdn.jsdelivr.net/npm//vega@5?noext\",\n",
       "      \"vega-lib\": \"https://cdn.jsdelivr.net/npm//vega-lib?noext\",\n",
       "      \"vega-lite\": \"https://cdn.jsdelivr.net/npm//vega-lite@4.8.1?noext\",\n",
       "      \"vega-embed\": \"https://cdn.jsdelivr.net/npm//vega-embed@6?noext\",\n",
       "    };\n",
       "\n",
       "    function loadScript(lib) {\n",
       "      return new Promise(function(resolve, reject) {\n",
       "        var s = document.createElement('script');\n",
       "        s.src = paths[lib];\n",
       "        s.async = true;\n",
       "        s.onload = () => resolve(paths[lib]);\n",
       "        s.onerror = () => reject(`Error loading script: ${paths[lib]}`);\n",
       "        document.getElementsByTagName(\"head\")[0].appendChild(s);\n",
       "      });\n",
       "    }\n",
       "\n",
       "    function showError(err) {\n",
       "      outputDiv.innerHTML = `<div class=\"error\" style=\"color:red;\">${err}</div>`;\n",
       "      throw err;\n",
       "    }\n",
       "\n",
       "    function displayChart(vegaEmbed) {\n",
       "      vegaEmbed(outputDiv, spec, embedOpt)\n",
       "        .catch(err => showError(`Javascript Error: ${err.message}<br>This usually means there's a typo in your chart specification. See the javascript console for the full traceback.`));\n",
       "    }\n",
       "\n",
       "    if(typeof define === \"function\" && define.amd) {\n",
       "      requirejs.config({paths});\n",
       "      require([\"vega-embed\"], displayChart, err => showError(`Error loading script: ${err.message}`));\n",
       "    } else if (typeof vegaEmbed === \"function\") {\n",
       "      displayChart(vegaEmbed);\n",
       "    } else {\n",
       "      loadScript(\"vega\")\n",
       "        .then(() => loadScript(\"vega-lite\"))\n",
       "        .then(() => loadScript(\"vega-embed\"))\n",
       "        .catch(showError)\n",
       "        .then(() => displayChart(vegaEmbed));\n",
       "    }\n",
       "  })({\"config\": {\"view\": {\"continuousWidth\": 400, \"continuousHeight\": 300}}, \"data\": {\"url\": \"https://raw.githubusercontent.com/idjotherwise/nlp-otherwise/master/data_sets/european_covid.csv\"}, \"mark\": \"line\", \"encoding\": {\"color\": {\"type\": \"nominal\", \"field\": \"id\", \"legend\": {\"title\": \"Countries\"}}, \"opacity\": {\"condition\": {\"value\": 1, \"selection\": \"selector001\"}, \"value\": 0.2}, \"tooltip\": [{\"type\": \"nominal\", \"field\": \"id\"}, {\"type\": \"quantitative\", \"field\": \"confirmed_per\"}], \"x\": {\"type\": \"temporal\", \"axis\": {\"title\": \"Date\"}, \"field\": \"date\", \"timeUnit\": \"yearmonthdate\"}, \"y\": {\"type\": \"quantitative\", \"axis\": {\"title\": \"Confirmed per 100k\"}, \"field\": \"confirmed_per\"}}, \"selection\": {\"selector001\": {\"type\": \"multi\", \"fields\": [\"id\"], \"bind\": \"legend\"}, \"selector002\": {\"type\": \"interval\", \"bind\": \"scales\", \"encodings\": [\"x\", \"y\"]}}, \"title\": \"Total number of cases per 100,000 population for selected European Countries\", \"transform\": [{\"filter\": \"(datum.confirmed_per > 0)\"}], \"width\": 600, \"$schema\": \"https://vega.github.io/schema/vega-lite/v4.8.1.json\"}, {\"mode\": \"vega-lite\"});\n",
       "</script>"
      ],
      "text/plain": [
       "alt.Chart(...)"
      ]
     },
     "execution_count": 3,
     "metadata": {},
     "output_type": "execute_result"
    }
   ],
   "source": [
    "#collapse\n",
    "\n",
    "leg_selection = alt.selection_multi(fields=['id'], bind='legend')\n",
    "\n",
    "alt.Chart(x_small_url).mark_line().encode(\n",
    "    x=alt.X(\"yearmonthdate(date):T\", axis=alt.Axis(title='Date')),\n",
    "    y=alt.Y(\"confirmed_per:Q\", axis=alt.Axis(title='Confirmed per 100k')),\n",
    "    tooltip=['id:N', 'confirmed_per:Q'],\n",
    "    color=alt.Color('id:N', legend=alt.Legend(title=\"Countries\")),\n",
    "    opacity=alt.condition(leg_selection, alt.value(1), alt.value(0.2))\n",
    ").transform_filter(alt.datum.confirmed_per>0).add_selection(leg_selection).properties(title='Total number of cases per 100,000 population for selected European Countries', width=600).interactive()\n"
   ]
  },
  {
   "cell_type": "markdown",
   "id": "c86ee094",
   "metadata": {
    "papermill": {
     "duration": 0.010652,
     "end_time": "2022-09-01T14:14:52.315594",
     "exception": false,
     "start_time": "2022-09-01T14:14:52.304942",
     "status": "completed"
    },
    "tags": []
   },
   "source": [
    "## Total deaths per 100,000"
   ]
  },
  {
   "cell_type": "code",
   "execution_count": 4,
   "id": "2b81238d",
   "metadata": {
    "ExecuteTime": {
     "end_time": "2021-11-07T14:34:56.819563Z",
     "start_time": "2021-11-07T14:34:56.766129Z"
    },
    "execution": {
     "iopub.execute_input": "2022-09-01T14:14:52.348652Z",
     "iopub.status.busy": "2022-09-01T14:14:52.343559Z",
     "iopub.status.idle": "2022-09-01T14:14:52.374812Z",
     "shell.execute_reply": "2022-09-01T14:14:52.375256Z"
    },
    "papermill": {
     "duration": 0.049507,
     "end_time": "2022-09-01T14:14:52.375406",
     "exception": false,
     "start_time": "2022-09-01T14:14:52.325899",
     "status": "completed"
    },
    "tags": []
   },
   "outputs": [
    {
     "data": {
      "text/html": [
       "\n",
       "<div id=\"altair-viz-4cb7b3b8fab04b3aabb16d29dcabe193\"></div>\n",
       "<script type=\"text/javascript\">\n",
       "  (function(spec, embedOpt){\n",
       "    let outputDiv = document.currentScript.previousElementSibling;\n",
       "    if (outputDiv.id !== \"altair-viz-4cb7b3b8fab04b3aabb16d29dcabe193\") {\n",
       "      outputDiv = document.getElementById(\"altair-viz-4cb7b3b8fab04b3aabb16d29dcabe193\");\n",
       "    }\n",
       "    const paths = {\n",
       "      \"vega\": \"https://cdn.jsdelivr.net/npm//vega@5?noext\",\n",
       "      \"vega-lib\": \"https://cdn.jsdelivr.net/npm//vega-lib?noext\",\n",
       "      \"vega-lite\": \"https://cdn.jsdelivr.net/npm//vega-lite@4.8.1?noext\",\n",
       "      \"vega-embed\": \"https://cdn.jsdelivr.net/npm//vega-embed@6?noext\",\n",
       "    };\n",
       "\n",
       "    function loadScript(lib) {\n",
       "      return new Promise(function(resolve, reject) {\n",
       "        var s = document.createElement('script');\n",
       "        s.src = paths[lib];\n",
       "        s.async = true;\n",
       "        s.onload = () => resolve(paths[lib]);\n",
       "        s.onerror = () => reject(`Error loading script: ${paths[lib]}`);\n",
       "        document.getElementsByTagName(\"head\")[0].appendChild(s);\n",
       "      });\n",
       "    }\n",
       "\n",
       "    function showError(err) {\n",
       "      outputDiv.innerHTML = `<div class=\"error\" style=\"color:red;\">${err}</div>`;\n",
       "      throw err;\n",
       "    }\n",
       "\n",
       "    function displayChart(vegaEmbed) {\n",
       "      vegaEmbed(outputDiv, spec, embedOpt)\n",
       "        .catch(err => showError(`Javascript Error: ${err.message}<br>This usually means there's a typo in your chart specification. See the javascript console for the full traceback.`));\n",
       "    }\n",
       "\n",
       "    if(typeof define === \"function\" && define.amd) {\n",
       "      requirejs.config({paths});\n",
       "      require([\"vega-embed\"], displayChart, err => showError(`Error loading script: ${err.message}`));\n",
       "    } else if (typeof vegaEmbed === \"function\") {\n",
       "      displayChart(vegaEmbed);\n",
       "    } else {\n",
       "      loadScript(\"vega\")\n",
       "        .then(() => loadScript(\"vega-lite\"))\n",
       "        .then(() => loadScript(\"vega-embed\"))\n",
       "        .catch(showError)\n",
       "        .then(() => displayChart(vegaEmbed));\n",
       "    }\n",
       "  })({\"config\": {\"view\": {\"continuousWidth\": 400, \"continuousHeight\": 300}}, \"data\": {\"url\": \"https://raw.githubusercontent.com/idjotherwise/nlp-otherwise/master/data_sets/european_covid.csv\"}, \"mark\": \"line\", \"encoding\": {\"color\": {\"type\": \"nominal\", \"field\": \"id\", \"legend\": {\"title\": \"Countries\"}}, \"opacity\": {\"condition\": {\"value\": 1, \"selection\": \"selector001\"}, \"value\": 0.2}, \"tooltip\": [{\"type\": \"nominal\", \"field\": \"id\"}, {\"type\": \"quantitative\", \"field\": \"deaths_per\"}, {\"type\": \"temporal\", \"field\": \"date\", \"timeUnit\": \"yearmonthdate\"}], \"x\": {\"type\": \"temporal\", \"axis\": {\"title\": \"Date\"}, \"field\": \"date\", \"timeUnit\": \"yearmonthdate\"}, \"y\": {\"type\": \"quantitative\", \"axis\": {\"title\": \"Deaths per 100k\"}, \"field\": \"deaths_per\", \"impute\": {\"value\": 50}}}, \"selection\": {\"selector001\": {\"type\": \"multi\", \"fields\": [\"id\"], \"bind\": \"legend\"}, \"selector003\": {\"type\": \"interval\", \"bind\": \"scales\", \"encodings\": [\"x\", \"y\"]}}, \"title\": \"Number of deaths per 100,000 population for selected European Countries\", \"transform\": [{\"filter\": \"(datum.deaths_per > 0)\"}], \"width\": 600, \"$schema\": \"https://vega.github.io/schema/vega-lite/v4.8.1.json\"}, {\"mode\": \"vega-lite\"});\n",
       "</script>"
      ],
      "text/plain": [
       "alt.Chart(...)"
      ]
     },
     "execution_count": 4,
     "metadata": {},
     "output_type": "execute_result"
    }
   ],
   "source": [
    "#collapse\n",
    "alt.Chart(x_small_url).mark_line().encode(\n",
    "    x=alt.X(\"yearmonthdate(date):T\", axis=alt.Axis(title='Date')),\n",
    "    y=alt.Y(\"deaths_per:Q\", axis=alt.Axis(title='Deaths per 100k'), impute=alt.ImputeParams(value=50)),\n",
    "    tooltip=[\"id:N\", \"deaths_per:Q\", \"yearmonthdate(date):T\"],\n",
    "    color=alt.Color('id:N', legend=alt.Legend(title=\"Countries\")),\n",
    "    opacity=alt.condition(leg_selection, alt.value(1), alt.value(0.2))\n",
    ").transform_filter(alt.datum.deaths_per>0).add_selection(leg_selection).properties(title='Number of deaths per 100,000 population for selected European Countries', width=600).interactive()"
   ]
  },
  {
   "cell_type": "markdown",
   "id": "ff216a63",
   "metadata": {
    "papermill": {
     "duration": 0.01071,
     "end_time": "2022-09-01T14:14:52.397250",
     "exception": false,
     "start_time": "2022-09-01T14:14:52.386540",
     "status": "completed"
    },
    "tags": []
   },
   "source": [
    "## Two week incidence rate"
   ]
  },
  {
   "cell_type": "code",
   "execution_count": 5,
   "id": "e352d090",
   "metadata": {
    "ExecuteTime": {
     "end_time": "2021-11-07T14:37:17.617319Z",
     "start_time": "2021-11-07T14:37:17.512572Z"
    },
    "execution": {
     "iopub.execute_input": "2022-09-01T14:14:52.441423Z",
     "iopub.status.busy": "2022-09-01T14:14:52.431207Z",
     "iopub.status.idle": "2022-09-01T14:14:52.464766Z",
     "shell.execute_reply": "2022-09-01T14:14:52.465204Z"
    },
    "papermill": {
     "duration": 0.057182,
     "end_time": "2022-09-01T14:14:52.465354",
     "exception": false,
     "start_time": "2022-09-01T14:14:52.408172",
     "status": "completed"
    },
    "scrolled": false,
    "tags": []
   },
   "outputs": [
    {
     "data": {
      "text/html": [
       "\n",
       "<div id=\"altair-viz-083ea97abfb14e3a83ea555b13c6bbe9\"></div>\n",
       "<script type=\"text/javascript\">\n",
       "  (function(spec, embedOpt){\n",
       "    let outputDiv = document.currentScript.previousElementSibling;\n",
       "    if (outputDiv.id !== \"altair-viz-083ea97abfb14e3a83ea555b13c6bbe9\") {\n",
       "      outputDiv = document.getElementById(\"altair-viz-083ea97abfb14e3a83ea555b13c6bbe9\");\n",
       "    }\n",
       "    const paths = {\n",
       "      \"vega\": \"https://cdn.jsdelivr.net/npm//vega@5?noext\",\n",
       "      \"vega-lib\": \"https://cdn.jsdelivr.net/npm//vega-lib?noext\",\n",
       "      \"vega-lite\": \"https://cdn.jsdelivr.net/npm//vega-lite@4.8.1?noext\",\n",
       "      \"vega-embed\": \"https://cdn.jsdelivr.net/npm//vega-embed@6?noext\",\n",
       "    };\n",
       "\n",
       "    function loadScript(lib) {\n",
       "      return new Promise(function(resolve, reject) {\n",
       "        var s = document.createElement('script');\n",
       "        s.src = paths[lib];\n",
       "        s.async = true;\n",
       "        s.onload = () => resolve(paths[lib]);\n",
       "        s.onerror = () => reject(`Error loading script: ${paths[lib]}`);\n",
       "        document.getElementsByTagName(\"head\")[0].appendChild(s);\n",
       "      });\n",
       "    }\n",
       "\n",
       "    function showError(err) {\n",
       "      outputDiv.innerHTML = `<div class=\"error\" style=\"color:red;\">${err}</div>`;\n",
       "      throw err;\n",
       "    }\n",
       "\n",
       "    function displayChart(vegaEmbed) {\n",
       "      vegaEmbed(outputDiv, spec, embedOpt)\n",
       "        .catch(err => showError(`Javascript Error: ${err.message}<br>This usually means there's a typo in your chart specification. See the javascript console for the full traceback.`));\n",
       "    }\n",
       "\n",
       "    if(typeof define === \"function\" && define.amd) {\n",
       "      requirejs.config({paths});\n",
       "      require([\"vega-embed\"], displayChart, err => showError(`Error loading script: ${err.message}`));\n",
       "    } else if (typeof vegaEmbed === \"function\") {\n",
       "      displayChart(vegaEmbed);\n",
       "    } else {\n",
       "      loadScript(\"vega\")\n",
       "        .then(() => loadScript(\"vega-lite\"))\n",
       "        .then(() => loadScript(\"vega-embed\"))\n",
       "        .catch(showError)\n",
       "        .then(() => displayChart(vegaEmbed));\n",
       "    }\n",
       "  })({\"config\": {\"view\": {\"continuousWidth\": 400, \"continuousHeight\": 300}}, \"vconcat\": [{\"mark\": \"line\", \"encoding\": {\"color\": {\"type\": \"nominal\", \"field\": \"id\", \"legend\": {\"title\": \"Countries\"}}, \"opacity\": {\"condition\": {\"value\": 1, \"selection\": \"selector001\"}, \"value\": 0.2}, \"tooltip\": [{\"type\": \"nominal\", \"field\": \"id\"}, {\"type\": \"quantitative\", \"field\": \"rolling_mean\"}], \"x\": {\"type\": \"temporal\", \"axis\": {\"title\": \"Date\"}, \"field\": \"date\", \"scale\": {\"domain\": {\"selection\": \"selector004\"}}, \"timeUnit\": \"yearmonthdate\"}, \"y\": {\"type\": \"quantitative\", \"axis\": {\"title\": \"Incidence rate\"}, \"field\": \"rolling_mean\"}}, \"height\": 400, \"selection\": {\"selector001\": {\"type\": \"multi\", \"fields\": [\"id\"], \"bind\": \"legend\"}}, \"title\": \"Number of new cases per 100,000 over two weeks for selected countries\", \"transform\": [{\"filter\": \"(datum.new_cases_per > 0)\"}, {\"window\": [{\"op\": \"sum\", \"field\": \"new_cases_per\", \"as\": \"rolling_mean\"}], \"frame\": [-14, 0], \"groupby\": [\"id:N\"]}], \"width\": 600}, {\"mark\": \"line\", \"encoding\": {\"color\": {\"type\": \"nominal\", \"field\": \"id\", \"legend\": {\"title\": \"Countries\"}}, \"opacity\": {\"condition\": {\"value\": 1, \"selection\": \"selector001\"}, \"value\": 0.2}, \"tooltip\": [{\"type\": \"nominal\", \"field\": \"id\"}, {\"type\": \"quantitative\", \"field\": \"rolling_mean\"}], \"x\": {\"type\": \"temporal\", \"axis\": {\"title\": \"Date\"}, \"field\": \"date\", \"timeUnit\": \"yearmonthdate\"}, \"y\": {\"type\": \"quantitative\", \"axis\": {\"title\": \"Incidence rate\"}, \"field\": \"rolling_mean\"}}, \"height\": 60, \"selection\": {\"selector001\": {\"type\": \"multi\", \"fields\": [\"id\"], \"bind\": \"legend\"}, \"selector004\": {\"type\": \"interval\", \"encodings\": [\"x\"]}}, \"title\": \"Number of new cases per 100,000 over two weeks for selected countries\", \"transform\": [{\"filter\": \"(datum.new_cases_per > 0)\"}, {\"window\": [{\"op\": \"sum\", \"field\": \"new_cases_per\", \"as\": \"rolling_mean\"}], \"frame\": [-14, 0], \"groupby\": [\"id:N\"]}], \"width\": 600}], \"data\": {\"url\": \"https://raw.githubusercontent.com/idjotherwise/nlp-otherwise/master/data_sets/european_covid.csv\"}, \"$schema\": \"https://vega.github.io/schema/vega-lite/v4.8.1.json\"}, {\"mode\": \"vega-lite\"});\n",
       "</script>"
      ],
      "text/plain": [
       "alt.VConcatChart(...)"
      ]
     },
     "execution_count": 5,
     "metadata": {},
     "output_type": "execute_result"
    }
   ],
   "source": [
    "#collapse\n",
    "brush = alt.selection(type='interval', encodings=['x'])\n",
    "\n",
    "base = alt.Chart(x_small_url).mark_line().transform_filter(alt.datum.new_cases_per>0).transform_window(\n",
    "    rolling_mean='sum(new_cases_per)',\n",
    "    frame=[-14, 0],\n",
    "    groupby=['id:N']\n",
    ").encode(\n",
    "    x=alt.X(\"yearmonthdate(date):T\",\n",
    "            axis=alt.Axis(title='Date')\n",
    "           ),\n",
    "    y=alt.Y(\"rolling_mean:Q\",\n",
    "            axis=alt.Axis(title='Incidence rate')\n",
    "           ),\n",
    "    tooltip=['id:N', 'rolling_mean:Q'],\n",
    "    color=alt.Color('id:N', legend=alt.Legend(title=\"Countries\")),\n",
    "    opacity=alt.condition(leg_selection, alt.value(1), alt.value(0.2))\n",
    ").add_selection(leg_selection).properties(\n",
    "    width=600,\n",
    "    height=400,\n",
    "    title='Number of new cases per 100,000 over two weeks for selected countries'\n",
    ")\n",
    "\n",
    "upper = base.encode(\n",
    "    alt.X('yearmonthdate(date):T',axis=alt.Axis(title='Date'),\n",
    "          scale=alt.Scale(domain=brush))\n",
    ")\n",
    "\n",
    "lower = base.properties(\n",
    "    height=60\n",
    ").add_selection(brush)\n",
    "\n",
    "upper & lower"
   ]
  },
  {
   "cell_type": "markdown",
   "id": "49bc0f04",
   "metadata": {
    "papermill": {
     "duration": 0.011122,
     "end_time": "2022-09-01T14:14:52.488488",
     "exception": false,
     "start_time": "2022-09-01T14:14:52.477366",
     "status": "completed"
    },
    "tags": []
   },
   "source": [
    "The ratio of confirmed cases and deaths gives an indication of what the case fatality rate is - it seems to be between 2 and 3%, assuming that the countries listed here are catching all positive cases (which they probably aren't, so it's likely lower than this)."
   ]
  },
  {
   "cell_type": "markdown",
   "id": "0d96571c",
   "metadata": {
    "papermill": {
     "duration": 0.011099,
     "end_time": "2022-09-01T14:14:52.510734",
     "exception": false,
     "start_time": "2022-09-01T14:14:52.499635",
     "status": "completed"
    },
    "tags": []
   },
   "source": [
    "## Case fatality rate"
   ]
  },
  {
   "cell_type": "code",
   "execution_count": 6,
   "id": "1381df3d",
   "metadata": {
    "ExecuteTime": {
     "end_time": "2021-11-07T14:40:18.149796Z",
     "start_time": "2021-11-07T14:40:18.098057Z"
    },
    "execution": {
     "iopub.execute_input": "2022-09-01T14:14:52.550829Z",
     "iopub.status.busy": "2022-09-01T14:14:52.545744Z",
     "iopub.status.idle": "2022-09-01T14:14:52.569571Z",
     "shell.execute_reply": "2022-09-01T14:14:52.570020Z"
    },
    "papermill": {
     "duration": 0.04816,
     "end_time": "2022-09-01T14:14:52.570176",
     "exception": false,
     "start_time": "2022-09-01T14:14:52.522016",
     "status": "completed"
    },
    "tags": []
   },
   "outputs": [
    {
     "data": {
      "text/html": [
       "\n",
       "<div id=\"altair-viz-604e20d094644a8f99f66df86fd4f8a4\"></div>\n",
       "<script type=\"text/javascript\">\n",
       "  (function(spec, embedOpt){\n",
       "    let outputDiv = document.currentScript.previousElementSibling;\n",
       "    if (outputDiv.id !== \"altair-viz-604e20d094644a8f99f66df86fd4f8a4\") {\n",
       "      outputDiv = document.getElementById(\"altair-viz-604e20d094644a8f99f66df86fd4f8a4\");\n",
       "    }\n",
       "    const paths = {\n",
       "      \"vega\": \"https://cdn.jsdelivr.net/npm//vega@5?noext\",\n",
       "      \"vega-lib\": \"https://cdn.jsdelivr.net/npm//vega-lib?noext\",\n",
       "      \"vega-lite\": \"https://cdn.jsdelivr.net/npm//vega-lite@4.8.1?noext\",\n",
       "      \"vega-embed\": \"https://cdn.jsdelivr.net/npm//vega-embed@6?noext\",\n",
       "    };\n",
       "\n",
       "    function loadScript(lib) {\n",
       "      return new Promise(function(resolve, reject) {\n",
       "        var s = document.createElement('script');\n",
       "        s.src = paths[lib];\n",
       "        s.async = true;\n",
       "        s.onload = () => resolve(paths[lib]);\n",
       "        s.onerror = () => reject(`Error loading script: ${paths[lib]}`);\n",
       "        document.getElementsByTagName(\"head\")[0].appendChild(s);\n",
       "      });\n",
       "    }\n",
       "\n",
       "    function showError(err) {\n",
       "      outputDiv.innerHTML = `<div class=\"error\" style=\"color:red;\">${err}</div>`;\n",
       "      throw err;\n",
       "    }\n",
       "\n",
       "    function displayChart(vegaEmbed) {\n",
       "      vegaEmbed(outputDiv, spec, embedOpt)\n",
       "        .catch(err => showError(`Javascript Error: ${err.message}<br>This usually means there's a typo in your chart specification. See the javascript console for the full traceback.`));\n",
       "    }\n",
       "\n",
       "    if(typeof define === \"function\" && define.amd) {\n",
       "      requirejs.config({paths});\n",
       "      require([\"vega-embed\"], displayChart, err => showError(`Error loading script: ${err.message}`));\n",
       "    } else if (typeof vegaEmbed === \"function\") {\n",
       "      displayChart(vegaEmbed);\n",
       "    } else {\n",
       "      loadScript(\"vega\")\n",
       "        .then(() => loadScript(\"vega-lite\"))\n",
       "        .then(() => loadScript(\"vega-embed\"))\n",
       "        .catch(showError)\n",
       "        .then(() => displayChart(vegaEmbed));\n",
       "    }\n",
       "  })({\"config\": {\"view\": {\"continuousWidth\": 400, \"continuousHeight\": 300}}, \"vconcat\": [{\"mark\": \"line\", \"encoding\": {\"color\": {\"type\": \"nominal\", \"field\": \"id\", \"legend\": {\"title\": \"Countries\"}}, \"opacity\": {\"condition\": {\"value\": 1, \"selection\": \"selector001\"}, \"value\": 0.2}, \"tooltip\": {\"type\": \"nominal\", \"field\": \"id\"}, \"x\": {\"type\": \"temporal\", \"axis\": {\"title\": \"Date\"}, \"field\": \"date\", \"scale\": {\"domain\": {\"selection\": \"selector004\"}}, \"timeUnit\": \"yearmonthdate\"}, \"y\": {\"type\": \"quantitative\", \"axis\": {\"title\": \"Ratio of deaths per case\"}, \"field\": \"ratio\"}}, \"selection\": {\"selector001\": {\"type\": \"multi\", \"fields\": [\"id\"], \"bind\": \"legend\"}}, \"title\": \"The ratio of deaths to confirmed cases (case fatality rate)\", \"transform\": [{\"filter\": \"(datum.ratio > 0)\"}], \"width\": 600}, {\"mark\": \"line\", \"encoding\": {\"color\": {\"type\": \"nominal\", \"field\": \"id\", \"legend\": {\"title\": \"Countries\"}}, \"opacity\": {\"condition\": {\"value\": 1, \"selection\": \"selector001\"}, \"value\": 0.2}, \"tooltip\": {\"type\": \"nominal\", \"field\": \"id\"}, \"x\": {\"type\": \"temporal\", \"axis\": {\"title\": \"Date\"}, \"field\": \"date\", \"timeUnit\": \"yearmonthdate\"}, \"y\": {\"type\": \"quantitative\", \"axis\": {\"title\": \"Ratio of deaths per case\"}, \"field\": \"ratio\"}}, \"height\": 60, \"selection\": {\"selector001\": {\"type\": \"multi\", \"fields\": [\"id\"], \"bind\": \"legend\"}, \"selector004\": {\"type\": \"interval\", \"encodings\": [\"x\"]}}, \"title\": \"The ratio of deaths to confirmed cases (case fatality rate)\", \"transform\": [{\"filter\": \"(datum.ratio > 0)\"}], \"width\": 600}], \"data\": {\"url\": \"https://raw.githubusercontent.com/idjotherwise/nlp-otherwise/master/data_sets/european_covid.csv\"}, \"$schema\": \"https://vega.github.io/schema/vega-lite/v4.8.1.json\"}, {\"mode\": \"vega-lite\"});\n",
       "</script>"
      ],
      "text/plain": [
       "alt.VConcatChart(...)"
      ]
     },
     "execution_count": 6,
     "metadata": {},
     "output_type": "execute_result"
    }
   ],
   "source": [
    "#collapse\n",
    "base = alt.Chart(x_small_url).mark_line().transform_filter(alt.datum.ratio>0).encode(\n",
    "    x=alt.X(\"yearmonthdate(date):T\", axis=alt.Axis(title='Date')),\n",
    "    y=alt.Y(\"ratio:Q\", axis=alt.Axis(title='Ratio of deaths per case')),\n",
    "    tooltip='id:N',\n",
    "    color=alt.Color('id:N', legend=alt.Legend(title=\"Countries\")),\n",
    "opacity=alt.condition(leg_selection, alt.value(1), alt.value(0.2))\n",
    ").add_selection(leg_selection).properties(title='The ratio of deaths to confirmed cases (case fatality rate)', width=600)\n",
    "\n",
    "upper = base.encode(\n",
    "    alt.X('yearmonthdate(date):T',axis=alt.Axis(title='Date'),\n",
    "          scale=alt.Scale(domain=brush))\n",
    ")\n",
    "\n",
    "lower = base.properties(\n",
    "    height=60\n",
    ").add_selection(brush)\n",
    "\n",
    "upper & lower"
   ]
  },
  {
   "cell_type": "markdown",
   "id": "817864b6",
   "metadata": {
    "papermill": {
     "duration": 0.011565,
     "end_time": "2022-09-01T14:14:52.593860",
     "exception": false,
     "start_time": "2022-09-01T14:14:52.582295",
     "status": "completed"
    },
    "tags": []
   },
   "source": [
    "# Vaccines"
   ]
  },
  {
   "cell_type": "markdown",
   "id": "db42f003",
   "metadata": {
    "papermill": {
     "duration": 0.011575,
     "end_time": "2022-09-01T14:14:52.616989",
     "exception": false,
     "start_time": "2022-09-01T14:14:52.605414",
     "status": "completed"
    },
    "tags": []
   },
   "source": [
    "In the chart below we plot the number vaccines given per population - this means that if the number is 1, then the country has given the equivalent of 1 shot for each person in the country. Since not everyone in the countries are eligible to get the vaccine, a ratio of 1 means that many people have recieved two jabs. Note also that some kinds of vaccines (the J&J's [Janssen vaccine](https://www.cdc.gov/coronavirus/2019-ncov/vaccines/different-vaccines/janssen.html), for example) only require 1 shot so the goal is not neccesarily to reach exactly 2 shots per person in the whole country."
   ]
  },
  {
   "cell_type": "code",
   "execution_count": 7,
   "id": "70a61e21",
   "metadata": {
    "ExecuteTime": {
     "end_time": "2021-11-07T14:41:13.331122Z",
     "start_time": "2021-11-07T14:41:13.283828Z"
    },
    "execution": {
     "iopub.execute_input": "2022-09-01T14:14:52.673834Z",
     "iopub.status.busy": "2022-09-01T14:14:52.672560Z",
     "iopub.status.idle": "2022-09-01T14:14:52.675819Z",
     "shell.execute_reply": "2022-09-01T14:14:52.675369Z"
    },
    "papermill": {
     "duration": 0.047229,
     "end_time": "2022-09-01T14:14:52.675935",
     "exception": false,
     "start_time": "2022-09-01T14:14:52.628706",
     "status": "completed"
    },
    "tags": []
   },
   "outputs": [
    {
     "data": {
      "text/html": [
       "\n",
       "<div id=\"altair-viz-2fa0c4a3029b4f15b68e0e44b106b540\"></div>\n",
       "<script type=\"text/javascript\">\n",
       "  (function(spec, embedOpt){\n",
       "    let outputDiv = document.currentScript.previousElementSibling;\n",
       "    if (outputDiv.id !== \"altair-viz-2fa0c4a3029b4f15b68e0e44b106b540\") {\n",
       "      outputDiv = document.getElementById(\"altair-viz-2fa0c4a3029b4f15b68e0e44b106b540\");\n",
       "    }\n",
       "    const paths = {\n",
       "      \"vega\": \"https://cdn.jsdelivr.net/npm//vega@5?noext\",\n",
       "      \"vega-lib\": \"https://cdn.jsdelivr.net/npm//vega-lib?noext\",\n",
       "      \"vega-lite\": \"https://cdn.jsdelivr.net/npm//vega-lite@4.8.1?noext\",\n",
       "      \"vega-embed\": \"https://cdn.jsdelivr.net/npm//vega-embed@6?noext\",\n",
       "    };\n",
       "\n",
       "    function loadScript(lib) {\n",
       "      return new Promise(function(resolve, reject) {\n",
       "        var s = document.createElement('script');\n",
       "        s.src = paths[lib];\n",
       "        s.async = true;\n",
       "        s.onload = () => resolve(paths[lib]);\n",
       "        s.onerror = () => reject(`Error loading script: ${paths[lib]}`);\n",
       "        document.getElementsByTagName(\"head\")[0].appendChild(s);\n",
       "      });\n",
       "    }\n",
       "\n",
       "    function showError(err) {\n",
       "      outputDiv.innerHTML = `<div class=\"error\" style=\"color:red;\">${err}</div>`;\n",
       "      throw err;\n",
       "    }\n",
       "\n",
       "    function displayChart(vegaEmbed) {\n",
       "      vegaEmbed(outputDiv, spec, embedOpt)\n",
       "        .catch(err => showError(`Javascript Error: ${err.message}<br>This usually means there's a typo in your chart specification. See the javascript console for the full traceback.`));\n",
       "    }\n",
       "\n",
       "    if(typeof define === \"function\" && define.amd) {\n",
       "      requirejs.config({paths});\n",
       "      require([\"vega-embed\"], displayChart, err => showError(`Error loading script: ${err.message}`));\n",
       "    } else if (typeof vegaEmbed === \"function\") {\n",
       "      displayChart(vegaEmbed);\n",
       "    } else {\n",
       "      loadScript(\"vega\")\n",
       "        .then(() => loadScript(\"vega-lite\"))\n",
       "        .then(() => loadScript(\"vega-embed\"))\n",
       "        .catch(showError)\n",
       "        .then(() => displayChart(vegaEmbed));\n",
       "    }\n",
       "  })({\"config\": {\"view\": {\"continuousWidth\": 400, \"continuousHeight\": 300}}, \"data\": {\"url\": \"https://raw.githubusercontent.com/idjotherwise/nlp-otherwise/master/data_sets/european_covid.csv\"}, \"mark\": \"line\", \"encoding\": {\"color\": {\"type\": \"nominal\", \"field\": \"id\", \"legend\": {\"title\": \"Countries\"}}, \"opacity\": {\"condition\": {\"value\": 1, \"selection\": \"selector001\"}, \"value\": 0.2}, \"tooltip\": [{\"type\": \"nominal\", \"field\": \"id\"}, {\"type\": \"quantitative\", \"field\": \"vaccines_per\"}], \"x\": {\"type\": \"temporal\", \"axis\": {\"title\": \"Date\"}, \"field\": \"date\", \"timeUnit\": \"yearmonthdate\"}, \"y\": {\"type\": \"quantitative\", \"axis\": {\"title\": \"Number of vaccines given\"}, \"field\": \"vaccines_per\"}}, \"selection\": {\"selector001\": {\"type\": \"multi\", \"fields\": [\"id\"], \"bind\": \"legend\"}, \"selector005\": {\"type\": \"interval\", \"bind\": \"scales\", \"encodings\": [\"x\", \"y\"]}}, \"title\": \"Number of vaccines given\", \"transform\": [{\"filter\": \"(datum.vaccines_per > 0)\"}], \"width\": 600, \"$schema\": \"https://vega.github.io/schema/vega-lite/v4.8.1.json\"}, {\"mode\": \"vega-lite\"});\n",
       "</script>"
      ],
      "text/plain": [
       "alt.Chart(...)"
      ]
     },
     "execution_count": 7,
     "metadata": {},
     "output_type": "execute_result"
    }
   ],
   "source": [
    "#collapse\n",
    "alt.Chart(x_small_url).mark_line().transform_filter(alt.datum.vaccines_per>0).encode(\n",
    "    x=alt.X(\"yearmonthdate(date):T\", axis=alt.Axis(title='Date')),\n",
    "    y=alt.Y(\"vaccines_per:Q\", axis=alt.Axis(title='Number of vaccines given')),\n",
    "    tooltip=['id:N', 'vaccines_per:Q'],\n",
    "    color=alt.Color('id:N', legend=alt.Legend(title=\"Countries\")),\n",
    "    opacity=alt.condition(leg_selection, alt.value(1), alt.value(0.2))\n",
    ").add_selection(leg_selection).properties(title='Number of vaccines given', width=600).interactive()"
   ]
  }
 ],
 "metadata": {
  "kernelspec": {
   "display_name": "Python 3",
   "language": "python",
   "name": "python3"
  },
  "language_info": {
   "codemirror_mode": {
    "name": "ipython",
    "version": 3
   },
   "file_extension": ".py",
   "mimetype": "text/x-python",
   "name": "python",
   "nbconvert_exporter": "python",
   "pygments_lexer": "ipython3",
   "version": "3.7.13"
  },
  "papermill": {
   "default_parameters": {},
   "duration": 2.750423,
   "end_time": "2022-09-01T14:14:52.994776",
   "environment_variables": {},
   "exception": null,
   "input_path": "2021-02-21-european-covid.ipynb",
   "output_path": "2021-02-21-european-covid.ipynb",
   "parameters": {},
   "start_time": "2022-09-01T14:14:50.244353",
   "version": "2.2.2"
  },
  "varInspector": {
   "cols": {
    "lenName": 16,
    "lenType": 16,
    "lenVar": 40
   },
   "kernels_config": {
    "python": {
     "delete_cmd_postfix": "",
     "delete_cmd_prefix": "del ",
     "library": "var_list.py",
     "varRefreshCmd": "print(var_dic_list())"
    },
    "r": {
     "delete_cmd_postfix": ") ",
     "delete_cmd_prefix": "rm(",
     "library": "var_list.r",
     "varRefreshCmd": "cat(var_dic_list()) "
    }
   },
   "types_to_exclude": [
    "module",
    "function",
    "builtin_function_or_method",
    "instance",
    "_Feature"
   ],
   "window_display": false
  }
 },
 "nbformat": 4,
 "nbformat_minor": 5
}