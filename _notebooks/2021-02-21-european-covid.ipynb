{
 "cells": [
  {
   "cell_type": "markdown",
   "id": "26ecbc00",
   "metadata": {
    "ExecuteTime": {
     "end_time": "2021-02-21T18:05:31.321700Z",
     "start_time": "2021-02-21T18:05:31.315068Z"
    },
    "papermill": {
     "duration": 0.011787,
     "end_time": "2022-06-04T14:12:58.172520",
     "exception": false,
     "start_time": "2022-06-04T14:12:58.160733",
     "status": "completed"
    },
    "tags": []
   },
   "source": [
    "# \"European Covid data exploration\"\n",
    "> \"Exploring which countries have had the highest and lowest covid numbers in Europe\"\n",
    "\n",
    "- toc: true\n",
    "- branch: master\n",
    "- badges: true\n",
    "- comments: false\n",
    "- author: Ifan Johnston\n",
    "- categories: [covid]"
   ]
  },
  {
   "cell_type": "markdown",
   "id": "f5567209",
   "metadata": {
    "papermill": {
     "duration": 0.009622,
     "end_time": "2022-06-04T14:12:58.192212",
     "exception": false,
     "start_time": "2022-06-04T14:12:58.182590",
     "status": "completed"
    },
    "tags": []
   },
   "source": [
    "# Importing and preparing the data\n",
    "\n",
    "We will be looking at data from the following countries:\n",
    "\n",
    "- Italy\n",
    "- Austria\n",
    "- Germany\n",
    "- Belgium\n",
    "- France\n",
    "- United Kingdom\n",
    "- Portugal\n",
    "\n",
    "We begin by importing the data, and adding some new features so that we can compare the data from different countries. For example we calculate 'confirmed cases per 100k population', 'deaths per 100k' and 'new cases' since these are not initially in the dataset. This data is collected and preprocessed in [this file](https://github.com/idjotherwise/nlp-otherwise/blob/master/src/update_datasets.py)."
   ]
  },
  {
   "cell_type": "code",
   "execution_count": 1,
   "id": "487a80d9",
   "metadata": {
    "ExecuteTime": {
     "end_time": "2021-11-07T14:31:02.789723Z",
     "start_time": "2021-11-07T14:31:02.786713Z"
    },
    "execution": {
     "iopub.execute_input": "2022-06-04T14:12:58.219086Z",
     "iopub.status.busy": "2022-06-04T14:12:58.218575Z",
     "iopub.status.idle": "2022-06-04T14:12:58.582536Z",
     "shell.execute_reply": "2022-06-04T14:12:58.581949Z"
    },
    "papermill": {
     "duration": 0.380945,
     "end_time": "2022-06-04T14:12:58.582672",
     "exception": false,
     "start_time": "2022-06-04T14:12:58.201727",
     "status": "completed"
    },
    "tags": []
   },
   "outputs": [],
   "source": [
    "#collapse\n",
    "\n",
    "import altair as alt\n",
    "import pandas as pd\n",
    "\n",
    "x_small_url = \"https://raw.githubusercontent.com/idjotherwise/nlp-otherwise/master/data_sets/european_covid.csv\""
   ]
  },
  {
   "cell_type": "markdown",
   "id": "21fbc9b2",
   "metadata": {
    "papermill": {
     "duration": 0.009669,
     "end_time": "2022-06-04T14:12:58.602321",
     "exception": false,
     "start_time": "2022-06-04T14:12:58.592652",
     "status": "completed"
    },
    "tags": []
   },
   "source": [
    "Here is a random sample of 5 rows from the dataset."
   ]
  },
  {
   "cell_type": "code",
   "execution_count": 2,
   "id": "75678edc",
   "metadata": {
    "ExecuteTime": {
     "end_time": "2021-11-07T14:31:21.068843Z",
     "start_time": "2021-11-07T14:31:21.016816Z"
    },
    "execution": {
     "iopub.execute_input": "2022-06-04T14:12:58.626693Z",
     "iopub.status.busy": "2022-06-04T14:12:58.626183Z",
     "iopub.status.idle": "2022-06-04T14:12:58.864271Z",
     "shell.execute_reply": "2022-06-04T14:12:58.863801Z"
    },
    "papermill": {
     "duration": 0.252511,
     "end_time": "2022-06-04T14:12:58.864388",
     "exception": false,
     "start_time": "2022-06-04T14:12:58.611877",
     "status": "completed"
    },
    "tags": []
   },
   "outputs": [
    {
     "data": {
      "text/html": [
       "<div>\n",
       "<style scoped>\n",
       "    .dataframe tbody tr th:only-of-type {\n",
       "        vertical-align: middle;\n",
       "    }\n",
       "\n",
       "    .dataframe tbody tr th {\n",
       "        vertical-align: top;\n",
       "    }\n",
       "\n",
       "    .dataframe thead th {\n",
       "        text-align: right;\n",
       "    }\n",
       "</style>\n",
       "<table border=\"1\" class=\"dataframe\">\n",
       "  <thead>\n",
       "    <tr style=\"text-align: right;\">\n",
       "      <th></th>\n",
       "      <th>id</th>\n",
       "      <th>date</th>\n",
       "      <th>vaccines</th>\n",
       "      <th>confirmed</th>\n",
       "      <th>tests</th>\n",
       "      <th>recovered</th>\n",
       "      <th>deaths</th>\n",
       "      <th>population</th>\n",
       "      <th>confirmed_per</th>\n",
       "      <th>deaths_per</th>\n",
       "      <th>ratio</th>\n",
       "      <th>tests_per</th>\n",
       "      <th>vaccines_per</th>\n",
       "      <th>new_cases</th>\n",
       "      <th>new_cases_per</th>\n",
       "    </tr>\n",
       "  </thead>\n",
       "  <tbody>\n",
       "    <tr>\n",
       "      <th>4714</th>\n",
       "      <td>Austria</td>\n",
       "      <td>2021-06-28</td>\n",
       "      <td>7713535.0</td>\n",
       "      <td>645947.0</td>\n",
       "      <td>54454062.0</td>\n",
       "      <td>628740.0</td>\n",
       "      <td>13053.0</td>\n",
       "      <td>8840521.0</td>\n",
       "      <td>7306.662130</td>\n",
       "      <td>147.649669</td>\n",
       "      <td>2.020754</td>\n",
       "      <td>615959.873858</td>\n",
       "      <td>0.872520</td>\n",
       "      <td>93.0</td>\n",
       "      <td>1.051974</td>\n",
       "    </tr>\n",
       "    <tr>\n",
       "      <th>6342</th>\n",
       "      <td>Switzerland</td>\n",
       "      <td>2021-04-06</td>\n",
       "      <td>1672840.0</td>\n",
       "      <td>610850.0</td>\n",
       "      <td>5868819.0</td>\n",
       "      <td>NaN</td>\n",
       "      <td>9988.0</td>\n",
       "      <td>8513227.0</td>\n",
       "      <td>7175.304970</td>\n",
       "      <td>117.323313</td>\n",
       "      <td>1.635099</td>\n",
       "      <td>68937.654311</td>\n",
       "      <td>0.196499</td>\n",
       "      <td>2690.0</td>\n",
       "      <td>31.597889</td>\n",
       "    </tr>\n",
       "    <tr>\n",
       "      <th>6270</th>\n",
       "      <td>Switzerland</td>\n",
       "      <td>2021-01-24</td>\n",
       "      <td>195623.0</td>\n",
       "      <td>511565.0</td>\n",
       "      <td>3802102.0</td>\n",
       "      <td>NaN</td>\n",
       "      <td>8945.0</td>\n",
       "      <td>8513227.0</td>\n",
       "      <td>6009.060959</td>\n",
       "      <td>105.071790</td>\n",
       "      <td>1.748556</td>\n",
       "      <td>44661.113817</td>\n",
       "      <td>0.022979</td>\n",
       "      <td>731.0</td>\n",
       "      <td>8.586638</td>\n",
       "    </tr>\n",
       "    <tr>\n",
       "      <th>645</th>\n",
       "      <td>Italy</td>\n",
       "      <td>2021-11-30</td>\n",
       "      <td>96689976.0</td>\n",
       "      <td>5028547.0</td>\n",
       "      <td>119331735.0</td>\n",
       "      <td>4700449.0</td>\n",
       "      <td>133828.0</td>\n",
       "      <td>60421760.0</td>\n",
       "      <td>8322.410668</td>\n",
       "      <td>221.489741</td>\n",
       "      <td>2.661365</td>\n",
       "      <td>197497.946104</td>\n",
       "      <td>1.600251</td>\n",
       "      <td>12757.0</td>\n",
       "      <td>21.113255</td>\n",
       "    </tr>\n",
       "    <tr>\n",
       "      <th>1946</th>\n",
       "      <td>Portugal</td>\n",
       "      <td>2020-11-05</td>\n",
       "      <td>NaN</td>\n",
       "      <td>161350.0</td>\n",
       "      <td>3667727.0</td>\n",
       "      <td>91453.0</td>\n",
       "      <td>2740.0</td>\n",
       "      <td>10283822.0</td>\n",
       "      <td>1568.969202</td>\n",
       "      <td>26.643791</td>\n",
       "      <td>1.698172</td>\n",
       "      <td>35665.018317</td>\n",
       "      <td>NaN</td>\n",
       "      <td>4410.0</td>\n",
       "      <td>42.882889</td>\n",
       "    </tr>\n",
       "  </tbody>\n",
       "</table>\n",
       "</div>"
      ],
      "text/plain": [
       "               id        date    vaccines  confirmed        tests  recovered  \\\n",
       "4714      Austria  2021-06-28   7713535.0   645947.0   54454062.0   628740.0   \n",
       "6342  Switzerland  2021-04-06   1672840.0   610850.0    5868819.0        NaN   \n",
       "6270  Switzerland  2021-01-24    195623.0   511565.0    3802102.0        NaN   \n",
       "645         Italy  2021-11-30  96689976.0  5028547.0  119331735.0  4700449.0   \n",
       "1946     Portugal  2020-11-05         NaN   161350.0    3667727.0    91453.0   \n",
       "\n",
       "        deaths  population  confirmed_per  deaths_per     ratio  \\\n",
       "4714   13053.0   8840521.0    7306.662130  147.649669  2.020754   \n",
       "6342    9988.0   8513227.0    7175.304970  117.323313  1.635099   \n",
       "6270    8945.0   8513227.0    6009.060959  105.071790  1.748556   \n",
       "645   133828.0  60421760.0    8322.410668  221.489741  2.661365   \n",
       "1946    2740.0  10283822.0    1568.969202   26.643791  1.698172   \n",
       "\n",
       "          tests_per  vaccines_per  new_cases  new_cases_per  \n",
       "4714  615959.873858      0.872520       93.0       1.051974  \n",
       "6342   68937.654311      0.196499     2690.0      31.597889  \n",
       "6270   44661.113817      0.022979      731.0       8.586638  \n",
       "645   197497.946104      1.600251    12757.0      21.113255  \n",
       "1946   35665.018317           NaN     4410.0      42.882889  "
      ]
     },
     "execution_count": 2,
     "metadata": {},
     "output_type": "execute_result"
    }
   ],
   "source": [
    "x_small = pd.read_csv(x_small_url)\n",
    "x_small.sample(5)"
   ]
  },
  {
   "cell_type": "markdown",
   "id": "91ca47be",
   "metadata": {
    "papermill": {
     "duration": 0.009923,
     "end_time": "2022-06-04T14:12:58.884582",
     "exception": false,
     "start_time": "2022-06-04T14:12:58.874659",
     "status": "completed"
    },
    "tags": []
   },
   "source": [
    "# Plotting the data"
   ]
  },
  {
   "cell_type": "markdown",
   "id": "f17ae2dc",
   "metadata": {
    "papermill": {
     "duration": 0.009803,
     "end_time": "2022-06-04T14:12:58.904298",
     "exception": false,
     "start_time": "2022-06-04T14:12:58.894495",
     "status": "completed"
    },
    "tags": []
   },
   "source": [
    "We will first look at the total numbers of cases and deaths in each country, before moving on to cases and deaths per 100k population.\n",
    "\n",
    "{% include info.html text=\"In each of the charts below, you can click on the legend to filter the lines shown\" %}"
   ]
  },
  {
   "cell_type": "markdown",
   "id": "fbb461ff",
   "metadata": {
    "papermill": {
     "duration": 0.009874,
     "end_time": "2022-06-04T14:12:58.924074",
     "exception": false,
     "start_time": "2022-06-04T14:12:58.914200",
     "status": "completed"
    },
    "tags": []
   },
   "source": [
    "## Total cases per 100,000"
   ]
  },
  {
   "cell_type": "code",
   "execution_count": 3,
   "id": "b78bd9bb",
   "metadata": {
    "ExecuteTime": {
     "end_time": "2021-11-07T14:33:29.184599Z",
     "start_time": "2021-11-07T14:33:29.133602Z"
    },
    "execution": {
     "iopub.execute_input": "2022-06-04T14:12:58.972003Z",
     "iopub.status.busy": "2022-06-04T14:12:58.956652Z",
     "iopub.status.idle": "2022-06-04T14:12:58.985273Z",
     "shell.execute_reply": "2022-06-04T14:12:58.985670Z"
    },
    "papermill": {
     "duration": 0.051815,
     "end_time": "2022-06-04T14:12:58.985834",
     "exception": false,
     "start_time": "2022-06-04T14:12:58.934019",
     "status": "completed"
    },
    "tags": []
   },
   "outputs": [
    {
     "data": {
      "text/html": [
       "\n",
       "<div id=\"altair-viz-d082e87eabde4e8289072b0aecb6128c\"></div>\n",
       "<script type=\"text/javascript\">\n",
       "  (function(spec, embedOpt){\n",
       "    let outputDiv = document.currentScript.previousElementSibling;\n",
       "    if (outputDiv.id !== \"altair-viz-d082e87eabde4e8289072b0aecb6128c\") {\n",
       "      outputDiv = document.getElementById(\"altair-viz-d082e87eabde4e8289072b0aecb6128c\");\n",
       "    }\n",
       "    const paths = {\n",
       "      \"vega\": \"https://cdn.jsdelivr.net/npm//vega@5?noext\",\n",
       "      \"vega-lib\": \"https://cdn.jsdelivr.net/npm//vega-lib?noext\",\n",
       "      \"vega-lite\": \"https://cdn.jsdelivr.net/npm//vega-lite@4.8.1?noext\",\n",
       "      \"vega-embed\": \"https://cdn.jsdelivr.net/npm//vega-embed@6?noext\",\n",
       "    };\n",
       "\n",
       "    function loadScript(lib) {\n",
       "      return new Promise(function(resolve, reject) {\n",
       "        var s = document.createElement('script');\n",
       "        s.src = paths[lib];\n",
       "        s.async = true;\n",
       "        s.onload = () => resolve(paths[lib]);\n",
       "        s.onerror = () => reject(`Error loading script: ${paths[lib]}`);\n",
       "        document.getElementsByTagName(\"head\")[0].appendChild(s);\n",
       "      });\n",
       "    }\n",
       "\n",
       "    function showError(err) {\n",
       "      outputDiv.innerHTML = `<div class=\"error\" style=\"color:red;\">${err}</div>`;\n",
       "      throw err;\n",
       "    }\n",
       "\n",
       "    function displayChart(vegaEmbed) {\n",
       "      vegaEmbed(outputDiv, spec, embedOpt)\n",
       "        .catch(err => showError(`Javascript Error: ${err.message}<br>This usually means there's a typo in your chart specification. See the javascript console for the full traceback.`));\n",
       "    }\n",
       "\n",
       "    if(typeof define === \"function\" && define.amd) {\n",
       "      requirejs.config({paths});\n",
       "      require([\"vega-embed\"], displayChart, err => showError(`Error loading script: ${err.message}`));\n",
       "    } else if (typeof vegaEmbed === \"function\") {\n",
       "      displayChart(vegaEmbed);\n",
       "    } else {\n",
       "      loadScript(\"vega\")\n",
       "        .then(() => loadScript(\"vega-lite\"))\n",
       "        .then(() => loadScript(\"vega-embed\"))\n",
       "        .catch(showError)\n",
       "        .then(() => displayChart(vegaEmbed));\n",
       "    }\n",
       "  })({\"config\": {\"view\": {\"continuousWidth\": 400, \"continuousHeight\": 300}}, \"data\": {\"url\": \"https://raw.githubusercontent.com/idjotherwise/nlp-otherwise/master/data_sets/european_covid.csv\"}, \"mark\": \"line\", \"encoding\": {\"color\": {\"type\": \"nominal\", \"field\": \"id\", \"legend\": {\"title\": \"Countries\"}}, \"opacity\": {\"condition\": {\"value\": 1, \"selection\": \"selector001\"}, \"value\": 0.2}, \"tooltip\": [{\"type\": \"nominal\", \"field\": \"id\"}, {\"type\": \"quantitative\", \"field\": \"confirmed_per\"}], \"x\": {\"type\": \"temporal\", \"axis\": {\"title\": \"Date\"}, \"field\": \"date\", \"timeUnit\": \"yearmonthdate\"}, \"y\": {\"type\": \"quantitative\", \"axis\": {\"title\": \"Confirmed per 100k\"}, \"field\": \"confirmed_per\"}}, \"selection\": {\"selector001\": {\"type\": \"multi\", \"fields\": [\"id\"], \"bind\": \"legend\"}, \"selector002\": {\"type\": \"interval\", \"bind\": \"scales\", \"encodings\": [\"x\", \"y\"]}}, \"title\": \"Total number of cases per 100,000 population for selected European Countries\", \"transform\": [{\"filter\": \"(datum.confirmed_per > 0)\"}], \"width\": 600, \"$schema\": \"https://vega.github.io/schema/vega-lite/v4.8.1.json\"}, {\"mode\": \"vega-lite\"});\n",
       "</script>"
      ],
      "text/plain": [
       "alt.Chart(...)"
      ]
     },
     "execution_count": 3,
     "metadata": {},
     "output_type": "execute_result"
    }
   ],
   "source": [
    "#collapse\n",
    "\n",
    "leg_selection = alt.selection_multi(fields=['id'], bind='legend')\n",
    "\n",
    "alt.Chart(x_small_url).mark_line().encode(\n",
    "    x=alt.X(\"yearmonthdate(date):T\", axis=alt.Axis(title='Date')),\n",
    "    y=alt.Y(\"confirmed_per:Q\", axis=alt.Axis(title='Confirmed per 100k')),\n",
    "    tooltip=['id:N', 'confirmed_per:Q'],\n",
    "    color=alt.Color('id:N', legend=alt.Legend(title=\"Countries\")),\n",
    "    opacity=alt.condition(leg_selection, alt.value(1), alt.value(0.2))\n",
    ").transform_filter(alt.datum.confirmed_per>0).add_selection(leg_selection).properties(title='Total number of cases per 100,000 population for selected European Countries', width=600).interactive()\n"
   ]
  },
  {
   "cell_type": "markdown",
   "id": "c86ee094",
   "metadata": {
    "papermill": {
     "duration": 0.010435,
     "end_time": "2022-06-04T14:12:59.006915",
     "exception": false,
     "start_time": "2022-06-04T14:12:58.996480",
     "status": "completed"
    },
    "tags": []
   },
   "source": [
    "## Total deaths per 100,000"
   ]
  },
  {
   "cell_type": "code",
   "execution_count": 4,
   "id": "2b81238d",
   "metadata": {
    "ExecuteTime": {
     "end_time": "2021-11-07T14:34:56.819563Z",
     "start_time": "2021-11-07T14:34:56.766129Z"
    },
    "execution": {
     "iopub.execute_input": "2022-06-04T14:12:59.064111Z",
     "iopub.status.busy": "2022-06-04T14:12:59.045139Z",
     "iopub.status.idle": "2022-06-04T14:12:59.066571Z",
     "shell.execute_reply": "2022-06-04T14:12:59.067023Z"
    },
    "papermill": {
     "duration": 0.049989,
     "end_time": "2022-06-04T14:12:59.067180",
     "exception": false,
     "start_time": "2022-06-04T14:12:59.017191",
     "status": "completed"
    },
    "tags": []
   },
   "outputs": [
    {
     "data": {
      "text/html": [
       "\n",
       "<div id=\"altair-viz-ffa9314635054a699f78e8aa95b715b1\"></div>\n",
       "<script type=\"text/javascript\">\n",
       "  (function(spec, embedOpt){\n",
       "    let outputDiv = document.currentScript.previousElementSibling;\n",
       "    if (outputDiv.id !== \"altair-viz-ffa9314635054a699f78e8aa95b715b1\") {\n",
       "      outputDiv = document.getElementById(\"altair-viz-ffa9314635054a699f78e8aa95b715b1\");\n",
       "    }\n",
       "    const paths = {\n",
       "      \"vega\": \"https://cdn.jsdelivr.net/npm//vega@5?noext\",\n",
       "      \"vega-lib\": \"https://cdn.jsdelivr.net/npm//vega-lib?noext\",\n",
       "      \"vega-lite\": \"https://cdn.jsdelivr.net/npm//vega-lite@4.8.1?noext\",\n",
       "      \"vega-embed\": \"https://cdn.jsdelivr.net/npm//vega-embed@6?noext\",\n",
       "    };\n",
       "\n",
       "    function loadScript(lib) {\n",
       "      return new Promise(function(resolve, reject) {\n",
       "        var s = document.createElement('script');\n",
       "        s.src = paths[lib];\n",
       "        s.async = true;\n",
       "        s.onload = () => resolve(paths[lib]);\n",
       "        s.onerror = () => reject(`Error loading script: ${paths[lib]}`);\n",
       "        document.getElementsByTagName(\"head\")[0].appendChild(s);\n",
       "      });\n",
       "    }\n",
       "\n",
       "    function showError(err) {\n",
       "      outputDiv.innerHTML = `<div class=\"error\" style=\"color:red;\">${err}</div>`;\n",
       "      throw err;\n",
       "    }\n",
       "\n",
       "    function displayChart(vegaEmbed) {\n",
       "      vegaEmbed(outputDiv, spec, embedOpt)\n",
       "        .catch(err => showError(`Javascript Error: ${err.message}<br>This usually means there's a typo in your chart specification. See the javascript console for the full traceback.`));\n",
       "    }\n",
       "\n",
       "    if(typeof define === \"function\" && define.amd) {\n",
       "      requirejs.config({paths});\n",
       "      require([\"vega-embed\"], displayChart, err => showError(`Error loading script: ${err.message}`));\n",
       "    } else if (typeof vegaEmbed === \"function\") {\n",
       "      displayChart(vegaEmbed);\n",
       "    } else {\n",
       "      loadScript(\"vega\")\n",
       "        .then(() => loadScript(\"vega-lite\"))\n",
       "        .then(() => loadScript(\"vega-embed\"))\n",
       "        .catch(showError)\n",
       "        .then(() => displayChart(vegaEmbed));\n",
       "    }\n",
       "  })({\"config\": {\"view\": {\"continuousWidth\": 400, \"continuousHeight\": 300}}, \"data\": {\"url\": \"https://raw.githubusercontent.com/idjotherwise/nlp-otherwise/master/data_sets/european_covid.csv\"}, \"mark\": \"line\", \"encoding\": {\"color\": {\"type\": \"nominal\", \"field\": \"id\", \"legend\": {\"title\": \"Countries\"}}, \"opacity\": {\"condition\": {\"value\": 1, \"selection\": \"selector001\"}, \"value\": 0.2}, \"tooltip\": [{\"type\": \"nominal\", \"field\": \"id\"}, {\"type\": \"quantitative\", \"field\": \"deaths_per\"}, {\"type\": \"temporal\", \"field\": \"date\", \"timeUnit\": \"yearmonthdate\"}], \"x\": {\"type\": \"temporal\", \"axis\": {\"title\": \"Date\"}, \"field\": \"date\", \"timeUnit\": \"yearmonthdate\"}, \"y\": {\"type\": \"quantitative\", \"axis\": {\"title\": \"Deaths per 100k\"}, \"field\": \"deaths_per\", \"impute\": {\"value\": 50}}}, \"selection\": {\"selector001\": {\"type\": \"multi\", \"fields\": [\"id\"], \"bind\": \"legend\"}, \"selector003\": {\"type\": \"interval\", \"bind\": \"scales\", \"encodings\": [\"x\", \"y\"]}}, \"title\": \"Number of deaths per 100,000 population for selected European Countries\", \"transform\": [{\"filter\": \"(datum.deaths_per > 0)\"}], \"width\": 600, \"$schema\": \"https://vega.github.io/schema/vega-lite/v4.8.1.json\"}, {\"mode\": \"vega-lite\"});\n",
       "</script>"
      ],
      "text/plain": [
       "alt.Chart(...)"
      ]
     },
     "execution_count": 4,
     "metadata": {},
     "output_type": "execute_result"
    }
   ],
   "source": [
    "#collapse\n",
    "alt.Chart(x_small_url).mark_line().encode(\n",
    "    x=alt.X(\"yearmonthdate(date):T\", axis=alt.Axis(title='Date')),\n",
    "    y=alt.Y(\"deaths_per:Q\", axis=alt.Axis(title='Deaths per 100k'), impute=alt.ImputeParams(value=50)),\n",
    "    tooltip=[\"id:N\", \"deaths_per:Q\", \"yearmonthdate(date):T\"],\n",
    "    color=alt.Color('id:N', legend=alt.Legend(title=\"Countries\")),\n",
    "    opacity=alt.condition(leg_selection, alt.value(1), alt.value(0.2))\n",
    ").transform_filter(alt.datum.deaths_per>0).add_selection(leg_selection).properties(title='Number of deaths per 100,000 population for selected European Countries', width=600).interactive()"
   ]
  },
  {
   "cell_type": "markdown",
   "id": "ff216a63",
   "metadata": {
    "papermill": {
     "duration": 0.010688,
     "end_time": "2022-06-04T14:12:59.089381",
     "exception": false,
     "start_time": "2022-06-04T14:12:59.078693",
     "status": "completed"
    },
    "tags": []
   },
   "source": [
    "## Two week incidence rate"
   ]
  },
  {
   "cell_type": "code",
   "execution_count": 5,
   "id": "e352d090",
   "metadata": {
    "ExecuteTime": {
     "end_time": "2021-11-07T14:37:17.617319Z",
     "start_time": "2021-11-07T14:37:17.512572Z"
    },
    "execution": {
     "iopub.execute_input": "2022-06-04T14:12:59.128829Z",
     "iopub.status.busy": "2022-06-04T14:12:59.118615Z",
     "iopub.status.idle": "2022-06-04T14:12:59.159960Z",
     "shell.execute_reply": "2022-06-04T14:12:59.160401Z"
    },
    "papermill": {
     "duration": 0.060291,
     "end_time": "2022-06-04T14:12:59.160556",
     "exception": false,
     "start_time": "2022-06-04T14:12:59.100265",
     "status": "completed"
    },
    "scrolled": false,
    "tags": []
   },
   "outputs": [
    {
     "data": {
      "text/html": [
       "\n",
       "<div id=\"altair-viz-d98d0828bca1467da9b2383a920f1b8b\"></div>\n",
       "<script type=\"text/javascript\">\n",
       "  (function(spec, embedOpt){\n",
       "    let outputDiv = document.currentScript.previousElementSibling;\n",
       "    if (outputDiv.id !== \"altair-viz-d98d0828bca1467da9b2383a920f1b8b\") {\n",
       "      outputDiv = document.getElementById(\"altair-viz-d98d0828bca1467da9b2383a920f1b8b\");\n",
       "    }\n",
       "    const paths = {\n",
       "      \"vega\": \"https://cdn.jsdelivr.net/npm//vega@5?noext\",\n",
       "      \"vega-lib\": \"https://cdn.jsdelivr.net/npm//vega-lib?noext\",\n",
       "      \"vega-lite\": \"https://cdn.jsdelivr.net/npm//vega-lite@4.8.1?noext\",\n",
       "      \"vega-embed\": \"https://cdn.jsdelivr.net/npm//vega-embed@6?noext\",\n",
       "    };\n",
       "\n",
       "    function loadScript(lib) {\n",
       "      return new Promise(function(resolve, reject) {\n",
       "        var s = document.createElement('script');\n",
       "        s.src = paths[lib];\n",
       "        s.async = true;\n",
       "        s.onload = () => resolve(paths[lib]);\n",
       "        s.onerror = () => reject(`Error loading script: ${paths[lib]}`);\n",
       "        document.getElementsByTagName(\"head\")[0].appendChild(s);\n",
       "      });\n",
       "    }\n",
       "\n",
       "    function showError(err) {\n",
       "      outputDiv.innerHTML = `<div class=\"error\" style=\"color:red;\">${err}</div>`;\n",
       "      throw err;\n",
       "    }\n",
       "\n",
       "    function displayChart(vegaEmbed) {\n",
       "      vegaEmbed(outputDiv, spec, embedOpt)\n",
       "        .catch(err => showError(`Javascript Error: ${err.message}<br>This usually means there's a typo in your chart specification. See the javascript console for the full traceback.`));\n",
       "    }\n",
       "\n",
       "    if(typeof define === \"function\" && define.amd) {\n",
       "      requirejs.config({paths});\n",
       "      require([\"vega-embed\"], displayChart, err => showError(`Error loading script: ${err.message}`));\n",
       "    } else if (typeof vegaEmbed === \"function\") {\n",
       "      displayChart(vegaEmbed);\n",
       "    } else {\n",
       "      loadScript(\"vega\")\n",
       "        .then(() => loadScript(\"vega-lite\"))\n",
       "        .then(() => loadScript(\"vega-embed\"))\n",
       "        .catch(showError)\n",
       "        .then(() => displayChart(vegaEmbed));\n",
       "    }\n",
       "  })({\"config\": {\"view\": {\"continuousWidth\": 400, \"continuousHeight\": 300}}, \"vconcat\": [{\"mark\": \"line\", \"encoding\": {\"color\": {\"type\": \"nominal\", \"field\": \"id\", \"legend\": {\"title\": \"Countries\"}}, \"opacity\": {\"condition\": {\"value\": 1, \"selection\": \"selector001\"}, \"value\": 0.2}, \"tooltip\": [{\"type\": \"nominal\", \"field\": \"id\"}, {\"type\": \"quantitative\", \"field\": \"rolling_mean\"}], \"x\": {\"type\": \"temporal\", \"axis\": {\"title\": \"Date\"}, \"field\": \"date\", \"scale\": {\"domain\": {\"selection\": \"selector004\"}}, \"timeUnit\": \"yearmonthdate\"}, \"y\": {\"type\": \"quantitative\", \"axis\": {\"title\": \"Incidence rate\"}, \"field\": \"rolling_mean\"}}, \"height\": 400, \"selection\": {\"selector001\": {\"type\": \"multi\", \"fields\": [\"id\"], \"bind\": \"legend\"}}, \"title\": \"Number of new cases per 100,000 over two weeks for selected countries\", \"transform\": [{\"filter\": \"(datum.new_cases_per > 0)\"}, {\"window\": [{\"op\": \"sum\", \"field\": \"new_cases_per\", \"as\": \"rolling_mean\"}], \"frame\": [-14, 0], \"groupby\": [\"id:N\"]}], \"width\": 600}, {\"mark\": \"line\", \"encoding\": {\"color\": {\"type\": \"nominal\", \"field\": \"id\", \"legend\": {\"title\": \"Countries\"}}, \"opacity\": {\"condition\": {\"value\": 1, \"selection\": \"selector001\"}, \"value\": 0.2}, \"tooltip\": [{\"type\": \"nominal\", \"field\": \"id\"}, {\"type\": \"quantitative\", \"field\": \"rolling_mean\"}], \"x\": {\"type\": \"temporal\", \"axis\": {\"title\": \"Date\"}, \"field\": \"date\", \"timeUnit\": \"yearmonthdate\"}, \"y\": {\"type\": \"quantitative\", \"axis\": {\"title\": \"Incidence rate\"}, \"field\": \"rolling_mean\"}}, \"height\": 60, \"selection\": {\"selector001\": {\"type\": \"multi\", \"fields\": [\"id\"], \"bind\": \"legend\"}, \"selector004\": {\"type\": \"interval\", \"encodings\": [\"x\"]}}, \"title\": \"Number of new cases per 100,000 over two weeks for selected countries\", \"transform\": [{\"filter\": \"(datum.new_cases_per > 0)\"}, {\"window\": [{\"op\": \"sum\", \"field\": \"new_cases_per\", \"as\": \"rolling_mean\"}], \"frame\": [-14, 0], \"groupby\": [\"id:N\"]}], \"width\": 600}], \"data\": {\"url\": \"https://raw.githubusercontent.com/idjotherwise/nlp-otherwise/master/data_sets/european_covid.csv\"}, \"$schema\": \"https://vega.github.io/schema/vega-lite/v4.8.1.json\"}, {\"mode\": \"vega-lite\"});\n",
       "</script>"
      ],
      "text/plain": [
       "alt.VConcatChart(...)"
      ]
     },
     "execution_count": 5,
     "metadata": {},
     "output_type": "execute_result"
    }
   ],
   "source": [
    "#collapse\n",
    "brush = alt.selection(type='interval', encodings=['x'])\n",
    "\n",
    "base = alt.Chart(x_small_url).mark_line().transform_filter(alt.datum.new_cases_per>0).transform_window(\n",
    "    rolling_mean='sum(new_cases_per)',\n",
    "    frame=[-14, 0],\n",
    "    groupby=['id:N']\n",
    ").encode(\n",
    "    x=alt.X(\"yearmonthdate(date):T\",\n",
    "            axis=alt.Axis(title='Date')\n",
    "           ),\n",
    "    y=alt.Y(\"rolling_mean:Q\",\n",
    "            axis=alt.Axis(title='Incidence rate')\n",
    "           ),\n",
    "    tooltip=['id:N', 'rolling_mean:Q'],\n",
    "    color=alt.Color('id:N', legend=alt.Legend(title=\"Countries\")),\n",
    "    opacity=alt.condition(leg_selection, alt.value(1), alt.value(0.2))\n",
    ").add_selection(leg_selection).properties(\n",
    "    width=600,\n",
    "    height=400,\n",
    "    title='Number of new cases per 100,000 over two weeks for selected countries'\n",
    ")\n",
    "\n",
    "upper = base.encode(\n",
    "    alt.X('yearmonthdate(date):T',axis=alt.Axis(title='Date'),\n",
    "          scale=alt.Scale(domain=brush))\n",
    ")\n",
    "\n",
    "lower = base.properties(\n",
    "    height=60\n",
    ").add_selection(brush)\n",
    "\n",
    "upper & lower"
   ]
  },
  {
   "cell_type": "markdown",
   "id": "49bc0f04",
   "metadata": {
    "papermill": {
     "duration": 0.011094,
     "end_time": "2022-06-04T14:12:59.183148",
     "exception": false,
     "start_time": "2022-06-04T14:12:59.172054",
     "status": "completed"
    },
    "tags": []
   },
   "source": [
    "The ratio of confirmed cases and deaths gives an indication of what the case fatality rate is - it seems to be between 2 and 3%, assuming that the countries listed here are catching all positive cases (which they probably aren't, so it's likely lower than this)."
   ]
  },
  {
   "cell_type": "markdown",
   "id": "0d96571c",
   "metadata": {
    "papermill": {
     "duration": 0.011141,
     "end_time": "2022-06-04T14:12:59.205530",
     "exception": false,
     "start_time": "2022-06-04T14:12:59.194389",
     "status": "completed"
    },
    "tags": []
   },
   "source": [
    "## Case fatality rate"
   ]
  },
  {
   "cell_type": "code",
   "execution_count": 6,
   "id": "1381df3d",
   "metadata": {
    "ExecuteTime": {
     "end_time": "2021-11-07T14:40:18.149796Z",
     "start_time": "2021-11-07T14:40:18.098057Z"
    },
    "execution": {
     "iopub.execute_input": "2022-06-04T14:12:59.255896Z",
     "iopub.status.busy": "2022-06-04T14:12:59.245651Z",
     "iopub.status.idle": "2022-06-04T14:12:59.263573Z",
     "shell.execute_reply": "2022-06-04T14:12:59.263961Z"
    },
    "papermill": {
     "duration": 0.047231,
     "end_time": "2022-06-04T14:12:59.264106",
     "exception": false,
     "start_time": "2022-06-04T14:12:59.216875",
     "status": "completed"
    },
    "tags": []
   },
   "outputs": [
    {
     "data": {
      "text/html": [
       "\n",
       "<div id=\"altair-viz-4722845706d14358a23e1244e08da75e\"></div>\n",
       "<script type=\"text/javascript\">\n",
       "  (function(spec, embedOpt){\n",
       "    let outputDiv = document.currentScript.previousElementSibling;\n",
       "    if (outputDiv.id !== \"altair-viz-4722845706d14358a23e1244e08da75e\") {\n",
       "      outputDiv = document.getElementById(\"altair-viz-4722845706d14358a23e1244e08da75e\");\n",
       "    }\n",
       "    const paths = {\n",
       "      \"vega\": \"https://cdn.jsdelivr.net/npm//vega@5?noext\",\n",
       "      \"vega-lib\": \"https://cdn.jsdelivr.net/npm//vega-lib?noext\",\n",
       "      \"vega-lite\": \"https://cdn.jsdelivr.net/npm//vega-lite@4.8.1?noext\",\n",
       "      \"vega-embed\": \"https://cdn.jsdelivr.net/npm//vega-embed@6?noext\",\n",
       "    };\n",
       "\n",
       "    function loadScript(lib) {\n",
       "      return new Promise(function(resolve, reject) {\n",
       "        var s = document.createElement('script');\n",
       "        s.src = paths[lib];\n",
       "        s.async = true;\n",
       "        s.onload = () => resolve(paths[lib]);\n",
       "        s.onerror = () => reject(`Error loading script: ${paths[lib]}`);\n",
       "        document.getElementsByTagName(\"head\")[0].appendChild(s);\n",
       "      });\n",
       "    }\n",
       "\n",
       "    function showError(err) {\n",
       "      outputDiv.innerHTML = `<div class=\"error\" style=\"color:red;\">${err}</div>`;\n",
       "      throw err;\n",
       "    }\n",
       "\n",
       "    function displayChart(vegaEmbed) {\n",
       "      vegaEmbed(outputDiv, spec, embedOpt)\n",
       "        .catch(err => showError(`Javascript Error: ${err.message}<br>This usually means there's a typo in your chart specification. See the javascript console for the full traceback.`));\n",
       "    }\n",
       "\n",
       "    if(typeof define === \"function\" && define.amd) {\n",
       "      requirejs.config({paths});\n",
       "      require([\"vega-embed\"], displayChart, err => showError(`Error loading script: ${err.message}`));\n",
       "    } else if (typeof vegaEmbed === \"function\") {\n",
       "      displayChart(vegaEmbed);\n",
       "    } else {\n",
       "      loadScript(\"vega\")\n",
       "        .then(() => loadScript(\"vega-lite\"))\n",
       "        .then(() => loadScript(\"vega-embed\"))\n",
       "        .catch(showError)\n",
       "        .then(() => displayChart(vegaEmbed));\n",
       "    }\n",
       "  })({\"config\": {\"view\": {\"continuousWidth\": 400, \"continuousHeight\": 300}}, \"vconcat\": [{\"mark\": \"line\", \"encoding\": {\"color\": {\"type\": \"nominal\", \"field\": \"id\", \"legend\": {\"title\": \"Countries\"}}, \"opacity\": {\"condition\": {\"value\": 1, \"selection\": \"selector001\"}, \"value\": 0.2}, \"tooltip\": {\"type\": \"nominal\", \"field\": \"id\"}, \"x\": {\"type\": \"temporal\", \"axis\": {\"title\": \"Date\"}, \"field\": \"date\", \"scale\": {\"domain\": {\"selection\": \"selector004\"}}, \"timeUnit\": \"yearmonthdate\"}, \"y\": {\"type\": \"quantitative\", \"axis\": {\"title\": \"Ratio of deaths per case\"}, \"field\": \"ratio\"}}, \"selection\": {\"selector001\": {\"type\": \"multi\", \"fields\": [\"id\"], \"bind\": \"legend\"}}, \"title\": \"The ratio of deaths to confirmed cases (case fatality rate)\", \"transform\": [{\"filter\": \"(datum.ratio > 0)\"}], \"width\": 600}, {\"mark\": \"line\", \"encoding\": {\"color\": {\"type\": \"nominal\", \"field\": \"id\", \"legend\": {\"title\": \"Countries\"}}, \"opacity\": {\"condition\": {\"value\": 1, \"selection\": \"selector001\"}, \"value\": 0.2}, \"tooltip\": {\"type\": \"nominal\", \"field\": \"id\"}, \"x\": {\"type\": \"temporal\", \"axis\": {\"title\": \"Date\"}, \"field\": \"date\", \"timeUnit\": \"yearmonthdate\"}, \"y\": {\"type\": \"quantitative\", \"axis\": {\"title\": \"Ratio of deaths per case\"}, \"field\": \"ratio\"}}, \"height\": 60, \"selection\": {\"selector001\": {\"type\": \"multi\", \"fields\": [\"id\"], \"bind\": \"legend\"}, \"selector004\": {\"type\": \"interval\", \"encodings\": [\"x\"]}}, \"title\": \"The ratio of deaths to confirmed cases (case fatality rate)\", \"transform\": [{\"filter\": \"(datum.ratio > 0)\"}], \"width\": 600}], \"data\": {\"url\": \"https://raw.githubusercontent.com/idjotherwise/nlp-otherwise/master/data_sets/european_covid.csv\"}, \"$schema\": \"https://vega.github.io/schema/vega-lite/v4.8.1.json\"}, {\"mode\": \"vega-lite\"});\n",
       "</script>"
      ],
      "text/plain": [
       "alt.VConcatChart(...)"
      ]
     },
     "execution_count": 6,
     "metadata": {},
     "output_type": "execute_result"
    }
   ],
   "source": [
    "#collapse\n",
    "base = alt.Chart(x_small_url).mark_line().transform_filter(alt.datum.ratio>0).encode(\n",
    "    x=alt.X(\"yearmonthdate(date):T\", axis=alt.Axis(title='Date')),\n",
    "    y=alt.Y(\"ratio:Q\", axis=alt.Axis(title='Ratio of deaths per case')),\n",
    "    tooltip='id:N',\n",
    "    color=alt.Color('id:N', legend=alt.Legend(title=\"Countries\")),\n",
    "opacity=alt.condition(leg_selection, alt.value(1), alt.value(0.2))\n",
    ").add_selection(leg_selection).properties(title='The ratio of deaths to confirmed cases (case fatality rate)', width=600)\n",
    "\n",
    "upper = base.encode(\n",
    "    alt.X('yearmonthdate(date):T',axis=alt.Axis(title='Date'),\n",
    "          scale=alt.Scale(domain=brush))\n",
    ")\n",
    "\n",
    "lower = base.properties(\n",
    "    height=60\n",
    ").add_selection(brush)\n",
    "\n",
    "upper & lower"
   ]
  },
  {
   "cell_type": "markdown",
   "id": "817864b6",
   "metadata": {
    "papermill": {
     "duration": 0.01161,
     "end_time": "2022-06-04T14:12:59.287502",
     "exception": false,
     "start_time": "2022-06-04T14:12:59.275892",
     "status": "completed"
    },
    "tags": []
   },
   "source": [
    "# Vaccines"
   ]
  },
  {
   "cell_type": "markdown",
   "id": "db42f003",
   "metadata": {
    "papermill": {
     "duration": 0.011545,
     "end_time": "2022-06-04T14:12:59.310638",
     "exception": false,
     "start_time": "2022-06-04T14:12:59.299093",
     "status": "completed"
    },
    "tags": []
   },
   "source": [
    "In the chart below we plot the number vaccines given per population - this means that if the number is 1, then the country has given the equivalent of 1 shot for each person in the country. Since not everyone in the countries are eligible to get the vaccine, a ratio of 1 means that many people have recieved two jabs. Note also that some kinds of vaccines (the J&J's [Janssen vaccine](https://www.cdc.gov/coronavirus/2019-ncov/vaccines/different-vaccines/janssen.html), for example) only require 1 shot so the goal is not neccesarily to reach exactly 2 shots per person in the whole country."
   ]
  },
  {
   "cell_type": "code",
   "execution_count": 7,
   "id": "70a61e21",
   "metadata": {
    "ExecuteTime": {
     "end_time": "2021-11-07T14:41:13.331122Z",
     "start_time": "2021-11-07T14:41:13.283828Z"
    },
    "execution": {
     "iopub.execute_input": "2022-06-04T14:12:59.365627Z",
     "iopub.status.busy": "2022-06-04T14:12:59.346587Z",
     "iopub.status.idle": "2022-06-04T14:12:59.368832Z",
     "shell.execute_reply": "2022-06-04T14:12:59.368241Z"
    },
    "papermill": {
     "duration": 0.046604,
     "end_time": "2022-06-04T14:12:59.368950",
     "exception": false,
     "start_time": "2022-06-04T14:12:59.322346",
     "status": "completed"
    },
    "tags": []
   },
   "outputs": [
    {
     "data": {
      "text/html": [
       "\n",
       "<div id=\"altair-viz-0a39475faa504cf1a9a3833e63963e5f\"></div>\n",
       "<script type=\"text/javascript\">\n",
       "  (function(spec, embedOpt){\n",
       "    let outputDiv = document.currentScript.previousElementSibling;\n",
       "    if (outputDiv.id !== \"altair-viz-0a39475faa504cf1a9a3833e63963e5f\") {\n",
       "      outputDiv = document.getElementById(\"altair-viz-0a39475faa504cf1a9a3833e63963e5f\");\n",
       "    }\n",
       "    const paths = {\n",
       "      \"vega\": \"https://cdn.jsdelivr.net/npm//vega@5?noext\",\n",
       "      \"vega-lib\": \"https://cdn.jsdelivr.net/npm//vega-lib?noext\",\n",
       "      \"vega-lite\": \"https://cdn.jsdelivr.net/npm//vega-lite@4.8.1?noext\",\n",
       "      \"vega-embed\": \"https://cdn.jsdelivr.net/npm//vega-embed@6?noext\",\n",
       "    };\n",
       "\n",
       "    function loadScript(lib) {\n",
       "      return new Promise(function(resolve, reject) {\n",
       "        var s = document.createElement('script');\n",
       "        s.src = paths[lib];\n",
       "        s.async = true;\n",
       "        s.onload = () => resolve(paths[lib]);\n",
       "        s.onerror = () => reject(`Error loading script: ${paths[lib]}`);\n",
       "        document.getElementsByTagName(\"head\")[0].appendChild(s);\n",
       "      });\n",
       "    }\n",
       "\n",
       "    function showError(err) {\n",
       "      outputDiv.innerHTML = `<div class=\"error\" style=\"color:red;\">${err}</div>`;\n",
       "      throw err;\n",
       "    }\n",
       "\n",
       "    function displayChart(vegaEmbed) {\n",
       "      vegaEmbed(outputDiv, spec, embedOpt)\n",
       "        .catch(err => showError(`Javascript Error: ${err.message}<br>This usually means there's a typo in your chart specification. See the javascript console for the full traceback.`));\n",
       "    }\n",
       "\n",
       "    if(typeof define === \"function\" && define.amd) {\n",
       "      requirejs.config({paths});\n",
       "      require([\"vega-embed\"], displayChart, err => showError(`Error loading script: ${err.message}`));\n",
       "    } else if (typeof vegaEmbed === \"function\") {\n",
       "      displayChart(vegaEmbed);\n",
       "    } else {\n",
       "      loadScript(\"vega\")\n",
       "        .then(() => loadScript(\"vega-lite\"))\n",
       "        .then(() => loadScript(\"vega-embed\"))\n",
       "        .catch(showError)\n",
       "        .then(() => displayChart(vegaEmbed));\n",
       "    }\n",
       "  })({\"config\": {\"view\": {\"continuousWidth\": 400, \"continuousHeight\": 300}}, \"data\": {\"url\": \"https://raw.githubusercontent.com/idjotherwise/nlp-otherwise/master/data_sets/european_covid.csv\"}, \"mark\": \"line\", \"encoding\": {\"color\": {\"type\": \"nominal\", \"field\": \"id\", \"legend\": {\"title\": \"Countries\"}}, \"opacity\": {\"condition\": {\"value\": 1, \"selection\": \"selector001\"}, \"value\": 0.2}, \"tooltip\": [{\"type\": \"nominal\", \"field\": \"id\"}, {\"type\": \"quantitative\", \"field\": \"vaccines_per\"}], \"x\": {\"type\": \"temporal\", \"axis\": {\"title\": \"Date\"}, \"field\": \"date\", \"timeUnit\": \"yearmonthdate\"}, \"y\": {\"type\": \"quantitative\", \"axis\": {\"title\": \"Number of vaccines given\"}, \"field\": \"vaccines_per\"}}, \"selection\": {\"selector001\": {\"type\": \"multi\", \"fields\": [\"id\"], \"bind\": \"legend\"}, \"selector005\": {\"type\": \"interval\", \"bind\": \"scales\", \"encodings\": [\"x\", \"y\"]}}, \"title\": \"Number of vaccines given\", \"transform\": [{\"filter\": \"(datum.vaccines_per > 0)\"}], \"width\": 600, \"$schema\": \"https://vega.github.io/schema/vega-lite/v4.8.1.json\"}, {\"mode\": \"vega-lite\"});\n",
       "</script>"
      ],
      "text/plain": [
       "alt.Chart(...)"
      ]
     },
     "execution_count": 7,
     "metadata": {},
     "output_type": "execute_result"
    }
   ],
   "source": [
    "#collapse\n",
    "alt.Chart(x_small_url).mark_line().transform_filter(alt.datum.vaccines_per>0).encode(\n",
    "    x=alt.X(\"yearmonthdate(date):T\", axis=alt.Axis(title='Date')),\n",
    "    y=alt.Y(\"vaccines_per:Q\", axis=alt.Axis(title='Number of vaccines given')),\n",
    "    tooltip=['id:N', 'vaccines_per:Q'],\n",
    "    color=alt.Color('id:N', legend=alt.Legend(title=\"Countries\")),\n",
    "    opacity=alt.condition(leg_selection, alt.value(1), alt.value(0.2))\n",
    ").add_selection(leg_selection).properties(title='Number of vaccines given', width=600).interactive()"
   ]
  }
 ],
 "metadata": {
  "kernelspec": {
   "display_name": "Python 3",
   "language": "python",
   "name": "python3"
  },
  "language_info": {
   "codemirror_mode": {
    "name": "ipython",
    "version": 3
   },
   "file_extension": ".py",
   "mimetype": "text/x-python",
   "name": "python",
   "nbconvert_exporter": "python",
   "pygments_lexer": "ipython3",
   "version": "3.7.13"
  },
  "papermill": {
   "default_parameters": {},
   "duration": 2.550899,
   "end_time": "2022-06-04T14:12:59.690586",
   "environment_variables": {},
   "exception": null,
   "input_path": "2021-02-21-european-covid.ipynb",
   "output_path": "2021-02-21-european-covid.ipynb",
   "parameters": {},
   "start_time": "2022-06-04T14:12:57.139687",
   "version": "2.2.2"
  },
  "varInspector": {
   "cols": {
    "lenName": 16,
    "lenType": 16,
    "lenVar": 40
   },
   "kernels_config": {
    "python": {
     "delete_cmd_postfix": "",
     "delete_cmd_prefix": "del ",
     "library": "var_list.py",
     "varRefreshCmd": "print(var_dic_list())"
    },
    "r": {
     "delete_cmd_postfix": ") ",
     "delete_cmd_prefix": "rm(",
     "library": "var_list.r",
     "varRefreshCmd": "cat(var_dic_list()) "
    }
   },
   "types_to_exclude": [
    "module",
    "function",
    "builtin_function_or_method",
    "instance",
    "_Feature"
   ],
   "window_display": false
  }
 },
 "nbformat": 4,
 "nbformat_minor": 5
}